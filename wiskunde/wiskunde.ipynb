{
 "cells": [
  {
   "cell_type": "code",
   "execution_count": 4,
   "id": "e111a605-8eb2-4289-aca6-1f1c2fb8be41",
   "metadata": {},
   "outputs": [
    {
     "ename": "SyntaxError",
     "evalue": "invalid syntax (3941598812.py, line 2)",
     "output_type": "error",
     "traceback": [
      "\u001b[1;36m  Cell \u001b[1;32mIn[4], line 2\u001b[1;36m\u001b[0m\n\u001b[1;33m    python.exe -m pip install --upgrade pip\u001b[0m\n\u001b[1;37m                  ^\u001b[0m\n\u001b[1;31mSyntaxError\u001b[0m\u001b[1;31m:\u001b[0m invalid syntax\n"
     ]
    }
   ],
   "source": [
    "#pip install sympy\n",
    "python.exe -m pip install --upgrade pip"
   ]
  },
  {
   "cell_type": "markdown",
   "id": "4b4e7690-efca-4869-aa41-0e1df6e6ccbd",
   "metadata": {},
   "source": [
    "# 1. Arithmetic Operations\r\n",
    "At the foundation of mathematics are basic arithmetic operations: addition, subtraction, multiplication, and division. These operations are used extensively in data science for tasks like data manipulation, summarization, and basic calculations."
   ]
  },
  {
   "cell_type": "code",
   "execution_count": 1,
   "id": "3013eeda-a479-4fe0-afc6-8c83ad5c0d81",
   "metadata": {},
   "outputs": [
    {
     "name": "stdout",
     "output_type": "stream",
     "text": [
      "Addition: 8\n",
      "Subtraction: 2\n",
      "Multiplication: 15\n",
      "Division: 1.6666666666666667\n"
     ]
    }
   ],
   "source": [
    "# Basic arithmetic operations\n",
    "a = 5\n",
    "b = 3\n",
    "\n",
    "addition = a + b\n",
    "subtraction = a - b\n",
    "multiplication = a * b\n",
    "division = a / b\n",
    "\n",
    "print(\"Addition:\", addition)\n",
    "print(\"Subtraction:\", subtraction)\n",
    "print(\"Multiplication:\", multiplication)\n",
    "print(\"Division:\", division)"
   ]
  },
  {
   "cell_type": "markdown",
   "id": "f64542f5-bf11-4f05-9c47-82d1403d9d7c",
   "metadata": {},
   "source": [
    "# 2. Algebra\n",
    "Algebra involves manipulating symbols and the rules for operations on those symbols. In data science, algebraic concepts are used for tasks like solving equations and linear regression."
   ]
  },
  {
   "cell_type": "code",
   "execution_count": 7,
   "id": "264269a7-0bfb-4bcc-a912-c2bb78aac84c",
   "metadata": {},
   "outputs": [
    {
     "name": "stdout",
     "output_type": "stream",
     "text": [
      "Solution: 5\n"
     ]
    }
   ],
   "source": [
    "# Solving a linear equation: 2x - 7 = 3 \n",
    "# Blijkbaar wordt de = Hieronder ook geschreven als -, ik snap niet waarom.\n",
    "import sympy as sp\n",
    "\n",
    "x = sp.symbols('x')\n",
    "equation = 2*x - 7 - 3\n",
    "solution = sp.solve(equation, x)\n",
    "\n",
    "print(\"Solution:\", solution[0])"
   ]
  },
  {
   "cell_type": "markdown",
   "id": "1f3976d9-c054-4e46-b696-a9a9f7b85f8b",
   "metadata": {},
   "source": [
    "# 3. Probability and Statistics\n",
    "Probability and statistics are fundamental in data science for understanding data distributions, making predictions, and drawing meaningful insights from data."
   ]
  },
  {
   "cell_type": "code",
   "execution_count": 8,
   "id": "3d9b61e0-ef55-447d-a266-88d2a10864db",
   "metadata": {},
   "outputs": [],
   "source": [
    "import numpy as np\n",
    "import scipy.stats as stats\n",
    "\n",
    "# Generate random data\n",
    "data = np.random.normal(0, 1, 1000)\n",
    "\n",
    "# Calculate mean and standard deviation\n",
    "mean = np.mean(data)\n",
    "std_dev = np.std(data)\n",
    "\n",
    "# Fit a normal distribution\n",
    "mu, std = stats.norm.fit(data)"
   ]
  },
  {
   "cell_type": "markdown",
   "id": "1229a29f-46aa-44af-9f73-c872b937ca44",
   "metadata": {},
   "source": [
    "# 4. Linear Algebra\r\n",
    "Linear algebra deals with vectors, matrices, and linear transformations. It plays a crucial role in machine learning, data transformation, and dimensionality reduction."
   ]
  },
  {
   "cell_type": "code",
   "execution_count": 9,
   "id": "26be97a0-9f51-4dd1-9cdc-5ab68a4c1de8",
   "metadata": {},
   "outputs": [
    {
     "name": "stdout",
     "output_type": "stream",
     "text": [
      "Dot Product: 19\n"
     ]
    }
   ],
   "source": [
    "import numpy as np\n",
    "\n",
    "# Define two vectors\n",
    "vector_a = np.array([2, 3, 1])\n",
    "vector_b = np.array([1, 5, 2])\n",
    "\n",
    "# Calculate the dot product\n",
    "dot_product = np.dot(vector_a, vector_b)\n",
    "print(\"Dot Product:\", dot_product)"
   ]
  },
  {
   "cell_type": "markdown",
   "id": "82b78c35-4a02-42f1-8e19-e4e220dff9e8",
   "metadata": {},
   "source": [
    "# 5. Calculus\n",
    "Calculus is essential for understanding optimization algorithms used in machine learning, such as gradient descent. It helps in finding the minimum or maximum of functions, which is vital for training models."
   ]
  },
  {
   "cell_type": "code",
   "execution_count": 10,
   "id": "1e0a9031-a1d9-45b5-84ef-73ff17374b60",
   "metadata": {},
   "outputs": [
    {
     "name": "stdout",
     "output_type": "stream",
     "text": [
      "Derivative: 2*x + 3\n",
      "Minimum: [-3/2]\n"
     ]
    }
   ],
   "source": [
    "import sympy as sp\n",
    "\n",
    "# Define a variable and a function\n",
    "x = sp.symbols('x')\n",
    "f = x**2 + 3*x + 2\n",
    "\n",
    "# Find the derivative\n",
    "f_prime = sp.diff(f, x)\n",
    "print(\"Derivative:\", f_prime)\n",
    "# Solve for the minimum\n",
    "minimum = sp.solve(f_prime, x)\n",
    "print(\"Minimum:\", minimum)"
   ]
  },
  {
   "cell_type": "markdown",
   "id": "1e32c22d-6e36-4bb4-abfe-9b5c81f79491",
   "metadata": {},
   "source": [
    "# 6. Probability Distributions\n",
    "Understanding common probability distributions like normal, binomial, and Poisson is crucial when dealing with uncertainty in data."
   ]
  },
  {
   "cell_type": "code",
   "execution_count": 11,
   "id": "1361b02c-4e1d-42e0-898d-3ce11d4eb352",
   "metadata": {},
   "outputs": [
    {
     "data": {
      "text/plain": [
       "[<matplotlib.lines.Line2D at 0x183fa93e910>]"
      ]
     },
     "execution_count": 11,
     "metadata": {},
     "output_type": "execute_result"
    },
    {
     "data": {
      "image/png": "[encoded data removed]",
      "text/plain": [
       "<Figure size 640x480 with 1 Axes>"
      ]
     },
     "metadata": {},
     "output_type": "display_data"
    }
   ],
   "source": [
    "import numpy as np\n",
    "import matplotlib.pyplot as plt\n",
    "import scipy.stats as stats\n",
    "\n",
    "# Generate data from a normal distribution\n",
    "data = np.random.normal(0, 1, 1000)\n",
    "\n",
    "# Create a histogram\n",
    "plt.hist(data, bins=30, density=True, alpha=0.6, color='g')\n",
    "\n",
    "# Fit a normal distribution to the data\n",
    "mu, std = stats.norm.fit(data)\n",
    "# Plot the PDF of the fitted distribution\n",
    "xmin, xmax = plt.xlim()\n",
    "x = np.linspace(xmin, xmax, 100)\n",
    "p = stats.norm.pdf(x, mu, std)\n",
    "plt.plot(x, p, 'k', linewidth=2)"
   ]
  },
  {
   "cell_type": "code",
   "execution_count": null,
   "id": "f7c61d28-8109-489f-b877-912cbb85ab93",
   "metadata": {},
   "outputs": [],
   "source": []
  }
 ],
 "metadata": {
  "kernelspec": {
   "display_name": "Python 3 (ipykernel)",
   "language": "python",
   "name": "python3"
  },
  "language_info": {
   "codemirror_mode": {
    "name": "ipython",
    "version": 3
   },
   "file_extension": ".py",
   "mimetype": "text/x-python",
   "name": "python",
   "nbconvert_exporter": "python",
   "pygments_lexer": "ipython3",
   "version": "3.11.0"
  }
 },
 "nbformat": 4,
 "nbformat_minor": 5
}
