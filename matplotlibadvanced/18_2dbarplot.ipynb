{
 "cells": [
  {
   "cell_type": "code",
   "execution_count": null,
   "id": "98ffc658-6334-41ae-b2db-fd65a6fbd935",
   "metadata": {},
   "outputs": [],
   "source": [
    "\"\"\"\n",
    "========================================\n",
    "Create 2D bar graphs in different planes\n",
    "========================================\n",
    "Demonstrates making a 3D plot which has 2D bar graphs projected onto\n",
    "planes y=0, y=1, etc.\n",
    "\"\"\"\n",
    "\n",
    "# Import libraries\n",
    "from mpl_toolkits.mplot3d import Axes3D\n",
    "import matplotlib.pyplot as plt\n",
    "from matplotlib.lines import Line2D\n",
    "import numpy as np\n",
    "import pandas as pd\n",
    "\n",
    "# Create figure object\n",
    "fig = plt.figure()\n",
    "\n",
    "# Get the current axes, creating one if necessary.\n",
    "ax = fig.gca(projection='3d')\n",
    "\n",
    "# Get the Property Tax Report dataset\n",
    "# Dataset link: https://data.vancouver.ca/datacatalogue/propertyTax.htm\n",
    "data = pd.read_csv('property_tax_report_2018.csv')\n",
    "\n",
    "# Groupby Zone catrgory and Year built to seperate for each zone\n",
    "newdata = data.groupby(['YEAR_BUILT','ZONE_CATEGORY']).agg('count').reset_index()\n",
    "\n",
    "# Create list of years that are found in all zones that we want to plot\n",
    "years = [1995,2000,2005,2010,2015,2018]\n",
    "\n",
    "# Create list of Zone categoreis that we want to plot\n",
    "categories = ['One Family Dwelling', 'Multiple Family Dwelling', 'Comprehensive Development']\n",
    "\n",
    "# Plot bar plot for each category\n",
    "for cat,z,c in zip(categories,[1,2,3],['r','g','b']):\n",
    "    category = newdata[(newdata['ZONE_CATEGORY']==cat) & (newdata['YEAR_BUILT'].isin(years))]\n",
    "    ax.bar(category['YEAR_BUILT'], category['PID'],zs=z, zdir='y', color=c, alpha=0.8)\n",
    "    \n",
    "# Set labels\n",
    "ax.set_xlabel('Years')\n",
    "ax.set_ylabel('Distance Scale')\n",
    "ax.set_zlabel('Number of Properties')\n",
    "\n",
    "# Create customized legends \n",
    "legend_elements = [Line2D([0], [0], marker='s', color='w', label='One Family Dwelling',markerfacecolor='r', markersize=10),\n",
    "                  Line2D([0], [0], marker='s', color='w', label='Multiple Family Dwelling',markerfacecolor='g', markersize=10),\n",
    "                   Line2D([0], [0], marker='s', color='w', label='Comprehensive Development',markerfacecolor='b', markersize=10)\n",
    "                  ]\n",
    "                   \n",
    "# Make legend\n",
    "ax.legend(handles=legend_elements, loc='best')\n",
    "\n",
    "plt.show()"
   ]
  }
 ],
 "metadata": {
  "kernelspec": {
   "display_name": "Python 3 (ipykernel)",
   "language": "python",
   "name": "python3"
  },
  "language_info": {
   "codemirror_mode": {
    "name": "ipython",
    "version": 3
   },
   "file_extension": ".py",
   "mimetype": "text/x-python",
   "name": "python",
   "nbconvert_exporter": "python",
   "pygments_lexer": "ipython3",
   "version": "3.9.13"
  }
 },
 "nbformat": 4,
 "nbformat_minor": 5
}
