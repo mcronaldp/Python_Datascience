{
 "cells": [
  {
   "cell_type": "markdown",
   "id": "d37fc13e-62a8-4566-bbf9-e7cadf28d92c",
   "metadata": {},
   "source": [
    "# 2. Barplots"
   ]
  },
  {
   "cell_type": "code",
   "execution_count": null,
   "id": "89579125-d7f0-40cf-a30a-b0fdf1345282",
   "metadata": {},
   "outputs": [],
   "source": [
    "# Bar plot.\n",
    "\n",
    "# Importing matplotlib to plot the graphs.\n",
    "import matplotlib.pyplot as plt\n",
    "\n",
    "# Importing pandas for using pandas dataframes.\n",
    "import pandas as pd\n",
    "\n",
    "# Reading the input file.\n",
    "df = pd.read_csv(\"property_tax_report_2018.csv\")\n",
    "\n",
    "# Removing the null values in PROPERTY_POSTAL_CODE.\n",
    "df = df[(df['PROPERTY_POSTAL_CODE'].notnull())]\n",
    "\n",
    "# Grouping by YEAR_BUILT and aggregating based on PID to count the number of properties for each year.\n",
    "df = df[['PID', 'YEAR_BUILT']].groupby('YEAR_BUILT', as_index = False).count().astype('int').rename(columns = {'PID':'No_of_properties_built'})\n",
    "\n",
    "# Filtering YEAR_BUILT and keeping only the values between 1900 to 2018.\n",
    "df = df[(df['YEAR_BUILT'] >= 1900) & (df['YEAR_BUILT'] <= 2018)]\n",
    "\n",
    "# X-axis: YEAR_BUILT\n",
    "x = df['YEAR_BUILT']\n",
    "\n",
    "# Y-axis: Number of properties built.\n",
    "y = df['No_of_properties_built']\n",
    "\n",
    "# Change the size of the figure (in inches).\n",
    "plt.figure(figsize=(17,6))\n",
    "\n",
    "# Plotting the graph using x and y with 'dodgerblue' color.\n",
    "# Different labels can be given to different bar plots in the same plot.\n",
    "# Linewidth determines the width of the line.\n",
    "plt.bar(x, y, label = 'Number of properties built', color = 'dodgerblue',  width = 1, align = 'center', alpha = 0.7)\n",
    "# plt.bar(x2, y2, label = 'Bar 2', color = 'red',  width = 1)\n",
    "\n",
    "# X-axis label.\n",
    "plt.xlabel('YEAR', fontsize = 16)\n",
    "\n",
    "# Y-axis label.\n",
    "plt.ylabel('Number of properties built', fontsize = 16)\n",
    "\n",
    "# Title of the plot.\n",
    "plt.title('Number of houses built between\\n1900 and 2018', fontsize = 16)\n",
    "\n",
    "# Grid\n",
    "# plt.grid(True)\n",
    "plt.grid(axis='y')\n",
    "\n",
    "# Legend for the plot.\n",
    "plt.legend()\n",
    "\n",
    "# Saving the figure on disk. 'dpi' and 'quality' can be adjusted according to the required image quality.\n",
    "plt.savefig('Bar_plot.jpeg', dpi = 400, quality = 100)\n",
    "\n",
    "# Displays the plot.\n",
    "plt.show()\n",
    "\n",
    "# Clears the current figure contents.\n",
    "plt.clf()"
   ]
  }
 ],
 "metadata": {
  "kernelspec": {
   "display_name": "Python 3 (ipykernel)",
   "language": "python",
   "name": "python3"
  },
  "language_info": {
   "codemirror_mode": {
    "name": "ipython",
    "version": 3
   },
   "file_extension": ".py",
   "mimetype": "text/x-python",
   "name": "python",
   "nbconvert_exporter": "python",
   "pygments_lexer": "ipython3",
   "version": "3.9.13"
  }
 },
 "nbformat": 4,
 "nbformat_minor": 5
}
