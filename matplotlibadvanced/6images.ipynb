{
 "cells": [
  {
   "cell_type": "code",
   "execution_count": null,
   "id": "24836ebc-254d-4908-9f3c-5da14ef26c73",
   "metadata": {},
   "outputs": [],
   "source": [
    "# Reading, displaying and saving an image.\n",
    "\n",
    "# Importing matplotlib pyplot and image.\n",
    "import matplotlib.pyplot as plt\n",
    "import matplotlib.image as mpimg\n",
    "\n",
    "# Reading the image from the disk.\n",
    "image = mpimg.imread('Lenna_test_image.png')\n",
    "\n",
    "# Displaying the image.\n",
    "plt.imshow(image)\n",
    "\n",
    "# Saving the image on the disk.\n",
    "plt.imsave('save_Lenna.png', image, format = 'png')"
   ]
  }
 ],
 "metadata": {
  "kernelspec": {
   "display_name": "Python 3 (ipykernel)",
   "language": "python",
   "name": "python3"
  },
  "language_info": {
   "codemirror_mode": {
    "name": "ipython",
    "version": 3
   },
   "file_extension": ".py",
   "mimetype": "text/x-python",
   "name": "python",
   "nbconvert_exporter": "python",
   "pygments_lexer": "ipython3",
   "version": "3.9.13"
  }
 },
 "nbformat": 4,
 "nbformat_minor": 5
}
