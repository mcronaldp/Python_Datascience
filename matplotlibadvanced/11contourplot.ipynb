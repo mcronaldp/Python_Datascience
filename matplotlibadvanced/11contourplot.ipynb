{
 "cells": [
  {
   "cell_type": "code",
   "execution_count": null,
   "id": "a8cfc0c4-4253-41e0-ab34-b47cfc0b9e53",
   "metadata": {},
   "outputs": [],
   "source": [
    "'''\n",
    "==============\n",
    "Contour Plots\n",
    "==============\n",
    "Plot a contour plot that shows intensity\n",
    "'''\n",
    "\n",
    "# Import libraries\n",
    "from mpl_toolkits.mplot3d import axes3d\n",
    "import matplotlib.pyplot as plt\n",
    "from matplotlib import cm\n",
    "\n",
    "# Create figure object\n",
    "fig = plt.figure()\n",
    "\n",
    "# Get the current axes, creating one if necessary.\n",
    "ax = fig.gca(projection='3d')\n",
    "\n",
    "# Get test data\n",
    "X, Y, Z = axes3d.get_test_data(0.05)\n",
    "\n",
    "# Plot contour curves\n",
    "cset = ax.contour(X, Y, Z, cmap=cm.coolwarm)\n",
    "\n",
    "# Set labels\n",
    "ax.clabel(cset, fontsize=9, inline=1)\n",
    "\n",
    "plt.show()"
   ]
  }
 ],
 "metadata": {
  "kernelspec": {
   "display_name": "Python 3 (ipykernel)",
   "language": "python",
   "name": "python3"
  },
  "language_info": {
   "codemirror_mode": {
    "name": "ipython",
    "version": 3
   },
   "file_extension": ".py",
   "mimetype": "text/x-python",
   "name": "python",
   "nbconvert_exporter": "python",
   "pygments_lexer": "ipython3",
   "version": "3.9.13"
  }
 },
 "nbformat": 4,
 "nbformat_minor": 5
}
