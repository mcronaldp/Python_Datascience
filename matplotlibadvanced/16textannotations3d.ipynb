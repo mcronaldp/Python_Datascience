{
 "cells": [
  {
   "cell_type": "code",
   "execution_count": null,
   "id": "b3153e38-d813-43e7-bbed-69e56f358604",
   "metadata": {},
   "outputs": [],
   "source": [
    "'''\n",
    "======================\n",
    "Text annotations in 3D\n",
    "======================\n",
    "Demonstrates the placement of text annotations on a 3D plot.\n",
    "Functionality shown:\n",
    "- Using the text function with three types of 'zdir' values: None,\n",
    "  an axis name (ex. 'x'), or a direction tuple (ex. (1, 1, 0)).\n",
    "- Using the text function with the color keyword.\n",
    "- Using the text2D function to place text on a fixed position on the ax object.\n",
    "'''\n",
    "# Import libraries\n",
    "from mpl_toolkits.mplot3d import Axes3D\n",
    "import matplotlib.pyplot as plt\n",
    "\n",
    "# Create figure object\n",
    "fig = plt.figure()\n",
    "\n",
    "# Get the current axes, creating one if necessary.\n",
    "ax = fig.gca(projection='3d')\n",
    "\n",
    "# Demo 1: zdir\n",
    "zdirs = (None, 'x', 'y', 'z', (1, 1, 0), (1, 1, 1))\n",
    "xs = (1, 4, 4, 9, 4, 1)\n",
    "ys = (2, 5, 8, 10, 1, 2)\n",
    "zs = (10, 3, 8, 9, 1, 8)\n",
    "\n",
    "for zdir, x, y, z in zip(zdirs, xs, ys, zs):\n",
    "    label = '(%d, %d, %d), dir=%s' % (x, y, z, zdir)\n",
    "    ax.text(x, y, z, label, zdir)\n",
    "\n",
    "# Demo 2: color\n",
    "ax.text(9, 0, 0, \"red\", color='red')\n",
    "\n",
    "# Demo 3: text2D\n",
    "# Placement 0, 0 would be the bottom left, 1, 1 would be the top right.\n",
    "ax.text2D(0.05, 0.95, \"2D Text\", transform=ax.transAxes)\n",
    "\n",
    "# Tweaking display region and labels\n",
    "ax.set_xlim(0, 10)\n",
    "ax.set_ylim(0, 10)\n",
    "ax.set_zlim(0, 10)\n",
    "ax.set_xlabel('X axis')\n",
    "ax.set_ylabel('Y axis')\n",
    "ax.set_zlabel('Z axis')\n",
    "\n",
    "plt.show()"
   ]
  }
 ],
 "metadata": {
  "kernelspec": {
   "display_name": "Python 3 (ipykernel)",
   "language": "python",
   "name": "python3"
  },
  "language_info": {
   "codemirror_mode": {
    "name": "ipython",
    "version": 3
   },
   "file_extension": ".py",
   "mimetype": "text/x-python",
   "name": "python",
   "nbconvert_exporter": "python",
   "pygments_lexer": "ipython3",
   "version": "3.9.13"
  }
 },
 "nbformat": 4,
 "nbformat_minor": 5
}
