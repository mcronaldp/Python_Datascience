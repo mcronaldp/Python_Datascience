{
 "cells": [
  {
   "cell_type": "code",
   "execution_count": null,
   "id": "264ea568-7143-4cce-8b70-526a381dac82",
   "metadata": {},
   "outputs": [],
   "source": [
    "'''\n",
    "==============\n",
    "3D lineplot\n",
    "==============\n",
    "Demonstration of a basic lineplot in 3D.\n",
    "'''\n",
    "\n",
    "# Import libraries\n",
    "import matplotlib as mpl\n",
    "from mpl_toolkits.mplot3d import Axes3D\n",
    "import numpy as np\n",
    "import matplotlib.pyplot as plt\n",
    "\n",
    "# Set the legend font size to 10\n",
    "mpl.rcParams['legend.fontsize'] = 10\n",
    "\n",
    "# Create figure object\n",
    "fig = plt.figure()\n",
    "\n",
    "# Get the current axes, creating one if necessary.\n",
    "ax = fig.gca(projection='3d')\n",
    "\n",
    "# Create data point to plot\n",
    "theta = np.linspace(-4 * np.pi, 4 * np.pi, 100)\n",
    "z = np.linspace(-2, 2, 100)\n",
    "r = z**2 + 1\n",
    "x = r * np.sin(theta)\n",
    "y = r * np.cos(theta)\n",
    "\n",
    "# Plot line graph \n",
    "ax.plot(x, y, z, label='Parametric curve')\n",
    "\n",
    "# Set default legend\n",
    "ax.legend()\n",
    "\n",
    "plt.show()"
   ]
  }
 ],
 "metadata": {
  "kernelspec": {
   "display_name": "Python 3 (ipykernel)",
   "language": "python",
   "name": "python3"
  },
  "language_info": {
   "codemirror_mode": {
    "name": "ipython",
    "version": 3
   },
   "file_extension": ".py",
   "mimetype": "text/x-python",
   "name": "python",
   "nbconvert_exporter": "python",
   "pygments_lexer": "ipython3",
   "version": "3.9.13"
  }
 },
 "nbformat": 4,
 "nbformat_minor": 5
}
