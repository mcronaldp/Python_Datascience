{
 "cells": [
  {
   "cell_type": "markdown",
   "id": "482499c9-d95f-4c05-8fbb-e65d573cdbc6",
   "metadata": {},
   "source": [
    "# Statistieken orders"
   ]
  },
  {
   "cell_type": "markdown",
   "id": "cf68a6fb-baeb-4751-9f22-6dd01c3874ed",
   "metadata": {},
   "source": [
    "# 1. Describe; Count, Mean, Standard deviation, Min, Max, Median"
   ]
  },
  {
   "cell_type": "code",
   "execution_count": 14,
   "id": "f4a46712-10c4-4d3d-b5a7-1e65c2263ad8",
   "metadata": {},
   "outputs": [
    {
     "data": {
      "text/html": [
       "<div><style>\n",
       ".dataframe > thead > tr > th,\n",
       ".dataframe > tbody > tr > td {\n",
       "  text-align: right;\n",
       "}\n",
       "</style>\n",
       "<small>shape: (2, 32)</small><table border=\"1\" class=\"dataframe\"><thead><tr><th>Id</th><th>Status</th><th>Currency</th><th>Date_created</th><th>Discount_total</th><th>Discount_tax</th><th>Shipping_total</th><th>Shipping_tax</th><th>Order_key</th><th>Bill_Company</th><th>Bill_City</th><th>Bill_Postcode</th><th>Bill_Country</th><th>Ship_Company</th><th>Ship_City</th><th>Ship_Postcode</th><th>Ship_Country</th><th>Payment_method</th><th>Payment_method_title</th><th>Date_completed</th><th>Number</th><th>How_Found</th><th>Wcpdf_invoice_number</th><th>Line_items_id</th><th>Line_items_name</th><th>Line_items_product_id</th><th>Quantity</th><th>Subtotal</th><th>Subtotal_tax</th><th>Total</th><th>Total_tax</th><th>Price</th></tr><tr><td>i64</td><td>str</td><td>str</td><td>str</td><td>f64</td><td>f64</td><td>f64</td><td>f64</td><td>str</td><td>str</td><td>str</td><td>str</td><td>str</td><td>str</td><td>str</td><td>str</td><td>str</td><td>str</td><td>str</td><td>str</td><td>i64</td><td>str</td><td>i64</td><td>i64</td><td>str</td><td>i64</td><td>i64</td><td>f64</td><td>f64</td><td>f64</td><td>f64</td><td>f64</td></tr></thead><tbody><tr><td>5973</td><td>&quot;completed&quot;</td><td>&quot;EUR&quot;</td><td>&quot;2023-07-15 16:…</td><td>0.0</td><td>0.0</td><td>4.15</td><td>0.0</td><td>&quot;wc_order_EVCNw…</td><td>null</td><td>&quot;VAALS&quot;</td><td>&quot;6291 AD&quot;</td><td>&quot;NL&quot;</td><td>null</td><td>&quot;VAALS&quot;</td><td>&quot;6291 AD&quot;</td><td>&quot;NL&quot;</td><td>&quot;mollie_wc_gate…</td><td>&quot;iDEAL&quot;</td><td>&quot;2023-07-17T16:…</td><td>2510</td><td>null</td><td>2497</td><td>1766</td><td>&quot;Maataanduiders…</td><td>5350</td><td>1</td><td>10.33</td><td>2.17</td><td>10.33</td><td>2.17</td><td>10.33</td></tr><tr><td>5970</td><td>&quot;completed&quot;</td><td>&quot;EUR&quot;</td><td>&quot;2023-07-14 16:…</td><td>0.0</td><td>0.0</td><td>4.15</td><td>0.0</td><td>&quot;wc_order_MqufY…</td><td>null</td><td>&quot;Etten-Leur&quot;</td><td>&quot;4875 CD&quot;</td><td>&quot;NL&quot;</td><td>null</td><td>&quot;Etten-Leur&quot;</td><td>&quot;4875 CD&quot;</td><td>&quot;NL&quot;</td><td>&quot;mollie_wc_gate…</td><td>&quot;iDEAL&quot;</td><td>&quot;2023-07-17T16:…</td><td>2509</td><td>null</td><td>2498</td><td>1763</td><td>&quot;Maataanduiders…</td><td>5350</td><td>1</td><td>10.33</td><td>2.17</td><td>10.33</td><td>2.17</td><td>10.33</td></tr></tbody></table></div>"
      ],
      "text/plain": [
       "shape: (2, 32)\n",
       "┌──────┬───────────┬──────────┬─────────────────────┬───┬──────────────┬───────┬───────────┬───────┐\n",
       "│ Id   ┆ Status    ┆ Currency ┆ Date_created        ┆ … ┆ Subtotal_tax ┆ Total ┆ Total_tax ┆ Price │\n",
       "│ ---  ┆ ---       ┆ ---      ┆ ---                 ┆   ┆ ---          ┆ ---   ┆ ---       ┆ ---   │\n",
       "│ i64  ┆ str       ┆ str      ┆ str                 ┆   ┆ f64          ┆ f64   ┆ f64       ┆ f64   │\n",
       "╞══════╪═══════════╪══════════╪═════════════════════╪═══╪══════════════╪═══════╪═══════════╪═══════╡\n",
       "│ 5973 ┆ completed ┆ EUR      ┆ 2023-07-15 16:24:53 ┆ … ┆ 2.17         ┆ 10.33 ┆ 2.17      ┆ 10.33 │\n",
       "│ 5970 ┆ completed ┆ EUR      ┆ 2023-07-14 16:48:20 ┆ … ┆ 2.17         ┆ 10.33 ┆ 2.17      ┆ 10.33 │\n",
       "└──────┴───────────┴──────────┴─────────────────────┴───┴──────────────┴───────┴───────────┴───────┘"
      ]
     },
     "execution_count": 14,
     "metadata": {},
     "output_type": "execute_result"
    }
   ],
   "source": [
    "import polars as pl\n",
    "df = pl.read_csv(\n",
    "     source=r\"C:\\Users\\Ronald\\OneDrive\\Studie\\Python\\Projecten\\Python_Course\\woocommerce\\Orders.csv\"\n",
    "    ,has_header=True\n",
    "    ,separator=\"#\"\n",
    "    ,encoding=\"mac_roman\" #This encoding seems to work. I guess there is some weird character somewhere in my script. I have not found it yet.\n",
    ")\n",
    "df.head(2)"
   ]
  },
  {
   "cell_type": "code",
   "execution_count": 20,
   "id": "5e4eb592-2a80-4178-a112-bf3aa4050044",
   "metadata": {},
   "outputs": [
    {
     "data": {
      "text/html": [
       "<div><style>\n",
       ".dataframe > thead > tr > th,\n",
       ".dataframe > tbody > tr > td {\n",
       "  text-align: right;\n",
       "}\n",
       "</style>\n",
       "<small>shape: (1, 7)</small><table border=\"1\" class=\"dataframe\"><thead><tr><th>Min</th><th>Mean</th><th>Median</th><th>Max</th><th>Standard deviation</th><th>Mean_Shipping_total</th><th>Range_price</th></tr><tr><td>f64</td><td>f64</td><td>f64</td><td>f64</td><td>f64</td><td>f64</td><td>f64</td></tr></thead><tbody><tr><td>0.0</td><td>5.322154</td><td>4.09</td><td>35.78</td><td>5.350218</td><td>0.0</td><td>35.78</td></tr></tbody></table></div>"
      ],
      "text/plain": [
       "shape: (1, 7)\n",
       "┌─────┬──────────┬────────┬───────┬────────────────────┬─────────────────────┬─────────────┐\n",
       "│ Min ┆ Mean     ┆ Median ┆ Max   ┆ Standard deviation ┆ Mean_Shipping_total ┆ Range_price │\n",
       "│ --- ┆ ---      ┆ ---    ┆ ---   ┆ ---                ┆ ---                 ┆ ---         │\n",
       "│ f64 ┆ f64      ┆ f64    ┆ f64   ┆ f64                ┆ f64                 ┆ f64         │\n",
       "╞═════╪══════════╪════════╪═══════╪════════════════════╪═════════════════════╪═════════════╡\n",
       "│ 0.0 ┆ 5.322154 ┆ 4.09   ┆ 35.78 ┆ 5.350218           ┆ 0.0                 ┆ 35.78       │\n",
       "└─────┴──────────┴────────┴───────┴────────────────────┴─────────────────────┴─────────────┘"
      ]
     },
     "execution_count": 20,
     "metadata": {},
     "output_type": "execute_result"
    }
   ],
   "source": [
    "df.select([ # Aliassen moeten omdat kolom Price maar 1 keer voor mag komen.\n",
    "    pl.col('Price').min().alias('Min'),\n",
    "    pl.col('Price').mean().alias('Mean'),\n",
    "    pl.col('Price').median().alias('Median'),\n",
    "    pl.col('Price').max().alias('Max'),\n",
    "    pl.col('Price').std().alias('Standard deviation'),\n",
    "    pl.col('Shipping_total').min().alias('Mean_Shipping_total'),\n",
    "    (pl.col('Price').max().alias('Max') - pl.col('Price').min().alias('Min')).alias('Range_price')\n",
    "    \n",
    "])"
   ]
  },
  {
   "cell_type": "code",
   "execution_count": 12,
   "id": "20300fdf-81c0-49fd-9157-8526a74cb153",
   "metadata": {},
   "outputs": [
    {
     "data": {
      "text/html": [
       "<div><style>\n",
       ".dataframe > thead > tr > th,\n",
       ".dataframe > tbody > tr > td {\n",
       "  text-align: right;\n",
       "}\n",
       "</style>\n",
       "<small>shape: (376, 9)</small><table border=\"1\" class=\"dataframe\"><thead><tr><th>Date_created</th><th>Discount_total</th><th>Discount_tax</th><th>Shipping_total</th><th>Shipping_tax</th><th>Quantity</th><th>Subtotal</th><th>Total</th><th>Price</th></tr><tr><td>str</td><td>f64</td><td>f64</td><td>f64</td><td>f64</td><td>i64</td><td>f64</td><td>f64</td><td>f64</td></tr></thead><tbody><tr><td>&quot;2023-07-15 16:…</td><td>0.0</td><td>0.0</td><td>4.15</td><td>0.0</td><td>1</td><td>10.33</td><td>10.33</td><td>10.33</td></tr><tr><td>&quot;2023-07-14 16:…</td><td>0.0</td><td>0.0</td><td>4.15</td><td>0.0</td><td>1</td><td>10.33</td><td>10.33</td><td>10.33</td></tr><tr><td>&quot;2023-07-12 22:…</td><td>0.0</td><td>0.0</td><td>0.0</td><td>0.0</td><td>2</td><td>11.49</td><td>11.49</td><td>5.74</td></tr><tr><td>&quot;2023-07-11 13:…</td><td>0.0</td><td>0.0</td><td>0.0</td><td>0.0</td><td>1</td><td>5.74</td><td>5.74</td><td>5.74</td></tr><tr><td>&quot;2023-07-04 17:…</td><td>0.0</td><td>0.0</td><td>0.0</td><td>0.0</td><td>1</td><td>4.09</td><td>4.09</td><td>4.09</td></tr><tr><td>&quot;2023-07-04 16:…</td><td>0.54</td><td>0.11</td><td>6.95</td><td>0.0</td><td>1</td><td>10.74</td><td>10.21</td><td>10.21</td></tr><tr><td>&quot;2023-07-02 01:…</td><td>0.0</td><td>0.0</td><td>4.15</td><td>0.0</td><td>1</td><td>15.66</td><td>15.66</td><td>15.66</td></tr><tr><td>&quot;2023-06-29 20:…</td><td>0.0</td><td>0.0</td><td>3.67</td><td>0.0</td><td>1</td><td>3.22</td><td>3.22</td><td>3.22</td></tr><tr><td>&quot;2023-06-29 17:…</td><td>0.0</td><td>0.0</td><td>0.0</td><td>0.0</td><td>1</td><td>4.09</td><td>4.09</td><td>4.09</td></tr><tr><td>&quot;2023-06-28 20:…</td><td>0.0</td><td>0.0</td><td>0.0</td><td>0.0</td><td>1</td><td>4.09</td><td>4.09</td><td>4.09</td></tr><tr><td>&quot;2023-06-27 20:…</td><td>0.0</td><td>0.0</td><td>0.0</td><td>0.0</td><td>1</td><td>4.09</td><td>4.09</td><td>4.09</td></tr><tr><td>&quot;2023-06-26 23:…</td><td>0.0</td><td>0.0</td><td>0.0</td><td>0.0</td><td>1</td><td>4.09</td><td>4.09</td><td>4.09</td></tr><tr><td>&hellip;</td><td>&hellip;</td><td>&hellip;</td><td>&hellip;</td><td>&hellip;</td><td>&hellip;</td><td>&hellip;</td><td>&hellip;</td><td>&hellip;</td></tr><tr><td>&quot;2020-11-11 19:…</td><td>0.0</td><td>0.0</td><td>1.0</td><td>0.0</td><td>1</td><td>1.57</td><td>1.57</td><td>1.57</td></tr><tr><td>&quot;2020-11-09 12:…</td><td>0.0</td><td>0.0</td><td>0.0</td><td>0.0</td><td>1</td><td>23.64</td><td>23.64</td><td>23.64</td></tr><tr><td>&quot;2020-11-09 12:…</td><td>0.0</td><td>0.0</td><td>1.0</td><td>0.0</td><td>1</td><td>4.92</td><td>4.92</td><td>4.92</td></tr><tr><td>&quot;2020-10-19 16:…</td><td>0.0</td><td>0.0</td><td>1.0</td><td>0.0</td><td>1</td><td>1.57</td><td>1.57</td><td>1.57</td></tr><tr><td>&quot;2020-10-14 09:…</td><td>0.0</td><td>0.0</td><td>1.0</td><td>0.0</td><td>1</td><td>3.88</td><td>3.88</td><td>3.88</td></tr><tr><td>&quot;2020-10-12 07:…</td><td>0.0</td><td>0.0</td><td>4.0</td><td>0.0</td><td>1</td><td>10.7</td><td>10.7</td><td>10.7</td></tr><tr><td>&quot;2020-09-27 21:…</td><td>0.0</td><td>0.0</td><td>2.0</td><td>0.0</td><td>1</td><td>16.52</td><td>16.52</td><td>16.52</td></tr><tr><td>&quot;2020-09-17 17:…</td><td>0.0</td><td>0.0</td><td>5.95</td><td>0.0</td><td>1</td><td>17.9</td><td>17.9</td><td>17.9</td></tr><tr><td>&quot;2020-06-19 07:…</td><td>0.0</td><td>0.0</td><td>1.0</td><td>0.0</td><td>1</td><td>2.47</td><td>2.47</td><td>2.47</td></tr><tr><td>&quot;2020-06-19 07:…</td><td>0.0</td><td>0.0</td><td>0.0</td><td>0.0</td><td>1</td><td>2.47</td><td>2.47</td><td>2.47</td></tr><tr><td>&quot;2020-05-17 00:…</td><td>0.0</td><td>0.0</td><td>1.0</td><td>0.0</td><td>1</td><td>2.47</td><td>2.47</td><td>2.47</td></tr><tr><td>&quot;2020-04-30 15:…</td><td>0.0</td><td>0.0</td><td>1.0</td><td>0.0</td><td>1</td><td>2.47</td><td>2.47</td><td>2.47</td></tr></tbody></table></div>"
      ],
      "text/plain": [
       "shape: (376, 9)\n",
       "┌─────────────────────┬────────────────┬──────────────┬────────────────┬───┬──────────┬──────────┬───────┬───────┐\n",
       "│ Date_created        ┆ Discount_total ┆ Discount_tax ┆ Shipping_total ┆ … ┆ Quantity ┆ Subtotal ┆ Total ┆ Price │\n",
       "│ ---                 ┆ ---            ┆ ---          ┆ ---            ┆   ┆ ---      ┆ ---      ┆ ---   ┆ ---   │\n",
       "│ str                 ┆ f64            ┆ f64          ┆ f64            ┆   ┆ i64      ┆ f64      ┆ f64   ┆ f64   │\n",
       "╞═════════════════════╪════════════════╪══════════════╪════════════════╪═══╪══════════╪══════════╪═══════╪═══════╡\n",
       "│ 2023-07-15 16:24:53 ┆ 0.0            ┆ 0.0          ┆ 4.15           ┆ … ┆ 1        ┆ 10.33    ┆ 10.33 ┆ 10.33 │\n",
       "│ 2023-07-14 16:48:20 ┆ 0.0            ┆ 0.0          ┆ 4.15           ┆ … ┆ 1        ┆ 10.33    ┆ 10.33 ┆ 10.33 │\n",
       "│ 2023-07-12 22:38:20 ┆ 0.0            ┆ 0.0          ┆ 0.0            ┆ … ┆ 2        ┆ 11.49    ┆ 11.49 ┆ 5.74  │\n",
       "│ 2023-07-11 13:47:41 ┆ 0.0            ┆ 0.0          ┆ 0.0            ┆ … ┆ 1        ┆ 5.74     ┆ 5.74  ┆ 5.74  │\n",
       "│ …                   ┆ …              ┆ …            ┆ …              ┆ … ┆ …        ┆ …        ┆ …     ┆ …     │\n",
       "│ 2020-06-19 07:31:04 ┆ 0.0            ┆ 0.0          ┆ 1.0            ┆ … ┆ 1        ┆ 2.47     ┆ 2.47  ┆ 2.47  │\n",
       "│ 2020-06-19 07:27:23 ┆ 0.0            ┆ 0.0          ┆ 0.0            ┆ … ┆ 1        ┆ 2.47     ┆ 2.47  ┆ 2.47  │\n",
       "│ 2020-05-17 00:35:26 ┆ 0.0            ┆ 0.0          ┆ 1.0            ┆ … ┆ 1        ┆ 2.47     ┆ 2.47  ┆ 2.47  │\n",
       "│ 2020-04-30 15:15:10 ┆ 0.0            ┆ 0.0          ┆ 1.0            ┆ … ┆ 1        ┆ 2.47     ┆ 2.47  ┆ 2.47  │\n",
       "└─────────────────────┴────────────────┴──────────────┴────────────────┴───┴──────────┴──────────┴───────┴───────┘"
      ]
     },
     "execution_count": 12,
     "metadata": {},
     "output_type": "execute_result"
    }
   ],
   "source": [
    "df_cijfers = df.select(\n",
    "pl.col('Date_created'),\n",
    "pl.col('Discount_total'),\n",
    "pl.col('Discount_tax'),\n",
    "pl.col('Shipping_total'),\n",
    "pl.col('Shipping_tax'),\n",
    "pl.col('Quantity'),\n",
    "pl.col('Subtotal'),\n",
    "pl.col('Total'),\n",
    "pl.col('Price')\n",
    ")\n",
    "df_cijfers"
   ]
  },
  {
   "cell_type": "code",
   "execution_count": 13,
   "id": "e08acda2-fe59-46ee-9f91-76b4d491d00d",
   "metadata": {},
   "outputs": [
    {
     "data": {
      "text/html": [
       "<div><style>\n",
       ".dataframe > thead > tr > th,\n",
       ".dataframe > tbody > tr > td {\n",
       "  text-align: right;\n",
       "}\n",
       "</style>\n",
       "<small>shape: (9, 10)</small><table border=\"1\" class=\"dataframe\"><thead><tr><th>describe</th><th>Date_created</th><th>Discount_total</th><th>Discount_tax</th><th>Shipping_total</th><th>Shipping_tax</th><th>Quantity</th><th>Subtotal</th><th>Total</th><th>Price</th></tr><tr><td>str</td><td>str</td><td>f64</td><td>f64</td><td>f64</td><td>f64</td><td>f64</td><td>f64</td><td>f64</td><td>f64</td></tr></thead><tbody><tr><td>&quot;count&quot;</td><td>&quot;376&quot;</td><td>376.0</td><td>376.0</td><td>376.0</td><td>376.0</td><td>376.0</td><td>376.0</td><td>376.0</td><td>376.0</td></tr><tr><td>&quot;null_count&quot;</td><td>&quot;0&quot;</td><td>0.0</td><td>0.0</td><td>0.0</td><td>0.0</td><td>0.0</td><td>0.0</td><td>0.0</td><td>0.0</td></tr><tr><td>&quot;mean&quot;</td><td>null</td><td>0.245904</td><td>0.051463</td><td>1.603032</td><td>0.0</td><td>1.12766</td><td>5.778963</td><td>5.708511</td><td>5.322154</td></tr><tr><td>&quot;std&quot;</td><td>null</td><td>1.859676</td><td>0.389759</td><td>1.920222</td><td>0.0</td><td>0.536339</td><td>5.736108</td><td>5.717032</td><td>5.350218</td></tr><tr><td>&quot;min&quot;</td><td>&quot;2020-04-30 15:…</td><td>0.0</td><td>0.0</td><td>0.0</td><td>0.0</td><td>1.0</td><td>0.0</td><td>0.0</td><td>0.0</td></tr><tr><td>&quot;max&quot;</td><td>&quot;2023-07-15 16:…</td><td>33.06</td><td>6.94</td><td>10.15</td><td>0.0</td><td>7.0</td><td>35.78</td><td>35.78</td><td>35.78</td></tr><tr><td>&quot;median&quot;</td><td>null</td><td>0.0</td><td>0.0</td><td>1.1</td><td>0.0</td><td>1.0</td><td>4.09</td><td>4.09</td><td>4.09</td></tr><tr><td>&quot;25%&quot;</td><td>null</td><td>0.0</td><td>0.0</td><td>0.0</td><td>0.0</td><td>1.0</td><td>1.98</td><td>1.98</td><td>1.98</td></tr><tr><td>&quot;75%&quot;</td><td>null</td><td>0.0</td><td>0.0</td><td>2.1</td><td>0.0</td><td>1.0</td><td>6.19</td><td>5.88</td><td>5.26</td></tr></tbody></table></div>"
      ],
      "text/plain": [
       "shape: (9, 10)\n",
       "┌────────────┬─────────────────────┬────────────────┬──────────────┬───┬──────────┬──────────┬──────────┬──────────┐\n",
       "│ describe   ┆ Date_created        ┆ Discount_total ┆ Discount_tax ┆ … ┆ Quantity ┆ Subtotal ┆ Total    ┆ Price    │\n",
       "│ ---        ┆ ---                 ┆ ---            ┆ ---          ┆   ┆ ---      ┆ ---      ┆ ---      ┆ ---      │\n",
       "│ str        ┆ str                 ┆ f64            ┆ f64          ┆   ┆ f64      ┆ f64      ┆ f64      ┆ f64      │\n",
       "╞════════════╪═════════════════════╪════════════════╪══════════════╪═══╪══════════╪══════════╪══════════╪══════════╡\n",
       "│ count      ┆ 376                 ┆ 376.0          ┆ 376.0        ┆ … ┆ 376.0    ┆ 376.0    ┆ 376.0    ┆ 376.0    │\n",
       "│ null_count ┆ 0                   ┆ 0.0            ┆ 0.0          ┆ … ┆ 0.0      ┆ 0.0      ┆ 0.0      ┆ 0.0      │\n",
       "│ mean       ┆ null                ┆ 0.245904       ┆ 0.051463     ┆ … ┆ 1.12766  ┆ 5.778963 ┆ 5.708511 ┆ 5.322154 │\n",
       "│ std        ┆ null                ┆ 1.859676       ┆ 0.389759     ┆ … ┆ 0.536339 ┆ 5.736108 ┆ 5.717032 ┆ 5.350218 │\n",
       "│ min        ┆ 2020-04-30 15:15:10 ┆ 0.0            ┆ 0.0          ┆ … ┆ 1.0      ┆ 0.0      ┆ 0.0      ┆ 0.0      │\n",
       "│ max        ┆ 2023-07-15 16:24:53 ┆ 33.06          ┆ 6.94         ┆ … ┆ 7.0      ┆ 35.78    ┆ 35.78    ┆ 35.78    │\n",
       "│ median     ┆ null                ┆ 0.0            ┆ 0.0          ┆ … ┆ 1.0      ┆ 4.09     ┆ 4.09     ┆ 4.09     │\n",
       "│ 25%        ┆ null                ┆ 0.0            ┆ 0.0          ┆ … ┆ 1.0      ┆ 1.98     ┆ 1.98     ┆ 1.98     │\n",
       "│ 75%        ┆ null                ┆ 0.0            ┆ 0.0          ┆ … ┆ 1.0      ┆ 6.19     ┆ 5.88     ┆ 5.26     │\n",
       "└────────────┴─────────────────────┴────────────────┴──────────────┴───┴──────────┴──────────┴──────────┴──────────┘"
      ]
     },
     "execution_count": 13,
     "metadata": {},
     "output_type": "execute_result"
    }
   ],
   "source": [
    "df_cijfers.describe()"
   ]
  },
  {
   "cell_type": "code",
   "execution_count": null,
   "id": "cae103fa-ebe4-49aa-8739-f7228fe1ae7f",
   "metadata": {},
   "outputs": [],
   "source": []
  },
  {
   "cell_type": "code",
   "execution_count": null,
   "id": "feb4725c-57b0-40ab-b90d-e4ee14af248a",
   "metadata": {},
   "outputs": [],
   "source": []
  }
 ],
 "metadata": {
  "kernelspec": {
   "display_name": "Python 3 (ipykernel)",
   "language": "python",
   "name": "python3"
  },
  "language_info": {
   "codemirror_mode": {
    "name": "ipython",
    "version": 3
   },
   "file_extension": ".py",
   "mimetype": "text/x-python",
   "name": "python",
   "nbconvert_exporter": "python",
   "pygments_lexer": "ipython3",
   "version": "3.11.0"
  }
 },
 "nbformat": 4,
 "nbformat_minor": 5
}
