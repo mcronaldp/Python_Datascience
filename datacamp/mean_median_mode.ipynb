{
 "cells": [
  {
   "cell_type": "markdown",
   "id": "361d00fb-0e34-40c5-a3ce-c6ff0a2277ad",
   "metadata": {},
   "source": [
    "# Mean"
   ]
  },
  {
   "cell_type": "markdown",
   "id": "9b0e694d-3e07-4efc-8238-35f7daf95cb1",
   "metadata": {},
   "source": [
    "### Gemiddelde via Pandas"
   ]
  },
  {
   "cell_type": "code",
   "execution_count": 49,
   "id": "b4b83289-6749-42e1-a499-fe195af79256",
   "metadata": {},
   "outputs": [
    {
     "data": {
      "text/html": [
       "<div>\n",
       "<style scoped>\n",
       "    .dataframe tbody tr th:only-of-type {\n",
       "        vertical-align: middle;\n",
       "    }\n",
       "\n",
       "    .dataframe tbody tr th {\n",
       "        vertical-align: top;\n",
       "    }\n",
       "\n",
       "    .dataframe thead th {\n",
       "        text-align: right;\n",
       "    }\n",
       "</style>\n",
       "<table border=\"1\" class=\"dataframe\">\n",
       "  <thead>\n",
       "    <tr style=\"text-align: right;\">\n",
       "      <th></th>\n",
       "      <th>species</th>\n",
       "      <th>body_wt</th>\n",
       "      <th>brain_wt</th>\n",
       "      <th>non_dreaming</th>\n",
       "      <th>dreaming</th>\n",
       "      <th>total_sleep</th>\n",
       "      <th>life_span</th>\n",
       "      <th>gestation</th>\n",
       "      <th>predation</th>\n",
       "      <th>exposure</th>\n",
       "      <th>danger</th>\n",
       "    </tr>\n",
       "  </thead>\n",
       "  <tbody>\n",
       "    <tr>\n",
       "      <th>0</th>\n",
       "      <td>Africanelephant</td>\n",
       "      <td>6654.000</td>\n",
       "      <td>5712.0</td>\n",
       "      <td>NaN</td>\n",
       "      <td>NaN</td>\n",
       "      <td>3.3</td>\n",
       "      <td>38.6</td>\n",
       "      <td>645.0</td>\n",
       "      <td>3</td>\n",
       "      <td>5</td>\n",
       "      <td>3</td>\n",
       "    </tr>\n",
       "    <tr>\n",
       "      <th>1</th>\n",
       "      <td>Africangiantpouchedrat</td>\n",
       "      <td>1.000</td>\n",
       "      <td>6.6</td>\n",
       "      <td>6.3</td>\n",
       "      <td>2.0</td>\n",
       "      <td>8.3</td>\n",
       "      <td>4.5</td>\n",
       "      <td>42.0</td>\n",
       "      <td>3</td>\n",
       "      <td>1</td>\n",
       "      <td>3</td>\n",
       "    </tr>\n",
       "    <tr>\n",
       "      <th>2</th>\n",
       "      <td>ArcticFox</td>\n",
       "      <td>3.385</td>\n",
       "      <td>44.5</td>\n",
       "      <td>NaN</td>\n",
       "      <td>NaN</td>\n",
       "      <td>12.5</td>\n",
       "      <td>14.0</td>\n",
       "      <td>60.0</td>\n",
       "      <td>1</td>\n",
       "      <td>1</td>\n",
       "      <td>1</td>\n",
       "    </tr>\n",
       "    <tr>\n",
       "      <th>3</th>\n",
       "      <td>Arcticgroundsquirrel</td>\n",
       "      <td>0.920</td>\n",
       "      <td>5.7</td>\n",
       "      <td>NaN</td>\n",
       "      <td>NaN</td>\n",
       "      <td>16.5</td>\n",
       "      <td>NaN</td>\n",
       "      <td>25.0</td>\n",
       "      <td>5</td>\n",
       "      <td>2</td>\n",
       "      <td>3</td>\n",
       "    </tr>\n",
       "    <tr>\n",
       "      <th>4</th>\n",
       "      <td>Asianelephant</td>\n",
       "      <td>2547.000</td>\n",
       "      <td>4603.0</td>\n",
       "      <td>2.1</td>\n",
       "      <td>1.8</td>\n",
       "      <td>3.9</td>\n",
       "      <td>69.0</td>\n",
       "      <td>624.0</td>\n",
       "      <td>3</td>\n",
       "      <td>5</td>\n",
       "      <td>4</td>\n",
       "    </tr>\n",
       "  </tbody>\n",
       "</table>\n",
       "</div>"
      ],
      "text/plain": [
       "                  species   body_wt  brain_wt  non_dreaming  dreaming   \n",
       "0         Africanelephant  6654.000    5712.0           NaN       NaN  \\\n",
       "1  Africangiantpouchedrat     1.000       6.6           6.3       2.0   \n",
       "2               ArcticFox     3.385      44.5           NaN       NaN   \n",
       "3    Arcticgroundsquirrel     0.920       5.7           NaN       NaN   \n",
       "4           Asianelephant  2547.000    4603.0           2.1       1.8   \n",
       "\n",
       "   total_sleep  life_span  gestation  predation  exposure  danger  \n",
       "0          3.3       38.6      645.0          3         5       3  \n",
       "1          8.3        4.5       42.0          3         1       3  \n",
       "2         12.5       14.0       60.0          1         1       1  \n",
       "3         16.5        NaN       25.0          5         2       3  \n",
       "4          3.9       69.0      624.0          3         5       4  "
      ]
     },
     "execution_count": 49,
     "metadata": {},
     "output_type": "execute_result"
    }
   ],
   "source": [
    "import numpy as np\n",
    "import pandas as pd\n",
    "import seaborn as sns\n",
    "import matplotlib.pyplot as plt\n",
    "df_pandas = pd.read_csv('mammals.csv')\n",
    "df_pandas.head()"
   ]
  },
  {
   "cell_type": "code",
   "execution_count": 69,
   "id": "b9e57437-623c-473a-a0e9-0b095005fb33",
   "metadata": {},
   "outputs": [
    {
     "data": {
      "text/plain": [
       "10.532758620689652"
      ]
     },
     "execution_count": 69,
     "metadata": {},
     "output_type": "execute_result"
    }
   ],
   "source": [
    "np.mean(df_pandas['total_sleep'])"
   ]
  },
  {
   "cell_type": "markdown",
   "id": "54dedddb-5bfd-4e13-80a9-b3c97eadbe74",
   "metadata": {},
   "source": [
    "### Gemiddelde via polars dataframe"
   ]
  },
  {
   "cell_type": "code",
   "execution_count": 1,
   "id": "dadc0c5e-ed90-440b-9dc9-41a635dc3849",
   "metadata": {},
   "outputs": [
    {
     "data": {
      "text/html": [
       "<div><style>\n",
       ".dataframe > thead > tr > th,\n",
       ".dataframe > tbody > tr > td {\n",
       "  text-align: right;\n",
       "}\n",
       "</style>\n",
       "<small>shape: (5, 2)</small><table border=\"1\" class=\"dataframe\"><thead><tr><th>name</th><th>sleep_total</th></tr><tr><td>str</td><td>f64</td></tr></thead><tbody><tr><td>&quot;Sheetah&quot;</td><td>12.1</td></tr><tr><td>&quot;Owl monkey&quot;</td><td>17.0</td></tr><tr><td>&quot;Mountain beave…</td><td>14.4</td></tr><tr><td>&quot;Greater short-…</td><td>14.9</td></tr><tr><td>&quot;dog&quot;</td><td>4.0</td></tr></tbody></table></div>"
      ],
      "text/plain": [
       "shape: (5, 2)\n",
       "┌─────────────────┬─────────────┐\n",
       "│ name            ┆ sleep_total │\n",
       "│ ---             ┆ ---         │\n",
       "│ str             ┆ f64         │\n",
       "╞═════════════════╪═════════════╡\n",
       "│ Sheetah         ┆ 12.1        │\n",
       "│ Owl monkey      ┆ 17.0        │\n",
       "│ Mountain beaver ┆ 14.4        │\n",
       "│ Greater short-t ┆ 14.9        │\n",
       "│ dog             ┆ 4.0         │\n",
       "└─────────────────┴─────────────┘"
      ]
     },
     "execution_count": 1,
     "metadata": {},
     "output_type": "execute_result"
    }
   ],
   "source": [
    "import polars as pl\n",
    "df = pl.DataFrame(\n",
    "    {\n",
    "    'name':['Sheetah','Owl monkey','Mountain beaver','Greater short-t','dog'],\n",
    "    'sleep_total':[12.1,17,14.4,14.9,4]\n",
    "    }\n",
    ")\n",
    "df"
   ]
  },
  {
   "cell_type": "code",
   "execution_count": 2,
   "id": "548afe77-16cb-4105-b66a-84614455ac5c",
   "metadata": {},
   "outputs": [],
   "source": [
    "import numpy as np\n",
    "dierenslaap = [12.1,17,14.4,14.9,4]"
   ]
  },
  {
   "cell_type": "markdown",
   "id": "c3033416-5301-4de7-93a5-e10e53890338",
   "metadata": {},
   "source": [
    "### Gemiddelde via NumPy"
   ]
  },
  {
   "cell_type": "code",
   "execution_count": 3,
   "id": "821fe5d1-7516-4880-942b-28ec910ce05d",
   "metadata": {},
   "outputs": [
    {
     "data": {
      "text/plain": [
       "12.48"
      ]
     },
     "execution_count": 3,
     "metadata": {},
     "output_type": "execute_result"
    }
   ],
   "source": [
    "np.mean(dierenslaap)"
   ]
  },
  {
   "cell_type": "code",
   "execution_count": 4,
   "id": "fcee03d7-0a09-4cbc-bc07-7520cdf57f21",
   "metadata": {},
   "outputs": [],
   "source": [
    "# Polars mean"
   ]
  },
  {
   "cell_type": "code",
   "execution_count": 5,
   "id": "3b0c9bcc-add7-4ba0-8f80-d588242776ce",
   "metadata": {},
   "outputs": [
    {
     "data": {
      "text/html": [
       "<div><style>\n",
       ".dataframe > thead > tr > th,\n",
       ".dataframe > tbody > tr > td {\n",
       "  text-align: right;\n",
       "}\n",
       "</style>\n",
       "<small>shape: (1, 1)</small><table border=\"1\" class=\"dataframe\"><thead><tr><th>Mean</th></tr><tr><td>f64</td></tr></thead><tbody><tr><td>12.48</td></tr></tbody></table></div>"
      ],
      "text/plain": [
       "shape: (1, 1)\n",
       "┌───────┐\n",
       "│ Mean  │\n",
       "│ ---   │\n",
       "│ f64   │\n",
       "╞═══════╡\n",
       "│ 12.48 │\n",
       "└───────┘"
      ]
     },
     "execution_count": 5,
     "metadata": {},
     "output_type": "execute_result"
    }
   ],
   "source": [
    "df.select([pl.col('sleep_total').mean().alias('Mean')])"
   ]
  },
  {
   "cell_type": "markdown",
   "id": "cecf5cc4-9a5a-4477-93ec-43b1ab8471ba",
   "metadata": {},
   "source": [
    "# Median\n",
    "### De waarde waar 50% van de data lager is dan deze waarde en waarvan 50% hoger is dan deze waarde"
   ]
  },
  {
   "cell_type": "markdown",
   "id": "d932a60e-c0a3-4308-99ee-e7d73115f6cd",
   "metadata": {},
   "source": [
    "### Median via Pandas"
   ]
  },
  {
   "cell_type": "code",
   "execution_count": 55,
   "id": "85dd10ea-a140-48a2-80c1-bc1ef58e7f9d",
   "metadata": {},
   "outputs": [
    {
     "data": {
      "text/plain": [
       "52     2.6\n",
       "28     2.9\n",
       "13     3.1\n",
       "0      3.3\n",
       "21     3.8\n",
       "      ... \n",
       "32    19.9\n",
       "20     NaN\n",
       "30     NaN\n",
       "40     NaN\n",
       "61     NaN\n",
       "Name: total_sleep, Length: 62, dtype: float64"
      ]
     },
     "execution_count": 55,
     "metadata": {},
     "output_type": "execute_result"
    }
   ],
   "source": [
    "msleep = df_pandas['total_sleep'].sort_values()\n",
    "msleep"
   ]
  },
  {
   "cell_type": "code",
   "execution_count": 60,
   "id": "bb73723e-02ae-4f9c-8450-0de330199006",
   "metadata": {},
   "outputs": [
    {
     "data": {
      "text/plain": [
       "10.45"
      ]
     },
     "execution_count": 60,
     "metadata": {},
     "output_type": "execute_result"
    }
   ],
   "source": [
    "msleep.median()"
   ]
  },
  {
   "cell_type": "markdown",
   "id": "74d89665-881e-464f-99b0-68dda4d278d7",
   "metadata": {},
   "source": [
    "### Median via NumPy"
   ]
  },
  {
   "cell_type": "code",
   "execution_count": 6,
   "id": "66ff2881-bbf8-452c-a1e4-17c7a7ef85c2",
   "metadata": {},
   "outputs": [
    {
     "data": {
      "text/plain": [
       "10.55"
      ]
     },
     "execution_count": 6,
     "metadata": {},
     "output_type": "execute_result"
    }
   ],
   "source": [
    "cijfers = [1.9,2.7,19.4,2.9,3.0,19.9,3.1,18,18.1,19.7]\n",
    "np.median(cijfers)"
   ]
  },
  {
   "cell_type": "markdown",
   "id": "33b02b23-9628-4c21-8351-eb447fbd9f22",
   "metadata": {},
   "source": [
    "### Median via Polars"
   ]
  },
  {
   "cell_type": "code",
   "execution_count": 7,
   "id": "01ae5b01-253e-4c77-b273-2bd7c70263b0",
   "metadata": {},
   "outputs": [
    {
     "data": {
      "text/html": [
       "<div><style>\n",
       ".dataframe > thead > tr > th,\n",
       ".dataframe > tbody > tr > td {\n",
       "  text-align: right;\n",
       "}\n",
       "</style>\n",
       "<small>shape: (10, 2)</small><table border=\"1\" class=\"dataframe\"><thead><tr><th>name</th><th>cijfers</th></tr><tr><td>str</td><td>f64</td></tr></thead><tbody><tr><td>&quot;Sheetah&quot;</td><td>1.9</td></tr><tr><td>&quot;Owl monkey&quot;</td><td>2.7</td></tr><tr><td>&quot;Mountain beave…</td><td>19.4</td></tr><tr><td>&quot;Greater short-…</td><td>2.9</td></tr><tr><td>&quot;dog&quot;</td><td>3.0</td></tr><tr><td>&quot;Giraffe&quot;</td><td>19.9</td></tr><tr><td>&quot;Unicorn&quot;</td><td>3.1</td></tr><tr><td>&quot;Rhino&quot;</td><td>18.0</td></tr><tr><td>&quot;Crocodile&quot;</td><td>18.1</td></tr><tr><td>&quot;Mouse&quot;</td><td>19.7</td></tr></tbody></table></div>"
      ],
      "text/plain": [
       "shape: (10, 2)\n",
       "┌─────────────────┬─────────┐\n",
       "│ name            ┆ cijfers │\n",
       "│ ---             ┆ ---     │\n",
       "│ str             ┆ f64     │\n",
       "╞═════════════════╪═════════╡\n",
       "│ Sheetah         ┆ 1.9     │\n",
       "│ Owl monkey      ┆ 2.7     │\n",
       "│ Mountain beaver ┆ 19.4    │\n",
       "│ Greater short-t ┆ 2.9     │\n",
       "│ …               ┆ …       │\n",
       "│ Unicorn         ┆ 3.1     │\n",
       "│ Rhino           ┆ 18.0    │\n",
       "│ Crocodile       ┆ 18.1    │\n",
       "│ Mouse           ┆ 19.7    │\n",
       "└─────────────────┴─────────┘"
      ]
     },
     "execution_count": 7,
     "metadata": {},
     "output_type": "execute_result"
    }
   ],
   "source": [
    "import polars as pl\n",
    "df_median = pl.DataFrame(\n",
    "    {\n",
    "    'name':['Sheetah','Owl monkey','Mountain beaver','Greater short-t','dog','Giraffe','Unicorn','Rhino','Crocodile','Mouse'],\n",
    "    'cijfers':[1.9,2.7,19.4,2.9,3.0,19.9,3.1,18,18.1,19.7]\n",
    "    }\n",
    ")\n",
    "df_median"
   ]
  },
  {
   "cell_type": "code",
   "execution_count": 8,
   "id": "af344083-6b23-4635-b4b1-577bdd0a5166",
   "metadata": {},
   "outputs": [
    {
     "data": {
      "text/html": [
       "<div><style>\n",
       ".dataframe > thead > tr > th,\n",
       ".dataframe > tbody > tr > td {\n",
       "  text-align: right;\n",
       "}\n",
       "</style>\n",
       "<small>shape: (1, 2)</small><table border=\"1\" class=\"dataframe\"><thead><tr><th>name</th><th>cijfers</th></tr><tr><td>str</td><td>f64</td></tr></thead><tbody><tr><td>null</td><td>10.55</td></tr></tbody></table></div>"
      ],
      "text/plain": [
       "shape: (1, 2)\n",
       "┌──────┬─────────┐\n",
       "│ name ┆ cijfers │\n",
       "│ ---  ┆ ---     │\n",
       "│ str  ┆ f64     │\n",
       "╞══════╪═════════╡\n",
       "│ null ┆ 10.55   │\n",
       "└──────┴─────────┘"
      ]
     },
     "execution_count": 8,
     "metadata": {},
     "output_type": "execute_result"
    }
   ],
   "source": [
    "df_median.median()"
   ]
  },
  {
   "cell_type": "markdown",
   "id": "21b1c22f-3375-47a0-ba0f-086501c15c68",
   "metadata": {},
   "source": [
    "### Median selectie kolom bij meerdere kolommen"
   ]
  },
  {
   "cell_type": "code",
   "execution_count": 9,
   "id": "1e200083-76be-4e07-aca6-2830f6bc9298",
   "metadata": {},
   "outputs": [
    {
     "data": {
      "text/html": [
       "<div><style>\n",
       ".dataframe > thead > tr > th,\n",
       ".dataframe > tbody > tr > td {\n",
       "  text-align: right;\n",
       "}\n",
       "</style>\n",
       "<small>shape: (1, 1)</small><table border=\"1\" class=\"dataframe\"><thead><tr><th>Median Cijfers</th></tr><tr><td>f64</td></tr></thead><tbody><tr><td>10.55</td></tr></tbody></table></div>"
      ],
      "text/plain": [
       "shape: (1, 1)\n",
       "┌────────────────┐\n",
       "│ Median Cijfers │\n",
       "│ ---            │\n",
       "│ f64            │\n",
       "╞════════════════╡\n",
       "│ 10.55          │\n",
       "└────────────────┘"
      ]
     },
     "execution_count": 9,
     "metadata": {},
     "output_type": "execute_result"
    }
   ],
   "source": [
    "df_median.select([pl.col('cijfers').median().alias('Median Cijfers')])"
   ]
  },
  {
   "attachments": {},
   "cell_type": "markdown",
   "id": "452d3205-d328-4f7c-a411-db0cecd37d5c",
   "metadata": {},
   "source": [
    "# Mode\n",
    "### Waarde die het meeste voorkomt. Most Frequent value\n",
    "### We kunnen tellen hoevaak elk getal voor komt"
   ]
  },
  {
   "cell_type": "code",
   "execution_count": 10,
   "id": "581400f6-e601-4d59-b4fe-9afd2696949c",
   "metadata": {},
   "outputs": [
    {
     "data": {
      "text/html": [
       "<div><style>\n",
       ".dataframe > thead > tr > th,\n",
       ".dataframe > tbody > tr > td {\n",
       "  text-align: right;\n",
       "}\n",
       "</style>\n",
       "<small>shape: (3, 1)</small><table border=\"1\" class=\"dataframe\"><thead><tr><th>sleep_total</th></tr><tr><td>f64</td></tr></thead><tbody><tr><td>12.5</td></tr><tr><td>14.9</td></tr><tr><td>12.5</td></tr></tbody></table></div>"
      ],
      "text/plain": [
       "shape: (3, 1)\n",
       "┌─────────────┐\n",
       "│ sleep_total │\n",
       "│ ---         │\n",
       "│ f64         │\n",
       "╞═════════════╡\n",
       "│ 12.5        │\n",
       "│ 14.9        │\n",
       "│ 12.5        │\n",
       "└─────────────┘"
      ]
     },
     "execution_count": 10,
     "metadata": {},
     "output_type": "execute_result"
    }
   ],
   "source": [
    "import polars as pl\n",
    "df_mode = pl.DataFrame(\n",
    "    {\n",
    "     'sleep_total':[12.5,14.9,12.5,11,12.5,17,12.5,8.4,10.1,14.9,11,14.3,10.1,10.1,8.4]\n",
    "    }\n",
    ")\n",
    "df_mode.head(3)"
   ]
  },
  {
   "cell_type": "code",
   "execution_count": 11,
   "id": "88645604-d59c-4054-9ada-992730a5ae91",
   "metadata": {},
   "outputs": [
    {
     "data": {
      "text/html": [
       "<div><style>\n",
       ".dataframe > thead > tr > th,\n",
       ".dataframe > tbody > tr > td {\n",
       "  text-align: right;\n",
       "}\n",
       "</style>\n",
       "<small>shape: (7, 1)</small><table border=\"1\" class=\"dataframe\"><thead><tr><th>sleep_total</th></tr><tr><td>struct[2]</td></tr></thead><tbody><tr><td>{11.0,2}</td></tr><tr><td>{17.0,1}</td></tr><tr><td>{10.1,3}</td></tr><tr><td>{12.5,4}</td></tr><tr><td>{14.9,2}</td></tr><tr><td>{14.3,1}</td></tr><tr><td>{8.4,2}</td></tr></tbody></table></div>"
      ],
      "text/plain": [
       "shape: (7, 1)\n",
       "┌─────────────┐\n",
       "│ sleep_total │\n",
       "│ ---         │\n",
       "│ struct[2]   │\n",
       "╞═════════════╡\n",
       "│ {11.0,2}    │\n",
       "│ {17.0,1}    │\n",
       "│ {10.1,3}    │\n",
       "│ {12.5,4}    │\n",
       "│ {14.9,2}    │\n",
       "│ {14.3,1}    │\n",
       "│ {8.4,2}     │\n",
       "└─────────────┘"
      ]
     },
     "execution_count": 11,
     "metadata": {},
     "output_type": "execute_result"
    }
   ],
   "source": [
    "df_mode.select([\n",
    "    pl.col('sleep_total').value_counts()\n",
    "]) # Hieronder zien we hoe vaak elke waarde voor komt"
   ]
  },
  {
   "cell_type": "markdown",
   "id": "539a4400-d2f4-4cd1-9415-6e465eaae37d",
   "metadata": {},
   "source": [
    "### Welk getal komt het meeste voor: Als er 2 of meer getallen zijn die het meest voor komen dan worden deze getallen beiden genoemd."
   ]
  },
  {
   "cell_type": "code",
   "execution_count": 12,
   "id": "b306fb0b-439c-4cf1-b5e9-709510314300",
   "metadata": {},
   "outputs": [
    {
     "data": {
      "text/html": [
       "<div><style>\n",
       ".dataframe > thead > tr > th,\n",
       ".dataframe > tbody > tr > td {\n",
       "  text-align: right;\n",
       "}\n",
       "</style>\n",
       "<small>shape: (1, 1)</small><table border=\"1\" class=\"dataframe\"><thead><tr><th>Mode sleep total</th></tr><tr><td>f64</td></tr></thead><tbody><tr><td>12.5</td></tr></tbody></table></div>"
      ],
      "text/plain": [
       "shape: (1, 1)\n",
       "┌──────────────────┐\n",
       "│ Mode sleep total │\n",
       "│ ---              │\n",
       "│ f64              │\n",
       "╞══════════════════╡\n",
       "│ 12.5             │\n",
       "└──────────────────┘"
      ]
     },
     "execution_count": 12,
     "metadata": {},
     "output_type": "execute_result"
    }
   ],
   "source": [
    "df_mode.select([pl.col('sleep_total').mode().alias('Mode sleep total')])"
   ]
  },
  {
   "cell_type": "markdown",
   "id": "dd2dbfeb-f14a-4c78-ae00-64aec285a8db",
   "metadata": {},
   "source": [
    "### Met de statistics librarie"
   ]
  },
  {
   "cell_type": "code",
   "execution_count": 13,
   "id": "a09d9e07-652c-49f1-8e40-e832ef17dbea",
   "metadata": {},
   "outputs": [
    {
     "data": {
      "text/plain": [
       "12.5"
      ]
     },
     "execution_count": 13,
     "metadata": {},
     "output_type": "execute_result"
    }
   ],
   "source": [
    "sleep_total = [12.5,14.9,12.5,11,12.5,17,12.5,8.4,10.1,14.9,11,14.3,10.1,10.1,8.4]\n",
    "import statistics\n",
    "statistics.mode(sleep_total)"
   ]
  },
  {
   "cell_type": "markdown",
   "id": "b6298035-8f4e-4f42-8a36-9526ad6f6e5f",
   "metadata": {},
   "source": [
    "# Extra informatie"
   ]
  },
  {
   "cell_type": "code",
   "execution_count": 15,
   "id": "4f12a99e-c6f8-4eb7-a5ec-60ebc617b13f",
   "metadata": {},
   "outputs": [],
   "source": [
    "import matplotlib.pyplot as plt"
   ]
  },
  {
   "cell_type": "code",
   "execution_count": 28,
   "id": "d0dee961-4fe8-459a-900b-f74cf09eb39e",
   "metadata": {},
   "outputs": [
    {
     "data": {
      "text/html": [
       "<div><style>\n",
       ".dataframe > thead > tr > th,\n",
       ".dataframe > tbody > tr > td {\n",
       "  text-align: right;\n",
       "}\n",
       "</style>\n",
       "<small>shape: (5, 2)</small><table border=\"1\" class=\"dataframe\"><thead><tr><th>name</th><th>sleep_total</th></tr><tr><td>str</td><td>f64</td></tr></thead><tbody><tr><td>&quot;Sheetah&quot;</td><td>12.1</td></tr><tr><td>&quot;Owl monkey&quot;</td><td>17.0</td></tr><tr><td>&quot;Mountain beave…</td><td>14.4</td></tr><tr><td>&quot;Greater short-…</td><td>14.9</td></tr><tr><td>&quot;dog&quot;</td><td>4.0</td></tr></tbody></table></div>"
      ],
      "text/plain": [
       "shape: (5, 2)\n",
       "┌─────────────────┬─────────────┐\n",
       "│ name            ┆ sleep_total │\n",
       "│ ---             ┆ ---         │\n",
       "│ str             ┆ f64         │\n",
       "╞═════════════════╪═════════════╡\n",
       "│ Sheetah         ┆ 12.1        │\n",
       "│ Owl monkey      ┆ 17.0        │\n",
       "│ Mountain beaver ┆ 14.4        │\n",
       "│ Greater short-t ┆ 14.9        │\n",
       "│ dog             ┆ 4.0         │\n",
       "└─────────────────┴─────────────┘"
      ]
     },
     "execution_count": 28,
     "metadata": {},
     "output_type": "execute_result"
    }
   ],
   "source": [
    "import polars as pl\n",
    "df = pl.DataFrame(\n",
    "    {\n",
    "    'name':['Sheetah','Owl monkey','Mountain beaver','Greater short-t','dog'],\n",
    "    'sleep_total':[12.1,17,14.4,14.9,4]\n",
    "    }\n",
    ")\n",
    "df"
   ]
  },
  {
   "cell_type": "code",
   "execution_count": 44,
   "id": "06c9da27-4a5f-4962-bc88-2d61b18901cf",
   "metadata": {},
   "outputs": [],
   "source": [
    "# https://www.statology.org/seaborn-figure-size/"
   ]
  },
  {
   "cell_type": "code",
   "execution_count": 38,
   "id": "b7f3a409-4990-48b6-92cd-4cc450bc7ef1",
   "metadata": {},
   "outputs": [
    {
     "name": "stdout",
     "output_type": "stream",
     "text": [
      "CPU times: total: 15.6 ms\n",
      "Wall time: 77.1 ms\n"
     ]
    },
    {
     "data": {
      "image/png": "[encoded data removed]",
      "text/plain": [
       "<Figure size 1170x827 with 1 Axes>"
      ]
     },
     "metadata": {},
     "output_type": "display_data"
    }
   ],
   "source": [
    "\n",
    "%%time\n",
    "import seaborn as sns\n",
    "sns.lineplot(data=df,\n",
    "            x='name',\n",
    "            y='sleep_total').set(title='Average Quantity Sold by Year')\n",
    "sns.set(rc={'figure.figsize':(11,8)})"
   ]
  },
  {
   "cell_type": "code",
   "execution_count": 42,
   "id": "9416eb97-611f-49dc-9372-df4e1e2c6736",
   "metadata": {},
   "outputs": [
    {
     "data": {
      "text/plain": [
       "<Axes: xlabel='var1', ylabel='var2'>"
      ]
     },
     "execution_count": 42,
     "metadata": {},
     "output_type": "execute_result"
    },
    {
     "data": {
      "image/png": "[encoded data removed]",
      "text/plain": [
       "<Figure size 800x400 with 1 Axes>"
      ]
     },
     "metadata": {},
     "output_type": "display_data"
    }
   ],
   "source": [
    "import pandas as pd\n",
    "import seaborn as sns\n",
    "\n",
    "#create data\n",
    "df = pd.DataFrame({\"var1\": [25, 12, 15, 14, 19, 23, 25, 29],\n",
    "                   \"var2\": [5, 7, 7, 9, 12, 9, 9, 4],\n",
    "                   \"var3\": [11, 8, 10, 6, 6, 5, 9, 12]})\n",
    "\n",
    "#define figure size\n",
    "sns.set(rc={\"figure.figsize\":(8, 4)}) #width=8, height=4\n",
    "\n",
    "#display scatterplot\n",
    "sns.scatterplot(data=df, x=\"var1\", y=\"var2\")"
   ]
  },
  {
   "cell_type": "code",
   "execution_count": null,
   "id": "7e1462a6-395c-4f86-baa1-68b8f6a34dd0",
   "metadata": {},
   "outputs": [],
   "source": []
  }
 ],
 "metadata": {
  "kernelspec": {
   "display_name": "Python 3 (ipykernel)",
   "language": "python",
   "name": "python3"
  },
  "language_info": {
   "codemirror_mode": {
    "name": "ipython",
    "version": 3
   },
   "file_extension": ".py",
   "mimetype": "text/x-python",
   "name": "python",
   "nbconvert_exporter": "python",
   "pygments_lexer": "ipython3",
   "version": "3.11.0"
  }
 },
 "nbformat": 4,
 "nbformat_minor": 5
}
