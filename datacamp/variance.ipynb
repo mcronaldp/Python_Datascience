{
 "cells": [
  {
   "cell_type": "markdown",
   "id": "1cd06caa-730c-4f5f-a47d-cce99b178c25",
   "metadata": {},
   "source": [
    "# Variance berekenen: Distribution van data: "
   ]
  },
  {
   "cell_type": "code",
   "execution_count": 3,
   "id": "6e3fa314-5282-4e77-97e4-150377e1b867",
   "metadata": {},
   "outputs": [
    {
     "data": {
      "text/html": [
       "<div>\n",
       "<style scoped>\n",
       "    .dataframe tbody tr th:only-of-type {\n",
       "        vertical-align: middle;\n",
       "    }\n",
       "\n",
       "    .dataframe tbody tr th {\n",
       "        vertical-align: top;\n",
       "    }\n",
       "\n",
       "    .dataframe thead th {\n",
       "        text-align: right;\n",
       "    }\n",
       "</style>\n",
       "<table border=\"1\" class=\"dataframe\">\n",
       "  <thead>\n",
       "    <tr style=\"text-align: right;\">\n",
       "      <th></th>\n",
       "      <th>species</th>\n",
       "      <th>body_wt</th>\n",
       "      <th>brain_wt</th>\n",
       "      <th>non_dreaming</th>\n",
       "      <th>dreaming</th>\n",
       "      <th>total_sleep</th>\n",
       "      <th>life_span</th>\n",
       "      <th>gestation</th>\n",
       "      <th>predation</th>\n",
       "      <th>exposure</th>\n",
       "      <th>danger</th>\n",
       "    </tr>\n",
       "  </thead>\n",
       "  <tbody>\n",
       "    <tr>\n",
       "      <th>0</th>\n",
       "      <td>Africanelephant</td>\n",
       "      <td>6654.000</td>\n",
       "      <td>5712.0</td>\n",
       "      <td>NaN</td>\n",
       "      <td>NaN</td>\n",
       "      <td>3.3</td>\n",
       "      <td>38.6</td>\n",
       "      <td>645.0</td>\n",
       "      <td>3</td>\n",
       "      <td>5</td>\n",
       "      <td>3</td>\n",
       "    </tr>\n",
       "    <tr>\n",
       "      <th>1</th>\n",
       "      <td>Africangiantpouchedrat</td>\n",
       "      <td>1.000</td>\n",
       "      <td>6.6</td>\n",
       "      <td>6.3</td>\n",
       "      <td>2.0</td>\n",
       "      <td>8.3</td>\n",
       "      <td>4.5</td>\n",
       "      <td>42.0</td>\n",
       "      <td>3</td>\n",
       "      <td>1</td>\n",
       "      <td>3</td>\n",
       "    </tr>\n",
       "    <tr>\n",
       "      <th>2</th>\n",
       "      <td>ArcticFox</td>\n",
       "      <td>3.385</td>\n",
       "      <td>44.5</td>\n",
       "      <td>NaN</td>\n",
       "      <td>NaN</td>\n",
       "      <td>12.5</td>\n",
       "      <td>14.0</td>\n",
       "      <td>60.0</td>\n",
       "      <td>1</td>\n",
       "      <td>1</td>\n",
       "      <td>1</td>\n",
       "    </tr>\n",
       "    <tr>\n",
       "      <th>3</th>\n",
       "      <td>Arcticgroundsquirrel</td>\n",
       "      <td>0.920</td>\n",
       "      <td>5.7</td>\n",
       "      <td>NaN</td>\n",
       "      <td>NaN</td>\n",
       "      <td>16.5</td>\n",
       "      <td>NaN</td>\n",
       "      <td>25.0</td>\n",
       "      <td>5</td>\n",
       "      <td>2</td>\n",
       "      <td>3</td>\n",
       "    </tr>\n",
       "    <tr>\n",
       "      <th>4</th>\n",
       "      <td>Asianelephant</td>\n",
       "      <td>2547.000</td>\n",
       "      <td>4603.0</td>\n",
       "      <td>2.1</td>\n",
       "      <td>1.8</td>\n",
       "      <td>3.9</td>\n",
       "      <td>69.0</td>\n",
       "      <td>624.0</td>\n",
       "      <td>3</td>\n",
       "      <td>5</td>\n",
       "      <td>4</td>\n",
       "    </tr>\n",
       "  </tbody>\n",
       "</table>\n",
       "</div>"
      ],
      "text/plain": [
       "                  species   body_wt  brain_wt  non_dreaming  dreaming   \n",
       "0         Africanelephant  6654.000    5712.0           NaN       NaN  \\\n",
       "1  Africangiantpouchedrat     1.000       6.6           6.3       2.0   \n",
       "2               ArcticFox     3.385      44.5           NaN       NaN   \n",
       "3    Arcticgroundsquirrel     0.920       5.7           NaN       NaN   \n",
       "4           Asianelephant  2547.000    4603.0           2.1       1.8   \n",
       "\n",
       "   total_sleep  life_span  gestation  predation  exposure  danger  \n",
       "0          3.3       38.6      645.0          3         5       3  \n",
       "1          8.3        4.5       42.0          3         1       3  \n",
       "2         12.5       14.0       60.0          1         1       1  \n",
       "3         16.5        NaN       25.0          5         2       3  \n",
       "4          3.9       69.0      624.0          3         5       4  "
      ]
     },
     "execution_count": 3,
     "metadata": {},
     "output_type": "execute_result"
    }
   ],
   "source": [
    "import numpy as np\n",
    "import pandas as pd\n",
    "import seaborn as sns\n",
    "import matplotlib.pyplot as plt\n",
    "df = pd.read_csv('mammals.csv')\n",
    "df.head()"
   ]
  },
  {
   "cell_type": "markdown",
   "id": "934b45f8-543f-411b-be52-a2e1a06bbf51",
   "metadata": {},
   "source": [
    "# Beschrijft de waardes:"
   ]
  },
  {
   "cell_type": "code",
   "execution_count": 14,
   "id": "8d81d7d8-b7d2-4b08-86e6-d8bd459bea7c",
   "metadata": {},
   "outputs": [
    {
     "data": {
      "text/html": [
       "<div>\n",
       "<style scoped>\n",
       "    .dataframe tbody tr th:only-of-type {\n",
       "        vertical-align: middle;\n",
       "    }\n",
       "\n",
       "    .dataframe tbody tr th {\n",
       "        vertical-align: top;\n",
       "    }\n",
       "\n",
       "    .dataframe thead th {\n",
       "        text-align: right;\n",
       "    }\n",
       "</style>\n",
       "<table border=\"1\" class=\"dataframe\">\n",
       "  <thead>\n",
       "    <tr style=\"text-align: right;\">\n",
       "      <th></th>\n",
       "      <th>body_wt</th>\n",
       "      <th>brain_wt</th>\n",
       "      <th>non_dreaming</th>\n",
       "      <th>dreaming</th>\n",
       "      <th>total_sleep</th>\n",
       "      <th>life_span</th>\n",
       "      <th>gestation</th>\n",
       "      <th>predation</th>\n",
       "      <th>exposure</th>\n",
       "      <th>danger</th>\n",
       "    </tr>\n",
       "  </thead>\n",
       "  <tbody>\n",
       "    <tr>\n",
       "      <th>count</th>\n",
       "      <td>62.000000</td>\n",
       "      <td>62.000000</td>\n",
       "      <td>48.000000</td>\n",
       "      <td>50.000000</td>\n",
       "      <td>58.000000</td>\n",
       "      <td>58.000000</td>\n",
       "      <td>58.000000</td>\n",
       "      <td>62.000000</td>\n",
       "      <td>62.000000</td>\n",
       "      <td>62.000000</td>\n",
       "    </tr>\n",
       "    <tr>\n",
       "      <th>mean</th>\n",
       "      <td>198.789984</td>\n",
       "      <td>283.134194</td>\n",
       "      <td>8.672917</td>\n",
       "      <td>1.972000</td>\n",
       "      <td>10.532759</td>\n",
       "      <td>19.877586</td>\n",
       "      <td>142.353448</td>\n",
       "      <td>2.870968</td>\n",
       "      <td>2.419355</td>\n",
       "      <td>2.612903</td>\n",
       "    </tr>\n",
       "    <tr>\n",
       "      <th>std</th>\n",
       "      <td>899.158011</td>\n",
       "      <td>930.278942</td>\n",
       "      <td>3.666452</td>\n",
       "      <td>1.442651</td>\n",
       "      <td>4.606760</td>\n",
       "      <td>18.206255</td>\n",
       "      <td>146.805039</td>\n",
       "      <td>1.476414</td>\n",
       "      <td>1.604792</td>\n",
       "      <td>1.441252</td>\n",
       "    </tr>\n",
       "    <tr>\n",
       "      <th>min</th>\n",
       "      <td>0.005000</td>\n",
       "      <td>0.140000</td>\n",
       "      <td>2.100000</td>\n",
       "      <td>0.000000</td>\n",
       "      <td>2.600000</td>\n",
       "      <td>2.000000</td>\n",
       "      <td>12.000000</td>\n",
       "      <td>1.000000</td>\n",
       "      <td>1.000000</td>\n",
       "      <td>1.000000</td>\n",
       "    </tr>\n",
       "    <tr>\n",
       "      <th>25%</th>\n",
       "      <td>0.600000</td>\n",
       "      <td>4.250000</td>\n",
       "      <td>6.250000</td>\n",
       "      <td>0.900000</td>\n",
       "      <td>8.050000</td>\n",
       "      <td>6.625000</td>\n",
       "      <td>35.750000</td>\n",
       "      <td>2.000000</td>\n",
       "      <td>1.000000</td>\n",
       "      <td>1.000000</td>\n",
       "    </tr>\n",
       "    <tr>\n",
       "      <th>50%</th>\n",
       "      <td>3.342500</td>\n",
       "      <td>17.250000</td>\n",
       "      <td>8.350000</td>\n",
       "      <td>1.800000</td>\n",
       "      <td>10.450000</td>\n",
       "      <td>15.100000</td>\n",
       "      <td>79.000000</td>\n",
       "      <td>3.000000</td>\n",
       "      <td>2.000000</td>\n",
       "      <td>2.000000</td>\n",
       "    </tr>\n",
       "    <tr>\n",
       "      <th>75%</th>\n",
       "      <td>48.202500</td>\n",
       "      <td>166.000000</td>\n",
       "      <td>11.000000</td>\n",
       "      <td>2.550000</td>\n",
       "      <td>13.200000</td>\n",
       "      <td>27.750000</td>\n",
       "      <td>207.500000</td>\n",
       "      <td>4.000000</td>\n",
       "      <td>4.000000</td>\n",
       "      <td>4.000000</td>\n",
       "    </tr>\n",
       "    <tr>\n",
       "      <th>max</th>\n",
       "      <td>6654.000000</td>\n",
       "      <td>5712.000000</td>\n",
       "      <td>17.900000</td>\n",
       "      <td>6.600000</td>\n",
       "      <td>19.900000</td>\n",
       "      <td>100.000000</td>\n",
       "      <td>645.000000</td>\n",
       "      <td>5.000000</td>\n",
       "      <td>5.000000</td>\n",
       "      <td>5.000000</td>\n",
       "    </tr>\n",
       "  </tbody>\n",
       "</table>\n",
       "</div>"
      ],
      "text/plain": [
       "           body_wt     brain_wt  non_dreaming   dreaming  total_sleep   \n",
       "count    62.000000    62.000000     48.000000  50.000000    58.000000  \\\n",
       "mean    198.789984   283.134194      8.672917   1.972000    10.532759   \n",
       "std     899.158011   930.278942      3.666452   1.442651     4.606760   \n",
       "min       0.005000     0.140000      2.100000   0.000000     2.600000   \n",
       "25%       0.600000     4.250000      6.250000   0.900000     8.050000   \n",
       "50%       3.342500    17.250000      8.350000   1.800000    10.450000   \n",
       "75%      48.202500   166.000000     11.000000   2.550000    13.200000   \n",
       "max    6654.000000  5712.000000     17.900000   6.600000    19.900000   \n",
       "\n",
       "        life_span   gestation  predation   exposure     danger  \n",
       "count   58.000000   58.000000  62.000000  62.000000  62.000000  \n",
       "mean    19.877586  142.353448   2.870968   2.419355   2.612903  \n",
       "std     18.206255  146.805039   1.476414   1.604792   1.441252  \n",
       "min      2.000000   12.000000   1.000000   1.000000   1.000000  \n",
       "25%      6.625000   35.750000   2.000000   1.000000   1.000000  \n",
       "50%     15.100000   79.000000   3.000000   2.000000   2.000000  \n",
       "75%     27.750000  207.500000   4.000000   4.000000   4.000000  \n",
       "max    100.000000  645.000000   5.000000   5.000000   5.000000  "
      ]
     },
     "execution_count": 14,
     "metadata": {},
     "output_type": "execute_result"
    }
   ],
   "source": [
    "df.describe()"
   ]
  },
  {
   "cell_type": "markdown",
   "id": "6ee0c2a0-bfec-4c73-ab15-2f45a3b1492f",
   "metadata": {},
   "source": [
    "## 1. Haal het Gemiddelde van elk datapoint af:"
   ]
  },
  {
   "cell_type": "code",
   "execution_count": 5,
   "id": "174c2b20-25e4-4856-a33d-accdf07b4c4e",
   "metadata": {},
   "outputs": [],
   "source": [
    "msleep = df\n",
    "dists = msleep['total_sleep'] - np.mean(msleep['total_sleep'])"
   ]
  },
  {
   "cell_type": "code",
   "execution_count": 6,
   "id": "dd880d0e-fbe3-4741-a2ca-f3b8d5996e3e",
   "metadata": {},
   "outputs": [
    {
     "name": "stdout",
     "output_type": "stream",
     "text": [
      "0    -7.232759\n",
      "1    -2.232759\n",
      "2     1.967241\n",
      "3     5.967241\n",
      "4    -6.632759\n",
      "        ...   \n",
      "57   -5.132759\n",
      "58    5.267241\n",
      "59   -0.232759\n",
      "60    8.867241\n",
      "61         NaN\n",
      "Name: total_sleep, Length: 62, dtype: float64\n"
     ]
    }
   ],
   "source": [
    "print(dists)"
   ]
  },
  {
   "cell_type": "markdown",
   "id": "fbf5f310-7662-4bf3-99d2-e8fd3d0178e6",
   "metadata": {},
   "source": [
    "# 2. Square elke afstand:\n",
    "### Dit doen we om alle cijfers positief te maken"
   ]
  },
  {
   "cell_type": "code",
   "execution_count": 9,
   "id": "066f62cf-cf01-41af-a305-a71d922ece47",
   "metadata": {},
   "outputs": [
    {
     "name": "stdout",
     "output_type": "stream",
     "text": [
      "0     52.312797\n",
      "1      4.985211\n",
      "2      3.870039\n",
      "3     35.607970\n",
      "4     43.993487\n",
      "        ...    \n",
      "57    26.345211\n",
      "58    27.743832\n",
      "59     0.054177\n",
      "60    78.627970\n",
      "61          NaN\n",
      "Name: total_sleep, Length: 62, dtype: float64\n"
     ]
    }
   ],
   "source": [
    "sq_dists = dists ** 2\n",
    "print(sq_dists)"
   ]
  },
  {
   "cell_type": "markdown",
   "id": "54e0241c-91ee-4093-8c74-d0db4f1ddcce",
   "metadata": {},
   "source": [
    "# 3. Tel alle waardes bij elkaar op."
   ]
  },
  {
   "cell_type": "code",
   "execution_count": 11,
   "id": "f2420673-4a3b-4534-99f4-ca3a3ba037f6",
   "metadata": {},
   "outputs": [
    {
     "name": "stdout",
     "output_type": "stream",
     "text": [
      "1209.6677586206895\n"
     ]
    }
   ],
   "source": [
    "sum_sq_dists = np.sum(sq_dists)\n",
    "print(sum_sq_dists)"
   ]
  },
  {
   "cell_type": "markdown",
   "id": "21f0dd9c-fd4d-4b35-8551-ab0ae1a1faa1",
   "metadata": {},
   "source": [
    "# 4. Deel de som van de squared afstanden door het aantal datapunten - 1. Dat is de variance (Variantie)"
   ]
  },
  {
   "cell_type": "code",
   "execution_count": 16,
   "id": "de54579c-67b3-4a64-82e2-50db68d0fbea",
   "metadata": {},
   "outputs": [
    {
     "name": "stdout",
     "output_type": "stream",
     "text": [
      "21.222241379310343\n"
     ]
    }
   ],
   "source": [
    "variance = sum_sq_dists / (58-1)\n",
    "print(variance)"
   ]
  },
  {
   "cell_type": "markdown",
   "id": "5f73ddf0-e5f8-4cb1-8a58-132e8c7ae89d",
   "metadata": {},
   "source": [
    "## Hoe hoger de variance, hoe meer de data verspreid is."
   ]
  },
  {
   "cell_type": "markdown",
   "id": "c9820b95-3d18-416c-bed3-cd5a3a5a13cf",
   "metadata": {},
   "source": [
    "# We kunnen de variance ook in 1 stap berekenen:"
   ]
  },
  {
   "cell_type": "code",
   "execution_count": 20,
   "id": "cf4b3a71-6ebe-48b6-abe9-323562cf67f3",
   "metadata": {},
   "outputs": [
    {
     "data": {
      "text/plain": [
       "21.222241379310343"
      ]
     },
     "execution_count": 20,
     "metadata": {},
     "output_type": "execute_result"
    }
   ],
   "source": [
    "np.var(msleep['total_sleep'], ddof=1)"
   ]
  },
  {
   "cell_type": "markdown",
   "id": "3c858ea1-9206-48b5-88aa-7b56a08107da",
   "metadata": {},
   "source": [
    "### Let op!\r\n",
    "\r\n",
    "Zonder gebruik van `ddof=1` , wordt de variance berekend op basis van de totale populatie en NIET een sample zoals we hier doen."
   ]
  },
  {
   "cell_type": "code",
   "execution_count": 21,
   "id": "ca90b4ab-48a2-4692-ac6a-6832db71ea43",
   "metadata": {},
   "outputs": [
    {
     "data": {
      "text/plain": [
       "20.856340665873958"
      ]
     },
     "execution_count": 21,
     "metadata": {},
     "output_type": "execute_result"
    }
   ],
   "source": [
    "np.var(msleep['total_sleep'])"
   ]
  },
  {
   "cell_type": "code",
   "execution_count": null,
   "id": "a18bbad9-79e6-416b-a4c0-1ef7a8c747da",
   "metadata": {},
   "outputs": [],
   "source": []
  }
 ],
 "metadata": {
  "kernelspec": {
   "display_name": "Python 3 (ipykernel)",
   "language": "python",
   "name": "python3"
  },
  "language_info": {
   "codemirror_mode": {
    "name": "ipython",
    "version": 3
   },
   "file_extension": ".py",
   "mimetype": "text/x-python",
   "name": "python",
   "nbconvert_exporter": "python",
   "pygments_lexer": "ipython3",
   "version": "3.11.0"
  }
 },
 "nbformat": 4,
 "nbformat_minor": 5
}
