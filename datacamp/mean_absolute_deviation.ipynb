{
 "cells": [
  {
   "cell_type": "markdown",
   "id": "7458ee2c-9b43-492d-b89d-f6668800ecdc",
   "metadata": {},
   "source": [
    "# Mean absolute deviation"
   ]
  },
  {
   "cell_type": "code",
   "execution_count": 1,
   "id": "8d68c64b-98f4-4088-884c-53402ae2cfaf",
   "metadata": {},
   "outputs": [
    {
     "data": {
      "text/html": [
       "<div>\n",
       "<style scoped>\n",
       "    .dataframe tbody tr th:only-of-type {\n",
       "        vertical-align: middle;\n",
       "    }\n",
       "\n",
       "    .dataframe tbody tr th {\n",
       "        vertical-align: top;\n",
       "    }\n",
       "\n",
       "    .dataframe thead th {\n",
       "        text-align: right;\n",
       "    }\n",
       "</style>\n",
       "<table border=\"1\" class=\"dataframe\">\n",
       "  <thead>\n",
       "    <tr style=\"text-align: right;\">\n",
       "      <th></th>\n",
       "      <th>species</th>\n",
       "      <th>body_wt</th>\n",
       "      <th>brain_wt</th>\n",
       "      <th>non_dreaming</th>\n",
       "      <th>dreaming</th>\n",
       "      <th>total_sleep</th>\n",
       "      <th>life_span</th>\n",
       "      <th>gestation</th>\n",
       "      <th>predation</th>\n",
       "      <th>exposure</th>\n",
       "      <th>danger</th>\n",
       "    </tr>\n",
       "  </thead>\n",
       "  <tbody>\n",
       "    <tr>\n",
       "      <th>0</th>\n",
       "      <td>Africanelephant</td>\n",
       "      <td>6654.000</td>\n",
       "      <td>5712.0</td>\n",
       "      <td>NaN</td>\n",
       "      <td>NaN</td>\n",
       "      <td>3.3</td>\n",
       "      <td>38.6</td>\n",
       "      <td>645.0</td>\n",
       "      <td>3</td>\n",
       "      <td>5</td>\n",
       "      <td>3</td>\n",
       "    </tr>\n",
       "    <tr>\n",
       "      <th>1</th>\n",
       "      <td>Africangiantpouchedrat</td>\n",
       "      <td>1.000</td>\n",
       "      <td>6.6</td>\n",
       "      <td>6.3</td>\n",
       "      <td>2.0</td>\n",
       "      <td>8.3</td>\n",
       "      <td>4.5</td>\n",
       "      <td>42.0</td>\n",
       "      <td>3</td>\n",
       "      <td>1</td>\n",
       "      <td>3</td>\n",
       "    </tr>\n",
       "    <tr>\n",
       "      <th>2</th>\n",
       "      <td>ArcticFox</td>\n",
       "      <td>3.385</td>\n",
       "      <td>44.5</td>\n",
       "      <td>NaN</td>\n",
       "      <td>NaN</td>\n",
       "      <td>12.5</td>\n",
       "      <td>14.0</td>\n",
       "      <td>60.0</td>\n",
       "      <td>1</td>\n",
       "      <td>1</td>\n",
       "      <td>1</td>\n",
       "    </tr>\n",
       "    <tr>\n",
       "      <th>3</th>\n",
       "      <td>Arcticgroundsquirrel</td>\n",
       "      <td>0.920</td>\n",
       "      <td>5.7</td>\n",
       "      <td>NaN</td>\n",
       "      <td>NaN</td>\n",
       "      <td>16.5</td>\n",
       "      <td>NaN</td>\n",
       "      <td>25.0</td>\n",
       "      <td>5</td>\n",
       "      <td>2</td>\n",
       "      <td>3</td>\n",
       "    </tr>\n",
       "    <tr>\n",
       "      <th>4</th>\n",
       "      <td>Asianelephant</td>\n",
       "      <td>2547.000</td>\n",
       "      <td>4603.0</td>\n",
       "      <td>2.1</td>\n",
       "      <td>1.8</td>\n",
       "      <td>3.9</td>\n",
       "      <td>69.0</td>\n",
       "      <td>624.0</td>\n",
       "      <td>3</td>\n",
       "      <td>5</td>\n",
       "      <td>4</td>\n",
       "    </tr>\n",
       "  </tbody>\n",
       "</table>\n",
       "</div>"
      ],
      "text/plain": [
       "                  species   body_wt  brain_wt  non_dreaming  dreaming  \\\n",
       "0         Africanelephant  6654.000    5712.0           NaN       NaN   \n",
       "1  Africangiantpouchedrat     1.000       6.6           6.3       2.0   \n",
       "2               ArcticFox     3.385      44.5           NaN       NaN   \n",
       "3    Arcticgroundsquirrel     0.920       5.7           NaN       NaN   \n",
       "4           Asianelephant  2547.000    4603.0           2.1       1.8   \n",
       "\n",
       "   total_sleep  life_span  gestation  predation  exposure  danger  \n",
       "0          3.3       38.6      645.0          3         5       3  \n",
       "1          8.3        4.5       42.0          3         1       3  \n",
       "2         12.5       14.0       60.0          1         1       1  \n",
       "3         16.5        NaN       25.0          5         2       3  \n",
       "4          3.9       69.0      624.0          3         5       4  "
      ]
     },
     "execution_count": 1,
     "metadata": {},
     "output_type": "execute_result"
    }
   ],
   "source": [
    "import numpy as np\n",
    "import pandas as pd\n",
    "import seaborn as sns\n",
    "import matplotlib.pyplot as plt\n",
    "df = pd.read_csv('mammals.csv')\n",
    "msleep = df\n",
    "msleep.head()"
   ]
  },
  {
   "cell_type": "markdown",
   "id": "1bddc6f7-8dec-4f2f-bf18-94ffe01f17fc",
   "metadata": {},
   "source": [
    "### Neem de absolute value of the distances to the mean. en neem dan de mean of those differences"
   ]
  },
  {
   "cell_type": "code",
   "execution_count": 6,
   "id": "d15e221a-fe6a-4b40-9e4a-2e26a88b8c5b",
   "metadata": {},
   "outputs": [
    {
     "ename": "SyntaxError",
     "evalue": "invalid syntax (2266758593.py, line 1)",
     "output_type": "error",
     "traceback": [
      "\u001b[1;36m  Cell \u001b[1;32mIn[6], line 1\u001b[1;36m\u001b[0m\n\u001b[1;33m    dist = msleep['total_sleep'] - mean(msleep$total_sleep) # WERKT helaas niet.\u001b[0m\n\u001b[1;37m                                              ^\u001b[0m\n\u001b[1;31mSyntaxError\u001b[0m\u001b[1;31m:\u001b[0m invalid syntax\n"
     ]
    }
   ],
   "source": [
    "dist = msleep['total_sleep'] - mean(msleep$total_sleep) # WERKT helaas niet.\n",
    "np.mean(np.abs(dists))"
   ]
  },
  {
   "cell_type": "markdown",
   "id": "2415f29e-462c-4f61-9b18-40ef7b32b4c2",
   "metadata": {},
   "source": [
    "### Standard deviation squares distances, penalizing (bestraft) longer distances more than shorter ones\n",
    "### Mean absolute deviation penalizes each distance equally\n",
    "### De 1 is niet beter dan de ander, maar Standard deviation is meer gebruikt."
   ]
  }
 ],
 "metadata": {
  "kernelspec": {
   "display_name": "Python 3 (ipykernel)",
   "language": "python",
   "name": "python3"
  },
  "language_info": {
   "codemirror_mode": {
    "name": "ipython",
    "version": 3
   },
   "file_extension": ".py",
   "mimetype": "text/x-python",
   "name": "python",
   "nbconvert_exporter": "python",
   "pygments_lexer": "ipython3",
   "version": "3.11.0"
  }
 },
 "nbformat": 4,
 "nbformat_minor": 5
}
