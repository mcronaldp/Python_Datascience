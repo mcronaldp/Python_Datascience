{
 "cells": [
  {
   "cell_type": "markdown",
   "id": "f0e7dd24-e980-48ab-9c06-d61fd93c52ed",
   "metadata": {},
   "source": [
    "## Quantiles: 0.5 quantile = median\n",
    "### Verdeelt de data in 2 gelijke delen.\n",
    "### Kies de kolom en daarna 0.5\n",
    "### De uitslag werkt nu niet maar als de uitslag 10.1 zou zijn, betekent dit dat 50% van dieren in de dataset minder slaap krijgen dan 10.1 uur\n",
    "### De andere 50 % slapen meer dan 10.1 uur. (Dus dit is hetzelfde als de median."
   ]
  },
  {
   "cell_type": "code",
   "execution_count": 14,
   "id": "61ce8918-90b6-4fcd-91f7-bc054d7674e4",
   "metadata": {},
   "outputs": [
    {
     "data": {
      "text/html": [
       "<div>\n",
       "<style scoped>\n",
       "    .dataframe tbody tr th:only-of-type {\n",
       "        vertical-align: middle;\n",
       "    }\n",
       "\n",
       "    .dataframe tbody tr th {\n",
       "        vertical-align: top;\n",
       "    }\n",
       "\n",
       "    .dataframe thead th {\n",
       "        text-align: right;\n",
       "    }\n",
       "</style>\n",
       "<table border=\"1\" class=\"dataframe\">\n",
       "  <thead>\n",
       "    <tr style=\"text-align: right;\">\n",
       "      <th></th>\n",
       "      <th>species</th>\n",
       "      <th>body_wt</th>\n",
       "      <th>brain_wt</th>\n",
       "      <th>non_dreaming</th>\n",
       "      <th>dreaming</th>\n",
       "      <th>total_sleep</th>\n",
       "      <th>life_span</th>\n",
       "      <th>gestation</th>\n",
       "      <th>predation</th>\n",
       "      <th>exposure</th>\n",
       "      <th>danger</th>\n",
       "    </tr>\n",
       "  </thead>\n",
       "  <tbody>\n",
       "    <tr>\n",
       "      <th>0</th>\n",
       "      <td>Africanelephant</td>\n",
       "      <td>6654.000</td>\n",
       "      <td>5712.0</td>\n",
       "      <td>NaN</td>\n",
       "      <td>NaN</td>\n",
       "      <td>3.3</td>\n",
       "      <td>38.6</td>\n",
       "      <td>645.0</td>\n",
       "      <td>3</td>\n",
       "      <td>5</td>\n",
       "      <td>3</td>\n",
       "    </tr>\n",
       "    <tr>\n",
       "      <th>1</th>\n",
       "      <td>Africangiantpouchedrat</td>\n",
       "      <td>1.000</td>\n",
       "      <td>6.6</td>\n",
       "      <td>6.3</td>\n",
       "      <td>2.0</td>\n",
       "      <td>8.3</td>\n",
       "      <td>4.5</td>\n",
       "      <td>42.0</td>\n",
       "      <td>3</td>\n",
       "      <td>1</td>\n",
       "      <td>3</td>\n",
       "    </tr>\n",
       "    <tr>\n",
       "      <th>2</th>\n",
       "      <td>ArcticFox</td>\n",
       "      <td>3.385</td>\n",
       "      <td>44.5</td>\n",
       "      <td>NaN</td>\n",
       "      <td>NaN</td>\n",
       "      <td>12.5</td>\n",
       "      <td>14.0</td>\n",
       "      <td>60.0</td>\n",
       "      <td>1</td>\n",
       "      <td>1</td>\n",
       "      <td>1</td>\n",
       "    </tr>\n",
       "    <tr>\n",
       "      <th>3</th>\n",
       "      <td>Arcticgroundsquirrel</td>\n",
       "      <td>0.920</td>\n",
       "      <td>5.7</td>\n",
       "      <td>NaN</td>\n",
       "      <td>NaN</td>\n",
       "      <td>16.5</td>\n",
       "      <td>NaN</td>\n",
       "      <td>25.0</td>\n",
       "      <td>5</td>\n",
       "      <td>2</td>\n",
       "      <td>3</td>\n",
       "    </tr>\n",
       "    <tr>\n",
       "      <th>4</th>\n",
       "      <td>Asianelephant</td>\n",
       "      <td>2547.000</td>\n",
       "      <td>4603.0</td>\n",
       "      <td>2.1</td>\n",
       "      <td>1.8</td>\n",
       "      <td>3.9</td>\n",
       "      <td>69.0</td>\n",
       "      <td>624.0</td>\n",
       "      <td>3</td>\n",
       "      <td>5</td>\n",
       "      <td>4</td>\n",
       "    </tr>\n",
       "  </tbody>\n",
       "</table>\n",
       "</div>"
      ],
      "text/plain": [
       "                  species   body_wt  brain_wt  non_dreaming  dreaming  \\\n",
       "0         Africanelephant  6654.000    5712.0           NaN       NaN   \n",
       "1  Africangiantpouchedrat     1.000       6.6           6.3       2.0   \n",
       "2               ArcticFox     3.385      44.5           NaN       NaN   \n",
       "3    Arcticgroundsquirrel     0.920       5.7           NaN       NaN   \n",
       "4           Asianelephant  2547.000    4603.0           2.1       1.8   \n",
       "\n",
       "   total_sleep  life_span  gestation  predation  exposure  danger  \n",
       "0          3.3       38.6      645.0          3         5       3  \n",
       "1          8.3        4.5       42.0          3         1       3  \n",
       "2         12.5       14.0       60.0          1         1       1  \n",
       "3         16.5        NaN       25.0          5         2       3  \n",
       "4          3.9       69.0      624.0          3         5       4  "
      ]
     },
     "execution_count": 14,
     "metadata": {},
     "output_type": "execute_result"
    }
   ],
   "source": [
    "import numpy as np\n",
    "import pandas as pd\n",
    "import seaborn as sns\n",
    "import matplotlib.pyplot as plt\n",
    "df = pd.read_csv('mammals.csv')\n",
    "msleep = df\n",
    "msleep.head()"
   ]
  },
  {
   "cell_type": "code",
   "execution_count": 15,
   "id": "a9e40009-e6e0-4619-8f20-9c95dbd1438e",
   "metadata": {},
   "outputs": [
    {
     "data": {
      "text/plain": [
       "nan"
      ]
     },
     "execution_count": 15,
     "metadata": {},
     "output_type": "execute_result"
    }
   ],
   "source": [
    "np.quantile(msleep['total_sleep'], 0.5) # Werkt niet"
   ]
  },
  {
   "cell_type": "markdown",
   "id": "5632a3c2-a29b-42ea-881e-1552a896be9b",
   "metadata": {},
   "source": [
    "# Meerdere quantiles:\n",
    "## We verdelen de data in 4 gelijke delen (quartiles)\n",
    "## 25 % van de data zit tussen een total sleep time van 1.9 en 7.85.\n",
    "## 25 % van de data zit tussen een total sleep time van 7.85 en 10.1\n",
    "## 25 % van de data zit tussen een total sleep time van 10.1 en 13.75\n",
    "## 25 % van de data zit tussen een total sleep time van 13.75 en 19.9"
   ]
  },
  {
   "cell_type": "code",
   "execution_count": 16,
   "id": "f6934c3b-fd8c-42e5-bf8c-b8cd49614dcd",
   "metadata": {},
   "outputs": [
    {
     "data": {
      "text/plain": [
       "array([nan, nan, nan, nan, nan])"
      ]
     },
     "execution_count": 16,
     "metadata": {},
     "output_type": "execute_result"
    }
   ],
   "source": [
    "np.quantile(msleep['total_sleep'], [0, 0.25, 0.5, 0.75, 1])\n",
    "# Uitslag: array([1.9, 7.85, 10.1, 13.75, 19.9])"
   ]
  },
  {
   "cell_type": "code",
   "execution_count": 20,
   "id": "57e96bbb-a8f2-4140-b318-f3274ac86ac3",
   "metadata": {},
   "outputs": [
    {
     "data": {
      "image/png": "[encoded data removed]",
      "text/plain": [
       "<Figure size 200x200 with 1 Axes>"
      ]
     },
     "metadata": {},
     "output_type": "display_data"
    }
   ],
   "source": [
    "import matplotlib.pyplot as plt\n",
    "plt.boxplot(msleep['total_sleep'])\n",
    "plt.show() # Deze werkt niet, waarom geen idee"
   ]
  },
  {
   "cell_type": "markdown",
   "id": "1f8273f3-d155-42d5-a700-8eaf5ff26b97",
   "metadata": {},
   "source": [
    "# Deze willekeurige formule om te kijken of matplotlib wel werkt. Ja dus"
   ]
  },
  {
   "cell_type": "code",
   "execution_count": 18,
   "id": "57954d7d-98f0-4eb5-bb81-3de7be1cfa83",
   "metadata": {},
   "outputs": [
    {
     "data": {
      "image/png": "[encoded data removed]",
      "text/plain": [
       "<Figure size 200x200 with 1 Axes>"
      ]
     },
     "metadata": {},
     "output_type": "display_data"
    }
   ],
   "source": [
    "import matplotlib.pyplot as plt\n",
    "import numpy as np\n",
    "\n",
    "plt.style.use('_mpl-gallery')\n",
    "\n",
    "# make data:\n",
    "np.random.seed(10)\n",
    "D = np.random.normal((3, 5, 4), (1.25, 1.00, 1.25), (100, 3))\n",
    "\n",
    "# plot\n",
    "fig, ax = plt.subplots()\n",
    "VP = ax.boxplot(D, positions=[2, 4, 6], widths=1.5, patch_artist=True,\n",
    "                showmeans=False, showfliers=False,\n",
    "                medianprops={\"color\": \"white\", \"linewidth\": 0.5},\n",
    "                boxprops={\"facecolor\": \"C0\", \"edgecolor\": \"white\",\n",
    "                          \"linewidth\": 0.5},\n",
    "                whiskerprops={\"color\": \"C0\", \"linewidth\": 1.5},\n",
    "                capprops={\"color\": \"C0\", \"linewidth\": 1.5})\n",
    "\n",
    "ax.set(xlim=(0, 8), xticks=np.arange(1, 8),\n",
    "       ylim=(0, 8), yticks=np.arange(1, 8))\n",
    "\n",
    "plt.show()"
   ]
  },
  {
   "cell_type": "code",
   "execution_count": 23,
   "id": "9ecf2776-7a4c-47e5-b63f-e946d3d21430",
   "metadata": {},
   "outputs": [
    {
     "data": {
      "text/plain": [
       "array([nan, nan, nan, nan, nan, nan])"
      ]
     },
     "execution_count": 23,
     "metadata": {},
     "output_type": "execute_result"
    }
   ],
   "source": [
    "np.quantile(msleep['total_sleep'], [0,0.2,0.4,0.6,0.8,1])"
   ]
  },
  {
   "cell_type": "code",
   "execution_count": 24,
   "id": "b44f6157-6764-4f84-8c6c-00c2b36fda1d",
   "metadata": {},
   "outputs": [
    {
     "name": "stdout",
     "output_type": "stream",
     "text": [
      "arr :  [20, 2, 7, nan, 34]\n",
      "\n",
      "-Q1 quantile of arr :  nan\n",
      "Q2 - quantile of arr :  nan\n",
      "Q3 - quantile of arr :  nan\n",
      "\n",
      "Q1 - nanquantile of arr :  13.5\n",
      "Q2 - nanquantile of arr :  5.75\n",
      "Q3 - nanquantile of arr :  23.5\n"
     ]
    }
   ],
   "source": [
    "# Python Program illustrating\n",
    "# numpy.nanquantile() method\n",
    "import numpy as np\n",
    "\n",
    "# 1D array\n",
    "arr = [20, 2, 7, np.nan, 34]\n",
    "print(\"arr : \", arr)\n",
    "\n",
    "print(\"\\n-Q1 quantile of arr : \", np.quantile(arr, .50))\n",
    "print(\"Q2 - quantile of arr : \", np.quantile(arr, .25))\n",
    "print(\"Q3 - quantile of arr : \", np.quantile(arr, .75))\n",
    "\n",
    "print(\"\\nQ1 - nanquantile of arr : \", np.nanquantile(arr, .50))\n",
    "print(\"Q2 - nanquantile of arr : \", np.nanquantile(arr, .25))\n",
    "print(\"Q3 - nanquantile of arr : \", np.nanquantile(arr, .75))\n"
   ]
  },
  {
   "cell_type": "code",
   "execution_count": 27,
   "id": "657fe338-a667-472b-8f14-c46214b94f5d",
   "metadata": {},
   "outputs": [],
   "source": [
    "# Interquartile range (IQR)"
   ]
  },
  {
   "cell_type": "code",
   "execution_count": 28,
   "id": "cbbc8694-49e0-430a-9d37-bf38e4385af0",
   "metadata": {},
   "outputs": [
    {
     "data": {
      "text/plain": [
       "nan"
      ]
     },
     "execution_count": 28,
     "metadata": {},
     "output_type": "execute_result"
    }
   ],
   "source": [
    "np.quantile(msleep['total_sleep'], 0.75) - np.quantile(msleep['total_sleep'],0.25)"
   ]
  },
  {
   "cell_type": "code",
   "execution_count": 31,
   "id": "136f5a59-a9c6-46ea-997d-70dc7a19425d",
   "metadata": {},
   "outputs": [
    {
     "ename": "AttributeError",
     "evalue": "module 'numpy' has no attribute 'linespace'",
     "output_type": "error",
     "traceback": [
      "\u001b[1;31m---------------------------------------------------------------------------\u001b[0m",
      "\u001b[1;31mAttributeError\u001b[0m                            Traceback (most recent call last)",
      "Cell \u001b[1;32mIn[31], line 1\u001b[0m\n\u001b[1;32m----> 1\u001b[0m np\u001b[38;5;241m.\u001b[39mquantile(msleep[\u001b[38;5;124m'\u001b[39m\u001b[38;5;124mtotal_sleep\u001b[39m\u001b[38;5;124m'\u001b[39m], \u001b[43mnp\u001b[49m\u001b[38;5;241;43m.\u001b[39;49m\u001b[43mlinespace\u001b[49m(\u001b[38;5;241m0\u001b[39m,\u001b[38;5;241m1\u001b[39m,\u001b[38;5;241m5\u001b[39m))\n",
      "File \u001b[1;32mC:\\Python\\Python311\\Lib\\site-packages\\numpy\\__init__.py:347\u001b[0m, in \u001b[0;36m__getattr__\u001b[1;34m(attr)\u001b[0m\n\u001b[0;32m    344\u001b[0m     \u001b[38;5;124m\"\u001b[39m\u001b[38;5;124mRemoved in NumPy 1.25.0\u001b[39m\u001b[38;5;124m\"\u001b[39m\n\u001b[0;32m    345\u001b[0m     \u001b[38;5;28;01mraise\u001b[39;00m \u001b[38;5;167;01mRuntimeError\u001b[39;00m(\u001b[38;5;124m\"\u001b[39m\u001b[38;5;124mTester was removed in NumPy 1.25.\u001b[39m\u001b[38;5;124m\"\u001b[39m)\n\u001b[1;32m--> 347\u001b[0m \u001b[38;5;28;01mraise\u001b[39;00m \u001b[38;5;167;01mAttributeError\u001b[39;00m(\u001b[38;5;124m\"\u001b[39m\u001b[38;5;124mmodule \u001b[39m\u001b[38;5;132;01m{!r}\u001b[39;00m\u001b[38;5;124m has no attribute \u001b[39m\u001b[38;5;124m\"\u001b[39m\n\u001b[0;32m    348\u001b[0m                      \u001b[38;5;124m\"\u001b[39m\u001b[38;5;132;01m{!r}\u001b[39;00m\u001b[38;5;124m\"\u001b[39m\u001b[38;5;241m.\u001b[39mformat(\u001b[38;5;18m__name__\u001b[39m, attr))\n",
      "\u001b[1;31mAttributeError\u001b[0m: module 'numpy' has no attribute 'linespace'"
     ]
    }
   ],
   "source": [
    "np.quantile(msleep['total_sleep'], np.linespace(0,1,5))"
   ]
  },
  {
   "cell_type": "code",
   "execution_count": null,
   "id": "bb19c7e3-34b6-48a8-9206-f1a49b6ddb53",
   "metadata": {},
   "outputs": [],
   "source": []
  }
 ],
 "metadata": {
  "kernelspec": {
   "display_name": "Python 3 (ipykernel)",
   "language": "python",
   "name": "python3"
  },
  "language_info": {
   "codemirror_mode": {
    "name": "ipython",
    "version": 3
   },
   "file_extension": ".py",
   "mimetype": "text/x-python",
   "name": "python",
   "nbconvert_exporter": "python",
   "pygments_lexer": "ipython3",
   "version": "3.11.0"
  }
 },
 "nbformat": 4,
 "nbformat_minor": 5
}
