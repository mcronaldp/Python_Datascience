{
 "cells": [
  {
   "cell_type": "markdown",
   "id": "7158306c-497b-42d6-bf29-f6db8648c437",
   "metadata": {},
   "source": [
    "# Interquartile range (IQR)"
   ]
  },
  {
   "cell_type": "markdown",
   "id": "4d5b3261-96f9-468d-8ae3-498431cedfd4",
   "metadata": {},
   "source": [
    "# Dit is de afstand tussen de 25e en de 75e percentage. Dit is ook de hoogte in een boxplot\n"
   ]
  },
  {
   "cell_type": "code",
   "execution_count": null,
   "id": "e636d8d4-3549-4f44-8054-93fee42129f9",
   "metadata": {},
   "outputs": [],
   "source": []
  }
 ],
 "metadata": {
  "kernelspec": {
   "display_name": "Python 3 (ipykernel)",
   "language": "python",
   "name": "python3"
  },
  "language_info": {
   "codemirror_mode": {
    "name": "ipython",
    "version": 3
   },
   "file_extension": ".py",
   "mimetype": "text/x-python",
   "name": "python",
   "nbconvert_exporter": "python",
   "pygments_lexer": "ipython3",
   "version": "3.11.0"
  }
 },
 "nbformat": 4,
 "nbformat_minor": 5
}
