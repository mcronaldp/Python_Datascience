{
 "cells": [
  {
   "cell_type": "markdown",
   "id": "c91ad975-bf40-4675-a998-44798c3c0285",
   "metadata": {},
   "source": [
    "# LinearRegression "
   ]
  },
  {
   "cell_type": "markdown",
   "id": "c6cc175b-e7c0-43e8-884a-3910cb553adc",
   "metadata": {},
   "source": [
    "## Example"
   ]
  },
  {
   "cell_type": "code",
   "execution_count": 10,
   "id": "3649d005-da19-491f-9094-cbf288a61c67",
   "metadata": {},
   "outputs": [
    {
     "name": "stdout",
     "output_type": "stream",
     "text": [
      "[3.15492958]\n"
     ]
    }
   ],
   "source": [
    "from sklearn.linear_model import LinearRegression \n",
    " \n",
    "X = [[5],[9],[10],[3],[5],[7]] \n",
    "y = [6,11,6,4,6,9] \n",
    "regressor = LinearRegression() \n",
    "regressor.fit(X, y) \n",
    "print(regressor.predict([[0]])) "
   ]
  },
  {
   "cell_type": "markdown",
   "id": "74c1e25a-dd2c-4faf-b078-b1baa5b8357e",
   "metadata": {},
   "source": [
    "# Ride sharing Linear regression"
   ]
  },
  {
   "cell_type": "code",
   "execution_count": 3,
   "id": "27fb49da-ca3f-4140-9c3e-0baba5f96e33",
   "metadata": {},
   "outputs": [
    {
     "data": {
      "text/html": [
       "<div>\n",
       "<style scoped>\n",
       "    .dataframe tbody tr th:only-of-type {\n",
       "        vertical-align: middle;\n",
       "    }\n",
       "\n",
       "    .dataframe tbody tr th {\n",
       "        vertical-align: top;\n",
       "    }\n",
       "\n",
       "    .dataframe thead th {\n",
       "        text-align: right;\n",
       "    }\n",
       "</style>\n",
       "<table border=\"1\" class=\"dataframe\">\n",
       "  <thead>\n",
       "    <tr style=\"text-align: right;\">\n",
       "      <th></th>\n",
       "      <th>Ride ID</th>\n",
       "      <th>City</th>\n",
       "      <th>Rider ID</th>\n",
       "      <th>Ride Time</th>\n",
       "      <th>Ride Fare</th>\n",
       "      <th>Ride Date</th>\n",
       "      <th>Ride Hour</th>\n",
       "    </tr>\n",
       "  </thead>\n",
       "  <tbody>\n",
       "    <tr>\n",
       "      <th>0</th>\n",
       "      <td>1</td>\n",
       "      <td>New York</td>\n",
       "      <td>100</td>\n",
       "      <td>15.0</td>\n",
       "      <td>10.0</td>\n",
       "      <td>1/1/2022</td>\n",
       "      <td>9.0</td>\n",
       "    </tr>\n",
       "    <tr>\n",
       "      <th>1</th>\n",
       "      <td>2</td>\n",
       "      <td>San Francisco</td>\n",
       "      <td>101</td>\n",
       "      <td>30.0</td>\n",
       "      <td>25.0</td>\n",
       "      <td>1/1/2022</td>\n",
       "      <td>10.0</td>\n",
       "    </tr>\n",
       "    <tr>\n",
       "      <th>2</th>\n",
       "      <td>3</td>\n",
       "      <td>Los Angeles</td>\n",
       "      <td>102</td>\n",
       "      <td>45.0</td>\n",
       "      <td>30.0</td>\n",
       "      <td>1/1/2022</td>\n",
       "      <td>11.0</td>\n",
       "    </tr>\n",
       "    <tr>\n",
       "      <th>3</th>\n",
       "      <td>4</td>\n",
       "      <td>New York</td>\n",
       "      <td>103</td>\n",
       "      <td>20.0</td>\n",
       "      <td>15.0</td>\n",
       "      <td>1/1/2022</td>\n",
       "      <td>12.0</td>\n",
       "    </tr>\n",
       "    <tr>\n",
       "      <th>4</th>\n",
       "      <td>5</td>\n",
       "      <td>San Francisco</td>\n",
       "      <td>104</td>\n",
       "      <td>10.0</td>\n",
       "      <td>7.0</td>\n",
       "      <td>1/2/2022</td>\n",
       "      <td>9.0</td>\n",
       "    </tr>\n",
       "  </tbody>\n",
       "</table>\n",
       "</div>"
      ],
      "text/plain": [
       "   Ride ID           City  Rider ID  Ride Time  Ride Fare Ride Date  Ride Hour\n",
       "0        1       New York       100       15.0       10.0  1/1/2022        9.0\n",
       "1        2  San Francisco       101       30.0       25.0  1/1/2022       10.0\n",
       "2        3    Los Angeles       102       45.0       30.0  1/1/2022       11.0\n",
       "3        4       New York       103       20.0       15.0  1/1/2022       12.0\n",
       "4        5  San Francisco       104       10.0        7.0  1/2/2022        9.0"
      ]
     },
     "execution_count": 3,
     "metadata": {},
     "output_type": "execute_result"
    }
   ],
   "source": [
    "import pandas as pd\n",
    "from sklearn.linear_model import LinearRegression\n",
    "### Load the ride sharing dataset into a pandas dataframe\n",
    "df = pd.read_csv(r'files\\Rides.csv')\n",
    "df.head()"
   ]
  },
  {
   "cell_type": "markdown",
   "id": "8f690c08-c6c2-4440-a4f1-bcdb740a728d",
   "metadata": {
    "jp-MarkdownHeadingCollapsed": true,
    "tags": []
   },
   "source": [
    "# Drop rows with missing values:"
   ]
  },
  {
   "cell_type": "markdown",
   "id": "98284b6a-a06f-4d39-a34e-6f098cac4f2a",
   "metadata": {},
   "source": [
    "# Er mogen geen NaN waardes in staan anders doet het model het niet."
   ]
  },
  {
   "cell_type": "code",
   "execution_count": 11,
   "id": "a118f206-4cfd-48ec-92f4-fb07e983243a",
   "metadata": {},
   "outputs": [],
   "source": [
    "dfcleaned = df.dropna()"
   ]
  },
  {
   "cell_type": "code",
   "execution_count": 12,
   "id": "aea5c03c-af7f-4a7c-baa6-c8d08f97e912",
   "metadata": {},
   "outputs": [
    {
     "name": "stdout",
     "output_type": "stream",
     "text": [
      "Coefficients: [ 0.74158    -0.19120212]\n"
     ]
    }
   ],
   "source": [
    "## Select the independent variables (ride_time and distance) and dependent variable (fare), respectively, from the dataframe \"df\".\n",
    "X = dfcleaned[['Ride Time', 'Ride Hour']]\n",
    "y = dfcleaned['Ride Fare']\n",
    "\n",
    "### Fit a linear regression model to the data\n",
    "reg = LinearRegression().fit(X, y)\n",
    "\n",
    "### Print the coefficients of the linear regression model\n",
    "print('Coefficients:', reg.coef_)"
   ]
  },
  {
   "cell_type": "markdown",
   "id": "43153d4b-cbb1-4c7c-b21d-6646e96fe74c",
   "metadata": {},
   "source": [
    "0.7 zie hierboven ligt bijna tegen 1 aan: betekent dat er een correlatie is tussen Ride Time en Ride Fare.\n",
    "Dus als de tijd langer duurt, wordt de Fare ook langer.\n",
    "-0.19 zit bijna tegen de 0 aan, Zero correlatie, dus betekent dat er geen relatie is tussen Ride Hour, dus uur van de dag waarop een rit plaats vind en de Ride Fare.\n",
    "This code performs a linear regression on the ride sharing dataset using the scikit-learn library. Here's a breakdown of the code:\n",
    "\n",
    "- The first line imports the pandas library, which is used for data manipulation and analysis.\n",
    "- The second line imports the LinearRegression class from the scikit-learn library, which is used for modeling linear regression.\n",
    "- The third line loads the ride sharing dataset into a pandas dataframe named \"df\".\n",
    "- The fourth and fifth lines select the independent variables (ride_time and distance) and dependent variable (fare), respectively, from the dataframe \"df\".\n",
    "- The sixth line fits a linear regression model to the data using the selected variables.\n",
    "- The seventh line prints the coefficients of the linear regression model.\n",
    "\n",
    "The coefficients represent the slopes of the linear regression line for each independent variable. \n",
    "In this case, there are two independent variables (Ride Time and Ride Hour) and one dependent variable (fare). \n",
    "The output of the code will be a list of two coefficients, one for each independent variable. \n",
    "These coefficients will indicate how much the fare changes for a one unit increase in each independent variable, holding all other variables constant."
   ]
  },
  {
   "cell_type": "markdown",
   "id": "bb911f67-6d65-4a0b-acb2-2e3238e5d5d4",
   "metadata": {},
   "source": [
    "These coefficients will indicate how much the fare changes for a one unit increase in each independent variable, holding all other variables constant.\n",
    "That should mean that the first one: coefficient: 0.74 will indicate that lets say Ride time= 10 (minutes i guess) and Fare = 7 (Ride id 5) that\n",
    "\n",
    "if Ride time which has a positive correlation is going from 10 minutes to 11 minutes (1 unit added),\n",
    "the Fare will increase by 0.74 so the Fare will be Ride Fare 7 + 0.74 = 7.74"
   ]
  }
 ],
 "metadata": {
  "kernelspec": {
   "display_name": "Python 3 (ipykernel)",
   "language": "python",
   "name": "python3"
  },
  "language_info": {
   "codemirror_mode": {
    "name": "ipython",
    "version": 3
   },
   "file_extension": ".py",
   "mimetype": "text/x-python",
   "name": "python",
   "nbconvert_exporter": "python",
   "pygments_lexer": "ipython3",
   "version": "3.10.9"
  }
 },
 "nbformat": 4,
 "nbformat_minor": 5
}
