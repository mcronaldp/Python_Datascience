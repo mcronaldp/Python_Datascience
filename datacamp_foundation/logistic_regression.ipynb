{
 "cells": [
  {
   "cell_type": "markdown",
   "id": "84ab3f46-49f4-42c3-a5b9-8ab26a3fec74",
   "metadata": {},
   "source": [
    "# Logistic regression:"
   ]
  },
  {
   "cell_type": "markdown",
   "id": "829ec61d-330e-4f7e-8859-10d38f93dba0",
   "metadata": {},
   "source": [
    "https://towardsdatascience.com/introduction-to-logistic-regression-66248243c148\n",
    "Bovenstaande link heeft niets met onderstaand voorbeeld te maken.\n",
    "### Onderstaande voorbeeld, werkt niet helemaal, kan best zijn omdat ik onderaan lees dat je logistic regression goed kunt gebruiken categorisaties."
   ]
  },
  {
   "cell_type": "code",
   "execution_count": 2,
   "id": "df115afc-7507-4353-9f87-91bd24063707",
   "metadata": {},
   "outputs": [
    {
     "data": {
      "text/html": [
       "<div>\n",
       "<style scoped>\n",
       "    .dataframe tbody tr th:only-of-type {\n",
       "        vertical-align: middle;\n",
       "    }\n",
       "\n",
       "    .dataframe tbody tr th {\n",
       "        vertical-align: top;\n",
       "    }\n",
       "\n",
       "    .dataframe thead th {\n",
       "        text-align: right;\n",
       "    }\n",
       "</style>\n",
       "<table border=\"1\" class=\"dataframe\">\n",
       "  <thead>\n",
       "    <tr style=\"text-align: right;\">\n",
       "      <th></th>\n",
       "      <th>Ride ID</th>\n",
       "      <th>City</th>\n",
       "      <th>Rider ID</th>\n",
       "      <th>Ride Time</th>\n",
       "      <th>Ride Fare</th>\n",
       "      <th>Ride Date</th>\n",
       "      <th>Ride Hour</th>\n",
       "    </tr>\n",
       "  </thead>\n",
       "  <tbody>\n",
       "    <tr>\n",
       "      <th>0</th>\n",
       "      <td>1</td>\n",
       "      <td>New York</td>\n",
       "      <td>100</td>\n",
       "      <td>15.0</td>\n",
       "      <td>10.0</td>\n",
       "      <td>1/1/2022</td>\n",
       "      <td>9.0</td>\n",
       "    </tr>\n",
       "    <tr>\n",
       "      <th>1</th>\n",
       "      <td>2</td>\n",
       "      <td>San Francisco</td>\n",
       "      <td>101</td>\n",
       "      <td>30.0</td>\n",
       "      <td>25.0</td>\n",
       "      <td>1/1/2022</td>\n",
       "      <td>10.0</td>\n",
       "    </tr>\n",
       "    <tr>\n",
       "      <th>2</th>\n",
       "      <td>3</td>\n",
       "      <td>Los Angeles</td>\n",
       "      <td>102</td>\n",
       "      <td>45.0</td>\n",
       "      <td>30.0</td>\n",
       "      <td>1/1/2022</td>\n",
       "      <td>11.0</td>\n",
       "    </tr>\n",
       "    <tr>\n",
       "      <th>3</th>\n",
       "      <td>4</td>\n",
       "      <td>New York</td>\n",
       "      <td>103</td>\n",
       "      <td>20.0</td>\n",
       "      <td>15.0</td>\n",
       "      <td>1/1/2022</td>\n",
       "      <td>12.0</td>\n",
       "    </tr>\n",
       "    <tr>\n",
       "      <th>4</th>\n",
       "      <td>5</td>\n",
       "      <td>San Francisco</td>\n",
       "      <td>104</td>\n",
       "      <td>10.0</td>\n",
       "      <td>7.0</td>\n",
       "      <td>1/2/2022</td>\n",
       "      <td>9.0</td>\n",
       "    </tr>\n",
       "  </tbody>\n",
       "</table>\n",
       "</div>"
      ],
      "text/plain": [
       "   Ride ID           City  Rider ID  Ride Time  Ride Fare Ride Date  Ride Hour\n",
       "0        1       New York       100       15.0       10.0  1/1/2022        9.0\n",
       "1        2  San Francisco       101       30.0       25.0  1/1/2022       10.0\n",
       "2        3    Los Angeles       102       45.0       30.0  1/1/2022       11.0\n",
       "3        4       New York       103       20.0       15.0  1/1/2022       12.0\n",
       "4        5  San Francisco       104       10.0        7.0  1/2/2022        9.0"
      ]
     },
     "execution_count": 2,
     "metadata": {},
     "output_type": "execute_result"
    }
   ],
   "source": [
    "import pandas as pd\n",
    "from sklearn.linear_model import LogisticRegression\n",
    "from sklearn.model_selection import train_test_split\n",
    "from sklearn.metrics import accuracy_score, confusion_matrix\n",
    "\n",
    "# Load the ride sharing dataset into a pandas dataframe\n",
    "df = pd.read_csv(r'files\\Rides.csv')\n",
    "df.head()"
   ]
  },
  {
   "cell_type": "markdown",
   "id": "92645f2e-0886-451d-9baf-5fd4134d1311",
   "metadata": {},
   "source": [
    "## Drop records of missing values"
   ]
  },
  {
   "cell_type": "code",
   "execution_count": 5,
   "id": "bc7660a9-a280-42ac-a389-c8ff65957598",
   "metadata": {},
   "outputs": [],
   "source": [
    "dfcleaned = df.dropna()"
   ]
  },
  {
   "cell_type": "code",
   "execution_count": 7,
   "id": "2031f695-c509-4c83-a565-c65bf92182fa",
   "metadata": {},
   "outputs": [
    {
     "name": "stdout",
     "output_type": "stream",
     "text": [
      "Accuracy: 0.6666666666666666\n",
      "Confusion matrix:\n",
      " [[0 0 0]\n",
      " [1 0 0]\n",
      " [0 0 2]]\n"
     ]
    },
    {
     "name": "stderr",
     "output_type": "stream",
     "text": [
      "C:\\anaconda3\\lib\\site-packages\\sklearn\\linear_model\\_logistic.py:458: ConvergenceWarning: lbfgs failed to converge (status=1):\n",
      "STOP: TOTAL NO. of ITERATIONS REACHED LIMIT.\n",
      "\n",
      "Increase the number of iterations (max_iter) or scale the data as shown in:\n",
      "    https://scikit-learn.org/stable/modules/preprocessing.html\n",
      "Please also refer to the documentation for alternative solver options:\n",
      "    https://scikit-learn.org/stable/modules/linear_model.html#logistic-regression\n",
      "  n_iter_i = _check_optimize_result(\n"
     ]
    }
   ],
   "source": [
    "# Select the variables we want to use for the logistic regression\n",
    "X = dfcleaned[['Ride Time', 'Ride Hour']]\n",
    "y = dfcleaned['Ride Fare']\n",
    "\n",
    "# Split the data into training and testing sets\n",
    "X_train, X_test, y_train, y_test = train_test_split(X, y, test_size=0.2, random_state=42)\n",
    "\n",
    "# Fit a logistic regression model to the training data\n",
    "logreg = LogisticRegression()\n",
    "logreg.fit(X_train, y_train)\n",
    "\n",
    "# Use the fitted model to make predictions on the test data\n",
    "y_pred = logreg.predict(X_test)\n",
    "\n",
    "# Calculate the accuracy of the model\n",
    "accuracy = accuracy_score(y_test, y_pred)\n",
    "print(\"Accuracy:\", accuracy)\n",
    "\n",
    "# Calculate the confusion matrix\n",
    "conf_matrix = confusion_matrix(y_test, y_pred)\n",
    "print(\"Confusion matrix:\\n\", conf_matrix)"
   ]
  },
  {
   "cell_type": "markdown",
   "id": "40c68bc5-171d-48b4-800c-2e842b8257b0",
   "metadata": {
    "tags": []
   },
   "source": [
    "Here's a breakdown of the code:\n",
    "\n",
    "- The first line imports the pandas library, which is used for data manipulation and analysis.\n",
    "- The second line imports the LogisticRegression class from the scikit-learn library, which is used for modeling logistic regression.\n",
    "- The third and fourth lines import the train_test_split function and accuracy_score and confusion_matrix functions from the scikit-learn library\n",
    ", which are used for splitting the data into training and testing sets, calculating the accuracy of the model, and calculating the confusion matrix.\n",
    "- The sixth line loads the ride sharing dataset into a pandas dataframe named \"df\".\n",
    "- The seventh and eighth lines select the\n",
    "    ### independent variables (ride_time and distance) and dependent variable (fare), respectively, from the dataframe \"df\".\n",
    "- The tenth line splits the data into training and testing sets, with 80% of the data used for training and 20% used for testing.\n",
    "- The twelfth line fits a logistic regression model to the training data using the selected variables.\n",
    "- The fourteenth line uses the fitted model to make predictions on the test data.\n",
    "- The sixteenth line calculates the accuracy of the model by comparing the predicted values to the actual values in the test set.\n",
    "- The eighteenth line calculates the confusion matrix, which shows the number of true positives, true negatives, false positives, and false negatives.\n",
    "\n",
    "## Note that in this example, the dependent variable is \"passenger_type\", which is a categorical variable with two possible values: \"regular\" and \"premium\".\n",
    "## Logistic regression is used because it is a binary classification problem, where the goal is to predict which passengers are regular and which are premium based on the independent variables."
   ]
  },
  {
   "cell_type": "code",
   "execution_count": 3,
   "id": "e9c033cc-5278-40d5-9a75-a5753e509ffb",
   "metadata": {},
   "outputs": [
    {
     "ename": "SyntaxError",
     "evalue": "invalid syntax (2183767373.py, line 1)",
     "output_type": "error",
     "traceback": [
      "\u001b[1;36m  Cell \u001b[1;32mIn[3], line 1\u001b[1;36m\u001b[0m\n\u001b[1;33m    Andere voorbeelden:\u001b[0m\n\u001b[1;37m           ^\u001b[0m\n\u001b[1;31mSyntaxError\u001b[0m\u001b[1;31m:\u001b[0m invalid syntax\n"
     ]
    }
   ],
   "source": [
    "Andere voorbeelden: \n",
    "Logistic regression can handle categorical variables well by using dummy variables. In the ride-sharing dataset, we have categorical variables such as the type of ride (shared or non-shared) and the payment method (credit card or cash), which can be easily incorporated into a logistic regression model."
   ]
  },
  {
   "cell_type": "code",
   "execution_count": null,
   "id": "d7ddfd0d-1270-461a-8845-3b2f13406a55",
   "metadata": {},
   "outputs": [],
   "source": []
  }
 ],
 "metadata": {
  "kernelspec": {
   "display_name": "Python 3 (ipykernel)",
   "language": "python",
   "name": "python3"
  },
  "language_info": {
   "codemirror_mode": {
    "name": "ipython",
    "version": 3
   },
   "file_extension": ".py",
   "mimetype": "text/x-python",
   "name": "python",
   "nbconvert_exporter": "python",
   "pygments_lexer": "ipython3",
   "version": "3.10.9"
  }
 },
 "nbformat": 4,
 "nbformat_minor": 5
}
