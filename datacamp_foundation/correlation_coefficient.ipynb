{
 "cells": [
  {
   "cell_type": "markdown",
   "id": "6ab1592e-b0c1-4c50-9b78-d471ef3279c9",
   "metadata": {},
   "source": [
    "# Week 1 session 4: correlation coefficient:"
   ]
  },
  {
   "cell_type": "markdown",
   "id": "a31b28f2-62f6-4caa-87a9-fe23251fd1d1",
   "metadata": {},
   "source": [
    "### Open dataset:"
   ]
  },
  {
   "cell_type": "code",
   "execution_count": 2,
   "id": "fb061fee-25bb-4642-8ba2-a6bd59d95e08",
   "metadata": {},
   "outputs": [
    {
     "data": {
      "text/html": [
       "<div>\n",
       "<style scoped>\n",
       "    .dataframe tbody tr th:only-of-type {\n",
       "        vertical-align: middle;\n",
       "    }\n",
       "\n",
       "    .dataframe tbody tr th {\n",
       "        vertical-align: top;\n",
       "    }\n",
       "\n",
       "    .dataframe thead th {\n",
       "        text-align: right;\n",
       "    }\n",
       "</style>\n",
       "<table border=\"1\" class=\"dataframe\">\n",
       "  <thead>\n",
       "    <tr style=\"text-align: right;\">\n",
       "      <th></th>\n",
       "      <th>Ride ID</th>\n",
       "      <th>City</th>\n",
       "      <th>Rider ID</th>\n",
       "      <th>Ride Time</th>\n",
       "      <th>Ride Fare</th>\n",
       "      <th>Ride Date</th>\n",
       "      <th>Ride Hour</th>\n",
       "    </tr>\n",
       "  </thead>\n",
       "  <tbody>\n",
       "    <tr>\n",
       "      <th>0</th>\n",
       "      <td>1</td>\n",
       "      <td>New York</td>\n",
       "      <td>100</td>\n",
       "      <td>15.0</td>\n",
       "      <td>10.0</td>\n",
       "      <td>1/1/2022</td>\n",
       "      <td>9.0</td>\n",
       "    </tr>\n",
       "    <tr>\n",
       "      <th>1</th>\n",
       "      <td>2</td>\n",
       "      <td>San Francisco</td>\n",
       "      <td>101</td>\n",
       "      <td>30.0</td>\n",
       "      <td>25.0</td>\n",
       "      <td>1/1/2022</td>\n",
       "      <td>10.0</td>\n",
       "    </tr>\n",
       "    <tr>\n",
       "      <th>2</th>\n",
       "      <td>3</td>\n",
       "      <td>Los Angeles</td>\n",
       "      <td>102</td>\n",
       "      <td>45.0</td>\n",
       "      <td>30.0</td>\n",
       "      <td>1/1/2022</td>\n",
       "      <td>11.0</td>\n",
       "    </tr>\n",
       "    <tr>\n",
       "      <th>3</th>\n",
       "      <td>4</td>\n",
       "      <td>New York</td>\n",
       "      <td>103</td>\n",
       "      <td>20.0</td>\n",
       "      <td>15.0</td>\n",
       "      <td>1/1/2022</td>\n",
       "      <td>12.0</td>\n",
       "    </tr>\n",
       "    <tr>\n",
       "      <th>4</th>\n",
       "      <td>5</td>\n",
       "      <td>San Francisco</td>\n",
       "      <td>104</td>\n",
       "      <td>10.0</td>\n",
       "      <td>7.0</td>\n",
       "      <td>1/2/2022</td>\n",
       "      <td>9.0</td>\n",
       "    </tr>\n",
       "  </tbody>\n",
       "</table>\n",
       "</div>"
      ],
      "text/plain": [
       "   Ride ID           City  Rider ID  Ride Time  Ride Fare Ride Date  Ride Hour\n",
       "0        1       New York       100       15.0       10.0  1/1/2022        9.0\n",
       "1        2  San Francisco       101       30.0       25.0  1/1/2022       10.0\n",
       "2        3    Los Angeles       102       45.0       30.0  1/1/2022       11.0\n",
       "3        4       New York       103       20.0       15.0  1/1/2022       12.0\n",
       "4        5  San Francisco       104       10.0        7.0  1/2/2022        9.0"
      ]
     },
     "execution_count": 2,
     "metadata": {},
     "output_type": "execute_result"
    }
   ],
   "source": [
    "import pandas as pd\n",
    "df = pd.read_csv(r\"files\\Rides.csv\")\n",
    "df.head()"
   ]
  },
  {
   "cell_type": "markdown",
   "id": "8762dd0f-0937-46cb-a4e0-4508caffaafe",
   "metadata": {},
   "source": [
    "## Calculate correlation coefficient between ride duration and ride fare."
   ]
  },
  {
   "cell_type": "code",
   "execution_count": 3,
   "id": "7c27949f-66f3-4336-8997-edf1f0725534",
   "metadata": {},
   "outputs": [
    {
     "name": "stdout",
     "output_type": "stream",
     "text": [
      "Correlation coefficient: 0.977115461241646\n"
     ]
    }
   ],
   "source": [
    "corr_coff = df['Ride Time'].corr(df['Ride Fare'])\n",
    "print('Correlation coefficient:', corr_coff)"
   ]
  },
  {
   "cell_type": "markdown",
   "id": "4eaeccf4-eec6-4247-996a-a8708b1256dd",
   "metadata": {},
   "source": [
    "## Explore relationship between ride duration (Ride Time), (Ride Fare) and Hour of the then when the ride was taken (Ride Hour)\n",
    "### Met cor() kunnen we de correlation matrix berekenen."
   ]
  },
  {
   "cell_type": "code",
   "execution_count": 38,
   "id": "5c4e763f-560c-40f3-991c-b55a532753b8",
   "metadata": {},
   "outputs": [
    {
     "data": {
      "text/html": [
       "<div>\n",
       "<style scoped>\n",
       "    .dataframe tbody tr th:only-of-type {\n",
       "        vertical-align: middle;\n",
       "    }\n",
       "\n",
       "    .dataframe tbody tr th {\n",
       "        vertical-align: top;\n",
       "    }\n",
       "\n",
       "    .dataframe thead th {\n",
       "        text-align: right;\n",
       "    }\n",
       "</style>\n",
       "<table border=\"1\" class=\"dataframe\">\n",
       "  <thead>\n",
       "    <tr style=\"text-align: right;\">\n",
       "      <th></th>\n",
       "      <th>Ride Time</th>\n",
       "      <th>Ride Fare</th>\n",
       "      <th>Ride Hour</th>\n",
       "    </tr>\n",
       "  </thead>\n",
       "  <tbody>\n",
       "    <tr>\n",
       "      <th>Ride Time</th>\n",
       "      <td>1.000000</td>\n",
       "      <td>0.977115</td>\n",
       "      <td>-0.229416</td>\n",
       "    </tr>\n",
       "    <tr>\n",
       "      <th>Ride Fare</th>\n",
       "      <td>0.977115</td>\n",
       "      <td>1.000000</td>\n",
       "      <td>-0.181206</td>\n",
       "    </tr>\n",
       "    <tr>\n",
       "      <th>Ride Hour</th>\n",
       "      <td>-0.229416</td>\n",
       "      <td>-0.181206</td>\n",
       "      <td>1.000000</td>\n",
       "    </tr>\n",
       "  </tbody>\n",
       "</table>\n",
       "</div>"
      ],
      "text/plain": [
       "           Ride Time  Ride Fare  Ride Hour\n",
       "Ride Time   1.000000   0.977115  -0.229416\n",
       "Ride Fare   0.977115   1.000000  -0.181206\n",
       "Ride Hour  -0.229416  -0.181206   1.000000"
      ]
     },
     "execution_count": 38,
     "metadata": {},
     "output_type": "execute_result"
    }
   ],
   "source": [
    "import pandas as pd # Read in the dataset\n",
    "df = pd.read_csv(r\"files\\Rides.csv\")\n",
    "# Calculate the correlation matrix\n",
    "corr_matrix = df[['Ride Time', 'Ride Fare', 'Ride Hour']].corr()\n",
    "corr_matrix"
   ]
  },
  {
   "cell_type": "markdown",
   "id": "59b2758a-f31c-4a8a-a091-bb2794bdf4ac",
   "metadata": {},
   "source": [
    "## Histogram\n",
    "### De 1e balk is Ride ID 5, namelijk Ride Fare: 7\n",
    "## (Frequentie) Aantal keer dat een bepaalde Fare voor komt.\n",
    "### Distributie analyse"
   ]
  },
  {
   "cell_type": "code",
   "execution_count": 46,
   "id": "0433f791-6c9e-426c-8ccb-f5cc6a731d47",
   "metadata": {},
   "outputs": [
    {
     "data": {
      "image/png": "[encoded data removed]",
      "text/plain": [
       "<Figure size 640x480 with 1 Axes>"
      ]
     },
     "metadata": {},
     "output_type": "display_data"
    }
   ],
   "source": [
    "import pandas as pd\n",
    "import matplotlib.pyplot as plt\n",
    "\n",
    "# Load the data into a pandas dataframe\n",
    "rides_df = pd.read_csv(r\"files\\Rides.csv\")\n",
    "\n",
    "# Create a histogram of ride fares\n",
    "plt.hist(rides_df['Ride Fare'], bins=10)\n",
    "plt.xlabel('Fare')\n",
    "plt.ylabel('Frequency')\n",
    "plt.title('Distribution of ride fares')\n",
    "plt.show()\n",
    "\n"
   ]
  },
  {
   "cell_type": "markdown",
   "id": "a32f8b17-996c-4f92-8d2d-93f80a8e7059",
   "metadata": {},
   "source": [
    "## Select only the 'Ride Time' and 'Ride Fare' columns"
   ]
  },
  {
   "cell_type": "code",
   "execution_count": 9,
   "id": "33c360e7-f87d-4c94-890c-d18857c26f85",
   "metadata": {},
   "outputs": [
    {
     "data": {
      "text/html": [
       "<div>\n",
       "<style scoped>\n",
       "    .dataframe tbody tr th:only-of-type {\n",
       "        vertical-align: middle;\n",
       "    }\n",
       "\n",
       "    .dataframe tbody tr th {\n",
       "        vertical-align: top;\n",
       "    }\n",
       "\n",
       "    .dataframe thead th {\n",
       "        text-align: right;\n",
       "    }\n",
       "</style>\n",
       "<table border=\"1\" class=\"dataframe\">\n",
       "  <thead>\n",
       "    <tr style=\"text-align: right;\">\n",
       "      <th></th>\n",
       "      <th>Ride Time</th>\n",
       "      <th>Ride Fare</th>\n",
       "    </tr>\n",
       "  </thead>\n",
       "  <tbody>\n",
       "    <tr>\n",
       "      <th>0</th>\n",
       "      <td>15.0</td>\n",
       "      <td>10.0</td>\n",
       "    </tr>\n",
       "    <tr>\n",
       "      <th>1</th>\n",
       "      <td>30.0</td>\n",
       "      <td>25.0</td>\n",
       "    </tr>\n",
       "    <tr>\n",
       "      <th>2</th>\n",
       "      <td>45.0</td>\n",
       "      <td>30.0</td>\n",
       "    </tr>\n",
       "    <tr>\n",
       "      <th>3</th>\n",
       "      <td>20.0</td>\n",
       "      <td>15.0</td>\n",
       "    </tr>\n",
       "    <tr>\n",
       "      <th>4</th>\n",
       "      <td>10.0</td>\n",
       "      <td>7.0</td>\n",
       "    </tr>\n",
       "  </tbody>\n",
       "</table>\n",
       "</div>"
      ],
      "text/plain": [
       "   Ride Time  Ride Fare\n",
       "0       15.0       10.0\n",
       "1       30.0       25.0\n",
       "2       45.0       30.0\n",
       "3       20.0       15.0\n",
       "4       10.0        7.0"
      ]
     },
     "execution_count": 9,
     "metadata": {},
     "output_type": "execute_result"
    }
   ],
   "source": [
    "selected_cols = df.loc[:, ['Ride Time', 'Ride Fare']]\n",
    "selected_cols.head() # .head() 1e 5 records weergeven"
   ]
  },
  {
   "cell_type": "markdown",
   "id": "890eabc1-3ab2-41a4-930c-17606d7d7f18",
   "metadata": {},
   "source": [
    "## Select only the Ride Time, Ride Fare and Ride date column"
   ]
  },
  {
   "cell_type": "code",
   "execution_count": 19,
   "id": "b76a87eb-15e8-49e5-812a-044dc1bfa6d1",
   "metadata": {},
   "outputs": [
    {
     "data": {
      "text/html": [
       "<div>\n",
       "<style scoped>\n",
       "    .dataframe tbody tr th:only-of-type {\n",
       "        vertical-align: middle;\n",
       "    }\n",
       "\n",
       "    .dataframe tbody tr th {\n",
       "        vertical-align: top;\n",
       "    }\n",
       "\n",
       "    .dataframe thead th {\n",
       "        text-align: right;\n",
       "    }\n",
       "</style>\n",
       "<table border=\"1\" class=\"dataframe\">\n",
       "  <thead>\n",
       "    <tr style=\"text-align: right;\">\n",
       "      <th></th>\n",
       "      <th>Ride Date</th>\n",
       "      <th>Ride Time</th>\n",
       "      <th>Ride Fare</th>\n",
       "    </tr>\n",
       "  </thead>\n",
       "  <tbody>\n",
       "    <tr>\n",
       "      <th>0</th>\n",
       "      <td>1/1/2022</td>\n",
       "      <td>15.0</td>\n",
       "      <td>10.0</td>\n",
       "    </tr>\n",
       "    <tr>\n",
       "      <th>1</th>\n",
       "      <td>1/1/2022</td>\n",
       "      <td>30.0</td>\n",
       "      <td>25.0</td>\n",
       "    </tr>\n",
       "    <tr>\n",
       "      <th>2</th>\n",
       "      <td>1/1/2022</td>\n",
       "      <td>45.0</td>\n",
       "      <td>30.0</td>\n",
       "    </tr>\n",
       "    <tr>\n",
       "      <th>3</th>\n",
       "      <td>1/1/2022</td>\n",
       "      <td>20.0</td>\n",
       "      <td>15.0</td>\n",
       "    </tr>\n",
       "    <tr>\n",
       "      <th>4</th>\n",
       "      <td>1/2/2022</td>\n",
       "      <td>10.0</td>\n",
       "      <td>7.0</td>\n",
       "    </tr>\n",
       "  </tbody>\n",
       "</table>\n",
       "</div>"
      ],
      "text/plain": [
       "  Ride Date  Ride Time  Ride Fare\n",
       "0  1/1/2022       15.0       10.0\n",
       "1  1/1/2022       30.0       25.0\n",
       "2  1/1/2022       45.0       30.0\n",
       "3  1/1/2022       20.0       15.0\n",
       "4  1/2/2022       10.0        7.0"
      ]
     },
     "execution_count": 19,
     "metadata": {},
     "output_type": "execute_result"
    }
   ],
   "source": [
    "data_subset = df.loc[:,['Ride Date','Ride Time', 'Ride Fare']]\n",
    "data_subset.head()"
   ]
  },
  {
   "cell_type": "markdown",
   "id": "4a5a64e7-eea3-4623-8d8c-3a9137959bcc",
   "metadata": {},
   "source": [
    "## Filter alleen Rows van City New York"
   ]
  },
  {
   "cell_type": "code",
   "execution_count": 21,
   "id": "23823e09-e8d2-4332-90c5-575aaf2e4f4e",
   "metadata": {},
   "outputs": [
    {
     "data": {
      "text/html": [
       "<div>\n",
       "<style scoped>\n",
       "    .dataframe tbody tr th:only-of-type {\n",
       "        vertical-align: middle;\n",
       "    }\n",
       "\n",
       "    .dataframe tbody tr th {\n",
       "        vertical-align: top;\n",
       "    }\n",
       "\n",
       "    .dataframe thead th {\n",
       "        text-align: right;\n",
       "    }\n",
       "</style>\n",
       "<table border=\"1\" class=\"dataframe\">\n",
       "  <thead>\n",
       "    <tr style=\"text-align: right;\">\n",
       "      <th></th>\n",
       "      <th>Ride ID</th>\n",
       "      <th>City</th>\n",
       "      <th>Rider ID</th>\n",
       "      <th>Ride Time</th>\n",
       "      <th>Ride Fare</th>\n",
       "      <th>Ride Date</th>\n",
       "      <th>Ride Hour</th>\n",
       "    </tr>\n",
       "  </thead>\n",
       "  <tbody>\n",
       "    <tr>\n",
       "      <th>0</th>\n",
       "      <td>1</td>\n",
       "      <td>New York</td>\n",
       "      <td>100</td>\n",
       "      <td>15.0</td>\n",
       "      <td>10.0</td>\n",
       "      <td>1/1/2022</td>\n",
       "      <td>9.0</td>\n",
       "    </tr>\n",
       "    <tr>\n",
       "      <th>3</th>\n",
       "      <td>4</td>\n",
       "      <td>New York</td>\n",
       "      <td>103</td>\n",
       "      <td>20.0</td>\n",
       "      <td>15.0</td>\n",
       "      <td>1/1/2022</td>\n",
       "      <td>12.0</td>\n",
       "    </tr>\n",
       "    <tr>\n",
       "      <th>6</th>\n",
       "      <td>7</td>\n",
       "      <td>New York</td>\n",
       "      <td>106</td>\n",
       "      <td>30.0</td>\n",
       "      <td>25.0</td>\n",
       "      <td>1/2/2022</td>\n",
       "      <td>11.0</td>\n",
       "    </tr>\n",
       "    <tr>\n",
       "      <th>9</th>\n",
       "      <td>10</td>\n",
       "      <td>New York</td>\n",
       "      <td>109</td>\n",
       "      <td>NaN</td>\n",
       "      <td>20.0</td>\n",
       "      <td>1/3/2022</td>\n",
       "      <td>10.0</td>\n",
       "    </tr>\n",
       "    <tr>\n",
       "      <th>12</th>\n",
       "      <td>13</td>\n",
       "      <td>New York</td>\n",
       "      <td>112</td>\n",
       "      <td>35.0</td>\n",
       "      <td>25.0</td>\n",
       "      <td>1/4/2022</td>\n",
       "      <td>9.0</td>\n",
       "    </tr>\n",
       "    <tr>\n",
       "      <th>15</th>\n",
       "      <td>16</td>\n",
       "      <td>New York</td>\n",
       "      <td>115</td>\n",
       "      <td>25.0</td>\n",
       "      <td>20.0</td>\n",
       "      <td>1/4/2022</td>\n",
       "      <td>NaN</td>\n",
       "    </tr>\n",
       "    <tr>\n",
       "      <th>18</th>\n",
       "      <td>19</td>\n",
       "      <td>New York</td>\n",
       "      <td>118</td>\n",
       "      <td>10.0</td>\n",
       "      <td>NaN</td>\n",
       "      <td>1/5/2022</td>\n",
       "      <td>11.0</td>\n",
       "    </tr>\n",
       "    <tr>\n",
       "      <th>21</th>\n",
       "      <td>22</td>\n",
       "      <td>New York</td>\n",
       "      <td>121</td>\n",
       "      <td>35.0</td>\n",
       "      <td>25.0</td>\n",
       "      <td>1/6/2022</td>\n",
       "      <td>10.0</td>\n",
       "    </tr>\n",
       "  </tbody>\n",
       "</table>\n",
       "</div>"
      ],
      "text/plain": [
       "    Ride ID      City  Rider ID  Ride Time  Ride Fare Ride Date  Ride Hour\n",
       "0         1  New York       100       15.0       10.0  1/1/2022        9.0\n",
       "3         4  New York       103       20.0       15.0  1/1/2022       12.0\n",
       "6         7  New York       106       30.0       25.0  1/2/2022       11.0\n",
       "9        10  New York       109        NaN       20.0  1/3/2022       10.0\n",
       "12       13  New York       112       35.0       25.0  1/4/2022        9.0\n",
       "15       16  New York       115       25.0       20.0  1/4/2022        NaN\n",
       "18       19  New York       118       10.0        NaN  1/5/2022       11.0\n",
       "21       22  New York       121       35.0       25.0  1/6/2022       10.0"
      ]
     },
     "execution_count": 21,
     "metadata": {},
     "output_type": "execute_result"
    }
   ],
   "source": [
    "# Filter the data to only include rides in New York\n",
    "filter_newyork = df.loc[df['City'] == 'New York', :]\n",
    "filter_newyork"
   ]
  },
  {
   "cell_type": "markdown",
   "id": "0ec4545f-64a3-42f0-9014-93a9bee355f7",
   "metadata": {},
   "source": [
    "## Filter alleen rows met een Ride Fare groter dan 10"
   ]
  },
  {
   "cell_type": "code",
   "execution_count": 45,
   "id": "b2d2e655-ae58-4fa2-bcf2-b5b51e8c7d72",
   "metadata": {},
   "outputs": [
    {
     "data": {
      "text/html": [
       "<div>\n",
       "<style scoped>\n",
       "    .dataframe tbody tr th:only-of-type {\n",
       "        vertical-align: middle;\n",
       "    }\n",
       "\n",
       "    .dataframe tbody tr th {\n",
       "        vertical-align: top;\n",
       "    }\n",
       "\n",
       "    .dataframe thead th {\n",
       "        text-align: right;\n",
       "    }\n",
       "</style>\n",
       "<table border=\"1\" class=\"dataframe\">\n",
       "  <thead>\n",
       "    <tr style=\"text-align: right;\">\n",
       "      <th></th>\n",
       "      <th>Ride ID</th>\n",
       "      <th>City</th>\n",
       "      <th>Rider ID</th>\n",
       "      <th>Ride Time</th>\n",
       "      <th>Ride Fare</th>\n",
       "      <th>Ride Date</th>\n",
       "      <th>Ride Hour</th>\n",
       "    </tr>\n",
       "  </thead>\n",
       "  <tbody>\n",
       "    <tr>\n",
       "      <th>1</th>\n",
       "      <td>2</td>\n",
       "      <td>San Francisco</td>\n",
       "      <td>101</td>\n",
       "      <td>30.0</td>\n",
       "      <td>25.0</td>\n",
       "      <td>1/1/2022</td>\n",
       "      <td>10.0</td>\n",
       "    </tr>\n",
       "    <tr>\n",
       "      <th>2</th>\n",
       "      <td>3</td>\n",
       "      <td>Los Angeles</td>\n",
       "      <td>102</td>\n",
       "      <td>45.0</td>\n",
       "      <td>30.0</td>\n",
       "      <td>1/1/2022</td>\n",
       "      <td>11.0</td>\n",
       "    </tr>\n",
       "    <tr>\n",
       "      <th>3</th>\n",
       "      <td>4</td>\n",
       "      <td>New York</td>\n",
       "      <td>103</td>\n",
       "      <td>20.0</td>\n",
       "      <td>15.0</td>\n",
       "      <td>1/1/2022</td>\n",
       "      <td>12.0</td>\n",
       "    </tr>\n",
       "    <tr>\n",
       "      <th>5</th>\n",
       "      <td>6</td>\n",
       "      <td>Los Angeles</td>\n",
       "      <td>105</td>\n",
       "      <td>25.0</td>\n",
       "      <td>20.0</td>\n",
       "      <td>1/2/2022</td>\n",
       "      <td>10.0</td>\n",
       "    </tr>\n",
       "    <tr>\n",
       "      <th>6</th>\n",
       "      <td>7</td>\n",
       "      <td>New York</td>\n",
       "      <td>106</td>\n",
       "      <td>30.0</td>\n",
       "      <td>25.0</td>\n",
       "      <td>1/2/2022</td>\n",
       "      <td>11.0</td>\n",
       "    </tr>\n",
       "    <tr>\n",
       "      <th>9</th>\n",
       "      <td>10</td>\n",
       "      <td>New York</td>\n",
       "      <td>109</td>\n",
       "      <td>NaN</td>\n",
       "      <td>20.0</td>\n",
       "      <td>1/3/2022</td>\n",
       "      <td>10.0</td>\n",
       "    </tr>\n",
       "    <tr>\n",
       "      <th>10</th>\n",
       "      <td>11</td>\n",
       "      <td>San Francisco</td>\n",
       "      <td>110</td>\n",
       "      <td>40.0</td>\n",
       "      <td>30.0</td>\n",
       "      <td>1/3/2022</td>\n",
       "      <td>11.0</td>\n",
       "    </tr>\n",
       "    <tr>\n",
       "      <th>11</th>\n",
       "      <td>12</td>\n",
       "      <td>Los Angeles</td>\n",
       "      <td>111</td>\n",
       "      <td>20.0</td>\n",
       "      <td>15.0</td>\n",
       "      <td>NaN</td>\n",
       "      <td>12.0</td>\n",
       "    </tr>\n",
       "    <tr>\n",
       "      <th>12</th>\n",
       "      <td>13</td>\n",
       "      <td>New York</td>\n",
       "      <td>112</td>\n",
       "      <td>35.0</td>\n",
       "      <td>25.0</td>\n",
       "      <td>1/4/2022</td>\n",
       "      <td>9.0</td>\n",
       "    </tr>\n",
       "    <tr>\n",
       "      <th>15</th>\n",
       "      <td>16</td>\n",
       "      <td>New York</td>\n",
       "      <td>115</td>\n",
       "      <td>25.0</td>\n",
       "      <td>20.0</td>\n",
       "      <td>1/4/2022</td>\n",
       "      <td>NaN</td>\n",
       "    </tr>\n",
       "    <tr>\n",
       "      <th>16</th>\n",
       "      <td>17</td>\n",
       "      <td>San Francisco</td>\n",
       "      <td>116</td>\n",
       "      <td>30.0</td>\n",
       "      <td>25.0</td>\n",
       "      <td>1/5/2022</td>\n",
       "      <td>9.0</td>\n",
       "    </tr>\n",
       "    <tr>\n",
       "      <th>17</th>\n",
       "      <td>18</td>\n",
       "      <td>Los Angeles</td>\n",
       "      <td>117</td>\n",
       "      <td>20.0</td>\n",
       "      <td>15.0</td>\n",
       "      <td>1/5/2022</td>\n",
       "      <td>10.0</td>\n",
       "    </tr>\n",
       "    <tr>\n",
       "      <th>20</th>\n",
       "      <td>21</td>\n",
       "      <td>Los Angeles</td>\n",
       "      <td>120</td>\n",
       "      <td>40.0</td>\n",
       "      <td>30.0</td>\n",
       "      <td>1/6/2022</td>\n",
       "      <td>9.0</td>\n",
       "    </tr>\n",
       "    <tr>\n",
       "      <th>21</th>\n",
       "      <td>22</td>\n",
       "      <td>New York</td>\n",
       "      <td>121</td>\n",
       "      <td>35.0</td>\n",
       "      <td>25.0</td>\n",
       "      <td>1/6/2022</td>\n",
       "      <td>10.0</td>\n",
       "    </tr>\n",
       "    <tr>\n",
       "      <th>22</th>\n",
       "      <td>23</td>\n",
       "      <td>San Francisco</td>\n",
       "      <td>122</td>\n",
       "      <td>NaN</td>\n",
       "      <td>15.0</td>\n",
       "      <td>202</td>\n",
       "      <td>NaN</td>\n",
       "    </tr>\n",
       "  </tbody>\n",
       "</table>\n",
       "</div>"
      ],
      "text/plain": [
       "    Ride ID           City  Rider ID  Ride Time  Ride Fare Ride Date  \\\n",
       "1         2  San Francisco       101       30.0       25.0  1/1/2022   \n",
       "2         3    Los Angeles       102       45.0       30.0  1/1/2022   \n",
       "3         4       New York       103       20.0       15.0  1/1/2022   \n",
       "5         6    Los Angeles       105       25.0       20.0  1/2/2022   \n",
       "6         7       New York       106       30.0       25.0  1/2/2022   \n",
       "9        10       New York       109        NaN       20.0  1/3/2022   \n",
       "10       11  San Francisco       110       40.0       30.0  1/3/2022   \n",
       "11       12    Los Angeles       111       20.0       15.0       NaN   \n",
       "12       13       New York       112       35.0       25.0  1/4/2022   \n",
       "15       16       New York       115       25.0       20.0  1/4/2022   \n",
       "16       17  San Francisco       116       30.0       25.0  1/5/2022   \n",
       "17       18    Los Angeles       117       20.0       15.0  1/5/2022   \n",
       "20       21    Los Angeles       120       40.0       30.0  1/6/2022   \n",
       "21       22       New York       121       35.0       25.0  1/6/2022   \n",
       "22       23  San Francisco       122        NaN       15.0       202   \n",
       "\n",
       "    Ride Hour  \n",
       "1        10.0  \n",
       "2        11.0  \n",
       "3        12.0  \n",
       "5        10.0  \n",
       "6        11.0  \n",
       "9        10.0  \n",
       "10       11.0  \n",
       "11       12.0  \n",
       "12        9.0  \n",
       "15        NaN  \n",
       "16        9.0  \n",
       "17       10.0  \n",
       "20        9.0  \n",
       "21       10.0  \n",
       "22        NaN  "
      ]
     },
     "execution_count": 45,
     "metadata": {},
     "output_type": "execute_result"
    }
   ],
   "source": [
    "# Filtering the data to only include rides with a fare greater than $10\n",
    "fares_larger_ten = df[df['Ride Fare'] > 10]\n",
    "fares_larger_ten"
   ]
  },
  {
   "cell_type": "markdown",
   "id": "6fb37b48-fe9e-40c6-a427-feea1e4a99ae",
   "metadata": {},
   "source": [
    "## Calculate Mean (AVG) Ride duration (Ride Time) and Ride Fare, Group Rides by City."
   ]
  },
  {
   "cell_type": "code",
   "execution_count": 31,
   "id": "30876791-af9a-408c-be27-99f874ea1a16",
   "metadata": {},
   "outputs": [
    {
     "data": {
      "text/html": [
       "<div>\n",
       "<style scoped>\n",
       "    .dataframe tbody tr th:only-of-type {\n",
       "        vertical-align: middle;\n",
       "    }\n",
       "\n",
       "    .dataframe tbody tr th {\n",
       "        vertical-align: top;\n",
       "    }\n",
       "\n",
       "    .dataframe thead th {\n",
       "        text-align: right;\n",
       "    }\n",
       "</style>\n",
       "<table border=\"1\" class=\"dataframe\">\n",
       "  <thead>\n",
       "    <tr style=\"text-align: right;\">\n",
       "      <th></th>\n",
       "      <th>Ride Time</th>\n",
       "      <th>Ride Fare</th>\n",
       "    </tr>\n",
       "    <tr>\n",
       "      <th>City</th>\n",
       "      <th></th>\n",
       "      <th></th>\n",
       "    </tr>\n",
       "  </thead>\n",
       "  <tbody>\n",
       "    <tr>\n",
       "      <th>Los Angeles</th>\n",
       "      <td>33.333333</td>\n",
       "      <td>22.0</td>\n",
       "    </tr>\n",
       "    <tr>\n",
       "      <th>New York</th>\n",
       "      <td>24.285714</td>\n",
       "      <td>20.0</td>\n",
       "    </tr>\n",
       "    <tr>\n",
       "      <th>San Francisco</th>\n",
       "      <td>23.333333</td>\n",
       "      <td>16.5</td>\n",
       "    </tr>\n",
       "  </tbody>\n",
       "</table>\n",
       "</div>"
      ],
      "text/plain": [
       "               Ride Time  Ride Fare\n",
       "City                               \n",
       "Los Angeles    33.333333       22.0\n",
       "New York       24.285714       20.0\n",
       "San Francisco  23.333333       16.5"
      ]
     },
     "execution_count": 31,
     "metadata": {},
     "output_type": "execute_result"
    }
   ],
   "source": [
    "# Grouping the data by city and calculating mean ride_duration and ride_fare for each group\n",
    "grouped_data = df.groupby('City').agg({'Ride Time': 'mean', 'Ride Fare': 'mean'})\n",
    "grouped_data"
   ]
  },
  {
   "cell_type": "markdown",
   "id": "5d26f0f9-702d-4631-a34e-56dd7b75a4c9",
   "metadata": {},
   "source": [
    "## Drop rows with missing values"
   ]
  },
  {
   "cell_type": "code",
   "execution_count": 38,
   "id": "46a55a14-e218-4f03-9b15-fadb7182dbdc",
   "metadata": {},
   "outputs": [
    {
     "data": {
      "text/html": [
       "<div>\n",
       "<style scoped>\n",
       "    .dataframe tbody tr th:only-of-type {\n",
       "        vertical-align: middle;\n",
       "    }\n",
       "\n",
       "    .dataframe tbody tr th {\n",
       "        vertical-align: top;\n",
       "    }\n",
       "\n",
       "    .dataframe thead th {\n",
       "        text-align: right;\n",
       "    }\n",
       "</style>\n",
       "<table border=\"1\" class=\"dataframe\">\n",
       "  <thead>\n",
       "    <tr style=\"text-align: right;\">\n",
       "      <th></th>\n",
       "      <th>Ride ID</th>\n",
       "      <th>City</th>\n",
       "      <th>Rider ID</th>\n",
       "      <th>Ride Time</th>\n",
       "      <th>Ride Fare</th>\n",
       "      <th>Ride Date</th>\n",
       "      <th>Ride Hour</th>\n",
       "      <th>Fare per minute</th>\n",
       "    </tr>\n",
       "  </thead>\n",
       "  <tbody>\n",
       "    <tr>\n",
       "      <th>0</th>\n",
       "      <td>1</td>\n",
       "      <td>New York</td>\n",
       "      <td>100</td>\n",
       "      <td>15.0</td>\n",
       "      <td>10.0</td>\n",
       "      <td>1/1/2022</td>\n",
       "      <td>9.0</td>\n",
       "      <td>0.666667</td>\n",
       "    </tr>\n",
       "    <tr>\n",
       "      <th>1</th>\n",
       "      <td>2</td>\n",
       "      <td>San Francisco</td>\n",
       "      <td>101</td>\n",
       "      <td>30.0</td>\n",
       "      <td>25.0</td>\n",
       "      <td>1/1/2022</td>\n",
       "      <td>10.0</td>\n",
       "      <td>0.833333</td>\n",
       "    </tr>\n",
       "    <tr>\n",
       "      <th>2</th>\n",
       "      <td>3</td>\n",
       "      <td>Los Angeles</td>\n",
       "      <td>102</td>\n",
       "      <td>45.0</td>\n",
       "      <td>30.0</td>\n",
       "      <td>1/1/2022</td>\n",
       "      <td>11.0</td>\n",
       "      <td>0.666667</td>\n",
       "    </tr>\n",
       "    <tr>\n",
       "      <th>3</th>\n",
       "      <td>4</td>\n",
       "      <td>New York</td>\n",
       "      <td>103</td>\n",
       "      <td>20.0</td>\n",
       "      <td>15.0</td>\n",
       "      <td>1/1/2022</td>\n",
       "      <td>12.0</td>\n",
       "      <td>0.750000</td>\n",
       "    </tr>\n",
       "    <tr>\n",
       "      <th>4</th>\n",
       "      <td>5</td>\n",
       "      <td>San Francisco</td>\n",
       "      <td>104</td>\n",
       "      <td>10.0</td>\n",
       "      <td>7.0</td>\n",
       "      <td>1/2/2022</td>\n",
       "      <td>9.0</td>\n",
       "      <td>0.700000</td>\n",
       "    </tr>\n",
       "  </tbody>\n",
       "</table>\n",
       "</div>"
      ],
      "text/plain": [
       "   Ride ID           City  Rider ID  Ride Time  Ride Fare Ride Date  \\\n",
       "0        1       New York       100       15.0       10.0  1/1/2022   \n",
       "1        2  San Francisco       101       30.0       25.0  1/1/2022   \n",
       "2        3    Los Angeles       102       45.0       30.0  1/1/2022   \n",
       "3        4       New York       103       20.0       15.0  1/1/2022   \n",
       "4        5  San Francisco       104       10.0        7.0  1/2/2022   \n",
       "\n",
       "   Ride Hour  Fare per minute  \n",
       "0        9.0         0.666667  \n",
       "1       10.0         0.833333  \n",
       "2       11.0         0.666667  \n",
       "3       12.0         0.750000  \n",
       "4        9.0         0.700000  "
      ]
     },
     "execution_count": 38,
     "metadata": {},
     "output_type": "execute_result"
    }
   ],
   "source": [
    "# Drop rows with missing values\n",
    "clean_data = df.dropna()\n",
    "clean_data.head()"
   ]
  },
  {
   "cell_type": "markdown",
   "id": "77117d26-9ab2-4c02-9c6b-b875f25d7dfc",
   "metadata": {},
   "source": [
    "## Add Nieuwe kolom, Calculate Ride Fare per minute"
   ]
  },
  {
   "cell_type": "code",
   "execution_count": 40,
   "id": "19d792e6-b6e3-4d3c-b5cb-35b0add52279",
   "metadata": {},
   "outputs": [
    {
     "data": {
      "text/html": [
       "<div>\n",
       "<style scoped>\n",
       "    .dataframe tbody tr th:only-of-type {\n",
       "        vertical-align: middle;\n",
       "    }\n",
       "\n",
       "    .dataframe tbody tr th {\n",
       "        vertical-align: top;\n",
       "    }\n",
       "\n",
       "    .dataframe thead th {\n",
       "        text-align: right;\n",
       "    }\n",
       "</style>\n",
       "<table border=\"1\" class=\"dataframe\">\n",
       "  <thead>\n",
       "    <tr style=\"text-align: right;\">\n",
       "      <th></th>\n",
       "      <th>Ride ID</th>\n",
       "      <th>City</th>\n",
       "      <th>Rider ID</th>\n",
       "      <th>Ride Time</th>\n",
       "      <th>Ride Fare</th>\n",
       "      <th>Ride Date</th>\n",
       "      <th>Ride Hour</th>\n",
       "      <th>Fare per minute</th>\n",
       "    </tr>\n",
       "  </thead>\n",
       "  <tbody>\n",
       "    <tr>\n",
       "      <th>0</th>\n",
       "      <td>1</td>\n",
       "      <td>New York</td>\n",
       "      <td>100</td>\n",
       "      <td>15.0</td>\n",
       "      <td>10.0</td>\n",
       "      <td>1/1/2022</td>\n",
       "      <td>9.0</td>\n",
       "      <td>0.666667</td>\n",
       "    </tr>\n",
       "    <tr>\n",
       "      <th>1</th>\n",
       "      <td>2</td>\n",
       "      <td>San Francisco</td>\n",
       "      <td>101</td>\n",
       "      <td>30.0</td>\n",
       "      <td>25.0</td>\n",
       "      <td>1/1/2022</td>\n",
       "      <td>10.0</td>\n",
       "      <td>0.833333</td>\n",
       "    </tr>\n",
       "    <tr>\n",
       "      <th>2</th>\n",
       "      <td>3</td>\n",
       "      <td>Los Angeles</td>\n",
       "      <td>102</td>\n",
       "      <td>45.0</td>\n",
       "      <td>30.0</td>\n",
       "      <td>1/1/2022</td>\n",
       "      <td>11.0</td>\n",
       "      <td>0.666667</td>\n",
       "    </tr>\n",
       "    <tr>\n",
       "      <th>3</th>\n",
       "      <td>4</td>\n",
       "      <td>New York</td>\n",
       "      <td>103</td>\n",
       "      <td>20.0</td>\n",
       "      <td>15.0</td>\n",
       "      <td>1/1/2022</td>\n",
       "      <td>12.0</td>\n",
       "      <td>0.750000</td>\n",
       "    </tr>\n",
       "    <tr>\n",
       "      <th>4</th>\n",
       "      <td>5</td>\n",
       "      <td>San Francisco</td>\n",
       "      <td>104</td>\n",
       "      <td>10.0</td>\n",
       "      <td>7.0</td>\n",
       "      <td>1/2/2022</td>\n",
       "      <td>9.0</td>\n",
       "      <td>0.700000</td>\n",
       "    </tr>\n",
       "  </tbody>\n",
       "</table>\n",
       "</div>"
      ],
      "text/plain": [
       "   Ride ID           City  Rider ID  Ride Time  Ride Fare Ride Date  \\\n",
       "0        1       New York       100       15.0       10.0  1/1/2022   \n",
       "1        2  San Francisco       101       30.0       25.0  1/1/2022   \n",
       "2        3    Los Angeles       102       45.0       30.0  1/1/2022   \n",
       "3        4       New York       103       20.0       15.0  1/1/2022   \n",
       "4        5  San Francisco       104       10.0        7.0  1/2/2022   \n",
       "\n",
       "   Ride Hour  Fare per minute  \n",
       "0        9.0         0.666667  \n",
       "1       10.0         0.833333  \n",
       "2       11.0         0.666667  \n",
       "3       12.0         0.750000  \n",
       "4        9.0         0.700000  "
      ]
     },
     "execution_count": 40,
     "metadata": {},
     "output_type": "execute_result"
    }
   ],
   "source": [
    "df['Fare per minute'] = df['Ride Fare'] / df['Ride Time']\n",
    "df.head()"
   ]
  },
  {
   "cell_type": "markdown",
   "id": "917d8f02-4dd9-4d2f-97bd-85223c38aa92",
   "metadata": {},
   "source": [
    "## Calculate Total Ride fare, Avg Ride time GROUP BY City"
   ]
  },
  {
   "cell_type": "code",
   "execution_count": 43,
   "id": "1b8e7d92-a792-4faa-9ac0-18db27bf57e9",
   "metadata": {},
   "outputs": [
    {
     "data": {
      "text/html": [
       "<div>\n",
       "<style scoped>\n",
       "    .dataframe tbody tr th:only-of-type {\n",
       "        vertical-align: middle;\n",
       "    }\n",
       "\n",
       "    .dataframe tbody tr th {\n",
       "        vertical-align: top;\n",
       "    }\n",
       "\n",
       "    .dataframe thead th {\n",
       "        text-align: right;\n",
       "    }\n",
       "</style>\n",
       "<table border=\"1\" class=\"dataframe\">\n",
       "  <thead>\n",
       "    <tr style=\"text-align: right;\">\n",
       "      <th></th>\n",
       "      <th>Ride Fare</th>\n",
       "      <th>Ride Time</th>\n",
       "    </tr>\n",
       "    <tr>\n",
       "      <th>City</th>\n",
       "      <th></th>\n",
       "      <th></th>\n",
       "    </tr>\n",
       "  </thead>\n",
       "  <tbody>\n",
       "    <tr>\n",
       "      <th>Los Angeles</th>\n",
       "      <td>110.0</td>\n",
       "      <td>33.333333</td>\n",
       "    </tr>\n",
       "    <tr>\n",
       "      <th>New York</th>\n",
       "      <td>140.0</td>\n",
       "      <td>24.285714</td>\n",
       "    </tr>\n",
       "    <tr>\n",
       "      <th>San Francisco</th>\n",
       "      <td>132.0</td>\n",
       "      <td>23.333333</td>\n",
       "    </tr>\n",
       "  </tbody>\n",
       "</table>\n",
       "</div>"
      ],
      "text/plain": [
       "               Ride Fare  Ride Time\n",
       "City                               \n",
       "Los Angeles        110.0  33.333333\n",
       "New York           140.0  24.285714\n",
       "San Francisco      132.0  23.333333"
      ]
     },
     "execution_count": 43,
     "metadata": {},
     "output_type": "execute_result"
    }
   ],
   "source": [
    "import pandas as pd\n",
    "\n",
    "# Load the ride-sharing dataset\n",
    "df = pd.read_csv(r\"files\\Rides.csv\")\n",
    "\n",
    "# Group the data by city and calculate aggregate values\n",
    "aggregaties_sum_avg = df.groupby('City').agg({'Ride Fare':'sum','Ride Time':'mean'})\n",
    "\n",
    "# Print the aggregated data\n",
    "aggregaties_sum_avg"
   ]
  },
  {
   "cell_type": "code",
   "execution_count": null,
   "id": "e1268447-5bc3-4843-ae2d-fb6c6fd6a990",
   "metadata": {},
   "outputs": [],
   "source": [
    "import numpy as np # Numpy\n",
    "# import matplotlib.pyplot as plt # Matplotlibrary\n",
    "import seaborn as sns # Seaborn Library\n",
    "%matplotlib inline\n",
    "df.head()"
   ]
  },
  {
   "cell_type": "code",
   "execution_count": 40,
   "id": "440a729d-a738-426a-9fd6-e63edf9ea1ba",
   "metadata": {},
   "outputs": [
    {
     "data": {
      "text/plain": [
       "<Axes: xlabel='Ride Time', ylabel='Ride Fare'>"
      ]
     },
     "execution_count": 40,
     "metadata": {},
     "output_type": "execute_result"
    },
    {
     "data": {
      "image/png": "[encoded data removed]",
      "text/plain": [
       "<Figure size 640x480 with 1 Axes>"
      ]
     },
     "metadata": {},
     "output_type": "display_data"
    }
   ],
   "source": [
    "# Data klopt deels. Moet eerst, nieuwe dataset maken met aggregaties\n",
    "sns.scatterplot(x = 'Ride Time', y = 'Ride Fare', data = df, hue = 'Ride Hour')"
   ]
  },
  {
   "cell_type": "markdown",
   "id": "6a437c33-a79f-4f64-bae5-d7d19eecd6a7",
   "metadata": {},
   "source": [
    "## Deze scatterplot pakt niet alle waardes. voorbeeld Ride Time 10 staat bij San Franscisco en New York\n",
    "## Omdat San Francisco de 1e waarde is in de tabel laat hij denk ik deze zien."
   ]
  },
  {
   "cell_type": "code",
   "execution_count": 10,
   "id": "37c5b159-2c5d-431c-b2f9-eb207795a48f",
   "metadata": {},
   "outputs": [
    {
     "data": {
      "text/plain": [
       "<Axes: xlabel='Ride Time', ylabel='Ride Fare'>"
      ]
     },
     "execution_count": 10,
     "metadata": {},
     "output_type": "execute_result"
    },
    {
     "data": {
      "image/png": "[encoded data removed]",
      "text/plain": [
       "<Figure size 640x480 with 1 Axes>"
      ]
     },
     "metadata": {},
     "output_type": "display_data"
    }
   ],
   "source": [
    "# Data klopt nog niet. Moet eerst, nieuwe dataset maken met aggregaties\n",
    "sns.scatterplot(x = 'Ride Time', y = 'Ride Fare', data = df, hue = 'City')"
   ]
  },
  {
   "cell_type": "code",
   "execution_count": 15,
   "id": "668525db-9b29-41f1-9fa5-45ea7de40c76",
   "metadata": {},
   "outputs": [
    {
     "data": {
      "text/plain": [
       "<seaborn.axisgrid.FacetGrid at 0x1d11c3eab60>"
      ]
     },
     "execution_count": 15,
     "metadata": {},
     "output_type": "execute_result"
    },
    {
     "data": {
      "image/png": "[encoded data removed]",
      "text/plain": [
       "<Figure size 652.625x500 with 1 Axes>"
      ]
     },
     "metadata": {},
     "output_type": "display_data"
    }
   ],
   "source": [
    "# Data klopt nog niet. Moet eerst, nieuwe dataset maken met aggregaties\n",
    "sns.lmplot(data = df, x = 'Ride Time', y = 'Ride Fare', hue = 'City')"
   ]
  },
  {
   "cell_type": "code",
   "execution_count": 18,
   "id": "8734795b-b245-49c3-8664-e604a8f633a7",
   "metadata": {},
   "outputs": [
    {
     "data": {
      "text/plain": [
       "<Axes: xlabel='City', ylabel='Ride Fare'>"
      ]
     },
     "execution_count": 18,
     "metadata": {},
     "output_type": "execute_result"
    },
    {
     "data": {
      "image/png": "[encoded data removed]",
      "text/plain": [
       "<Figure size 640x480 with 1 Axes>"
      ]
     },
     "metadata": {},
     "output_type": "display_data"
    }
   ],
   "source": [
    "# Data klopt nog niet. Moet eerst, nieuwe dataset maken met aggregaties\n",
    "sns.barplot(x = 'City', y = 'Ride Fare', data = df, hue = 'City')"
   ]
  },
  {
   "cell_type": "code",
   "execution_count": 14,
   "id": "66363f25-59dc-4895-9e69-9c742130a214",
   "metadata": {},
   "outputs": [
    {
     "data": {
      "text/plain": [
       "Text(0, 0.5, 'Ride Fares')"
      ]
     },
     "execution_count": 14,
     "metadata": {},
     "output_type": "execute_result"
    },
    {
     "data": {
      "image/png": "[encoded data removed]",
      "text/plain": [
       "<Figure size 1200x800 with 1 Axes>"
      ]
     },
     "metadata": {},
     "output_type": "display_data"
    }
   ],
   "source": [
    "\n",
    "\n",
    "# Klopt voor geen meter\n",
    "plt.figure(figsize = (12, 8))\n",
    "rides_plot = sns.countplot(x = 'City', data = df)\n",
    "for p in rides_plot.patches:\n",
    "    rides_plot.annotate(p.get_height(), \n",
    "                        (p.get_x() + p.get_width() / 2.0, \n",
    "                         p.get_height()), \n",
    "                        ha = 'center', \n",
    "                        va = 'center', \n",
    "                        xytext = (0, 5),\n",
    "                        textcoords = 'offset points')\n",
    "\n",
    "plt.title(\"Fares per City\")\n",
    "plt.xlabel(\"Cities\")\n",
    "plt.ylabel(\"Ride Fares\")"
   ]
  },
  {
   "cell_type": "code",
   "execution_count": null,
   "id": "40add13b-7902-429d-aa31-16392529fa8e",
   "metadata": {},
   "outputs": [],
   "source": []
  }
 ],
 "metadata": {
  "kernelspec": {
   "display_name": "Python 3 (ipykernel)",
   "language": "python",
   "name": "python3"
  },
  "language_info": {
   "codemirror_mode": {
    "name": "ipython",
    "version": 3
   },
   "file_extension": ".py",
   "mimetype": "text/x-python",
   "name": "python",
   "nbconvert_exporter": "python",
   "pygments_lexer": "ipython3",
   "version": "3.10.9"
  }
 },
 "nbformat": 4,
 "nbformat_minor": 5
}
