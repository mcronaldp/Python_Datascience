{
 "cells": [
  {
   "cell_type": "markdown",
   "id": "685bc82c",
   "metadata": {},
   "source": [
    "#### pip install polars"
   ]
  },
  {
   "cell_type": "markdown",
   "id": "31b12c34",
   "metadata": {},
   "source": [
    "# Titanic"
   ]
  },
  {
   "cell_type": "code",
   "execution_count": 1,
   "id": "f0259d10",
   "metadata": {},
   "outputs": [
    {
     "data": {
      "text/html": [
       "<div><style>\n",
       ".dataframe > thead > tr > th,\n",
       ".dataframe > tbody > tr > td {\n",
       "  text-align: right;\n",
       "}\n",
       "</style>\n",
       "<small>shape: (5, 12)</small><table border=\"1\" class=\"dataframe\"><thead><tr><th>PassengerId</th><th>Survived</th><th>Pclass</th><th>Name</th><th>Sex</th><th>Age</th><th>SibSp</th><th>Parch</th><th>Ticket</th><th>Fare</th><th>Cabin</th><th>Embarked</th></tr><tr><td>i64</td><td>i64</td><td>i64</td><td>str</td><td>str</td><td>f64</td><td>i64</td><td>i64</td><td>str</td><td>f64</td><td>str</td><td>str</td></tr></thead><tbody><tr><td>892</td><td>0</td><td>3</td><td>&quot;Kelly, Mr. Jam…</td><td>&quot;male&quot;</td><td>34.5</td><td>0</td><td>0</td><td>&quot;330911&quot;</td><td>7.8292</td><td>null</td><td>&quot;Q&quot;</td></tr><tr><td>893</td><td>1</td><td>3</td><td>&quot;Wilkes, Mrs. J…</td><td>&quot;female&quot;</td><td>47.0</td><td>1</td><td>0</td><td>&quot;363272&quot;</td><td>7.0</td><td>null</td><td>&quot;S&quot;</td></tr><tr><td>894</td><td>0</td><td>2</td><td>&quot;Myles, Mr. Tho…</td><td>&quot;male&quot;</td><td>62.0</td><td>0</td><td>0</td><td>&quot;240276&quot;</td><td>9.6875</td><td>null</td><td>&quot;Q&quot;</td></tr><tr><td>895</td><td>0</td><td>3</td><td>&quot;Wirz, Mr. Albe…</td><td>&quot;male&quot;</td><td>27.0</td><td>0</td><td>0</td><td>&quot;315154&quot;</td><td>8.6625</td><td>null</td><td>&quot;S&quot;</td></tr><tr><td>896</td><td>1</td><td>3</td><td>&quot;Hirvonen, Mrs.…</td><td>&quot;female&quot;</td><td>22.0</td><td>1</td><td>1</td><td>&quot;3101298&quot;</td><td>12.2875</td><td>null</td><td>&quot;S&quot;</td></tr></tbody></table></div>"
      ],
      "text/plain": [
       "shape: (5, 12)\n",
       "┌─────────────┬──────────┬────────┬─────────────────────┬───┬─────────┬─────────┬───────┬──────────┐\n",
       "│ PassengerId ┆ Survived ┆ Pclass ┆ Name                ┆ … ┆ Ticket  ┆ Fare    ┆ Cabin ┆ Embarked │\n",
       "│ ---         ┆ ---      ┆ ---    ┆ ---                 ┆   ┆ ---     ┆ ---     ┆ ---   ┆ ---      │\n",
       "│ i64         ┆ i64      ┆ i64    ┆ str                 ┆   ┆ str     ┆ f64     ┆ str   ┆ str      │\n",
       "╞═════════════╪══════════╪════════╪═════════════════════╪═══╪═════════╪═════════╪═══════╪══════════╡\n",
       "│ 892         ┆ 0        ┆ 3      ┆ Kelly, Mr. James    ┆ … ┆ 330911  ┆ 7.8292  ┆ null  ┆ Q        │\n",
       "│ 893         ┆ 1        ┆ 3      ┆ Wilkes, Mrs. James  ┆ … ┆ 363272  ┆ 7.0     ┆ null  ┆ S        │\n",
       "│             ┆          ┆        ┆ (Ellen Needs)       ┆   ┆         ┆         ┆       ┆          │\n",
       "│ 894         ┆ 0        ┆ 2      ┆ Myles, Mr. Thomas   ┆ … ┆ 240276  ┆ 9.6875  ┆ null  ┆ Q        │\n",
       "│             ┆          ┆        ┆ Francis             ┆   ┆         ┆         ┆       ┆          │\n",
       "│ 895         ┆ 0        ┆ 3      ┆ Wirz, Mr. Albert    ┆ … ┆ 315154  ┆ 8.6625  ┆ null  ┆ S        │\n",
       "│ 896         ┆ 1        ┆ 3      ┆ Hirvonen, Mrs.      ┆ … ┆ 3101298 ┆ 12.2875 ┆ null  ┆ S        │\n",
       "│             ┆          ┆        ┆ Alexander (Helga …  ┆   ┆         ┆         ┆       ┆          │\n",
       "└─────────────┴──────────┴────────┴─────────────────────┴───┴─────────┴─────────┴───────┴──────────┘"
      ]
     },
     "execution_count": 1,
     "metadata": {},
     "output_type": "execute_result"
    }
   ],
   "source": [
    "import polars as pl\n",
    "df = pl.read_csv(source=r\"files/titanicdata.csv\",\n",
    "                 has_header=True,\n",
    "                separator=\",\")\n",
    "\n",
    "df.head()"
   ]
  },
  {
   "cell_type": "markdown",
   "id": "bad8ce4c",
   "metadata": {},
   "source": [
    "## Parquet file van maken"
   ]
  },
  {
   "cell_type": "code",
   "execution_count": 2,
   "id": "d5398f2d",
   "metadata": {},
   "outputs": [],
   "source": [
    "df.write_parquet(file=r\"files\\titanic_parquet.parquet\",compression=\"zstd\")"
   ]
  },
  {
   "cell_type": "markdown",
   "id": "e65f70de",
   "metadata": {},
   "source": [
    "## Parquet file lezen"
   ]
  },
  {
   "cell_type": "code",
   "execution_count": 3,
   "id": "8688f23c",
   "metadata": {},
   "outputs": [
    {
     "data": {
      "text/html": [
       "<div><style>\n",
       ".dataframe > thead > tr > th,\n",
       ".dataframe > tbody > tr > td {\n",
       "  text-align: right;\n",
       "}\n",
       "</style>\n",
       "<small>shape: (5, 3)</small><table border=\"1\" class=\"dataframe\"><thead><tr><th>PassengerId</th><th>Name</th><th>Fare</th></tr><tr><td>i64</td><td>str</td><td>f64</td></tr></thead><tbody><tr><td>892</td><td>&quot;Kelly, Mr. Jam…</td><td>7.8292</td></tr><tr><td>893</td><td>&quot;Wilkes, Mrs. J…</td><td>7.0</td></tr><tr><td>894</td><td>&quot;Myles, Mr. Tho…</td><td>9.6875</td></tr><tr><td>895</td><td>&quot;Wirz, Mr. Albe…</td><td>8.6625</td></tr><tr><td>896</td><td>&quot;Hirvonen, Mrs.…</td><td>12.2875</td></tr></tbody></table></div>"
      ],
      "text/plain": [
       "shape: (5, 3)\n",
       "┌─────────────┬───────────────────────────────────┬─────────┐\n",
       "│ PassengerId ┆ Name                              ┆ Fare    │\n",
       "│ ---         ┆ ---                               ┆ ---     │\n",
       "│ i64         ┆ str                               ┆ f64     │\n",
       "╞═════════════╪═══════════════════════════════════╪═════════╡\n",
       "│ 892         ┆ Kelly, Mr. James                  ┆ 7.8292  │\n",
       "│ 893         ┆ Wilkes, Mrs. James (Ellen Needs)  ┆ 7.0     │\n",
       "│ 894         ┆ Myles, Mr. Thomas Francis         ┆ 9.6875  │\n",
       "│ 895         ┆ Wirz, Mr. Albert                  ┆ 8.6625  │\n",
       "│ 896         ┆ Hirvonen, Mrs. Alexander (Helga … ┆ 12.2875 │\n",
       "└─────────────┴───────────────────────────────────┴─────────┘"
      ]
     },
     "execution_count": 3,
     "metadata": {},
     "output_type": "execute_result"
    }
   ],
   "source": [
    "dfparquet = pl.read_parquet(\n",
    "    source=r\"files\\titanic_parquet.parquet\",\n",
    "    columns=[\"PassengerId\", \"Name\", \"Fare\"]) # We selecteren alleen de kolommen die we willen zien.\n",
    "dfparquet.head()"
   ]
  },
  {
   "cell_type": "markdown",
   "id": "f8a885d1",
   "metadata": {},
   "source": [
    "## Feather file van maken\n",
    "https://pola-rs.github.io/polars/py-polars/html/reference/io.html"
   ]
  },
  {
   "cell_type": "code",
   "execution_count": 4,
   "id": "41509938",
   "metadata": {},
   "outputs": [],
   "source": [
    "df.write_ipc(file=r\"files\\titanic_feather.feather\",\n",
    "             compression=\"zstd\")"
   ]
  },
  {
   "cell_type": "markdown",
   "id": "8dd8ee11",
   "metadata": {},
   "source": [
    "## Read feather file"
   ]
  },
  {
   "cell_type": "code",
   "execution_count": 5,
   "id": "2adc009d",
   "metadata": {},
   "outputs": [
    {
     "data": {
      "text/html": [
       "<div><style>\n",
       ".dataframe > thead > tr > th,\n",
       ".dataframe > tbody > tr > td {\n",
       "  text-align: right;\n",
       "}\n",
       "</style>\n",
       "<small>shape: (50, 12)</small><table border=\"1\" class=\"dataframe\"><thead><tr><th>PassengerId</th><th>Survived</th><th>Pclass</th><th>Name</th><th>Sex</th><th>Age</th><th>SibSp</th><th>Parch</th><th>Ticket</th><th>Fare</th><th>Cabin</th><th>Embarked</th></tr><tr><td>i64</td><td>i64</td><td>i64</td><td>str</td><td>str</td><td>f64</td><td>i64</td><td>i64</td><td>str</td><td>f64</td><td>str</td><td>str</td></tr></thead><tbody><tr><td>892</td><td>0</td><td>3</td><td>&quot;Kelly, Mr. Jam…</td><td>&quot;male&quot;</td><td>34.5</td><td>0</td><td>0</td><td>&quot;330911&quot;</td><td>7.8292</td><td>null</td><td>&quot;Q&quot;</td></tr><tr><td>893</td><td>1</td><td>3</td><td>&quot;Wilkes, Mrs. J…</td><td>&quot;female&quot;</td><td>47.0</td><td>1</td><td>0</td><td>&quot;363272&quot;</td><td>7.0</td><td>null</td><td>&quot;S&quot;</td></tr><tr><td>894</td><td>0</td><td>2</td><td>&quot;Myles, Mr. Tho…</td><td>&quot;male&quot;</td><td>62.0</td><td>0</td><td>0</td><td>&quot;240276&quot;</td><td>9.6875</td><td>null</td><td>&quot;Q&quot;</td></tr><tr><td>895</td><td>0</td><td>3</td><td>&quot;Wirz, Mr. Albe…</td><td>&quot;male&quot;</td><td>27.0</td><td>0</td><td>0</td><td>&quot;315154&quot;</td><td>8.6625</td><td>null</td><td>&quot;S&quot;</td></tr><tr><td>896</td><td>1</td><td>3</td><td>&quot;Hirvonen, Mrs.…</td><td>&quot;female&quot;</td><td>22.0</td><td>1</td><td>1</td><td>&quot;3101298&quot;</td><td>12.2875</td><td>null</td><td>&quot;S&quot;</td></tr><tr><td>897</td><td>0</td><td>3</td><td>&quot;Svensson, Mr. …</td><td>&quot;male&quot;</td><td>14.0</td><td>0</td><td>0</td><td>&quot;7538&quot;</td><td>9.225</td><td>null</td><td>&quot;S&quot;</td></tr><tr><td>898</td><td>1</td><td>3</td><td>&quot;Connolly, Miss…</td><td>&quot;female&quot;</td><td>30.0</td><td>0</td><td>0</td><td>&quot;330972&quot;</td><td>7.6292</td><td>null</td><td>&quot;Q&quot;</td></tr><tr><td>899</td><td>0</td><td>2</td><td>&quot;Caldwell, Mr. …</td><td>&quot;male&quot;</td><td>26.0</td><td>1</td><td>1</td><td>&quot;248738&quot;</td><td>29.0</td><td>null</td><td>&quot;S&quot;</td></tr><tr><td>900</td><td>1</td><td>3</td><td>&quot;Abrahim, Mrs. …</td><td>&quot;female&quot;</td><td>18.0</td><td>0</td><td>0</td><td>&quot;2657&quot;</td><td>7.2292</td><td>null</td><td>&quot;C&quot;</td></tr><tr><td>901</td><td>0</td><td>3</td><td>&quot;Davies, Mr. Jo…</td><td>&quot;male&quot;</td><td>21.0</td><td>2</td><td>0</td><td>&quot;A/4 48871&quot;</td><td>24.15</td><td>null</td><td>&quot;S&quot;</td></tr><tr><td>902</td><td>0</td><td>3</td><td>&quot;Ilieff, Mr. Yl…</td><td>&quot;male&quot;</td><td>null</td><td>0</td><td>0</td><td>&quot;349220&quot;</td><td>7.8958</td><td>null</td><td>&quot;S&quot;</td></tr><tr><td>903</td><td>0</td><td>1</td><td>&quot;Jones, Mr. Cha…</td><td>&quot;male&quot;</td><td>46.0</td><td>0</td><td>0</td><td>&quot;694&quot;</td><td>26.0</td><td>null</td><td>&quot;S&quot;</td></tr><tr><td>&hellip;</td><td>&hellip;</td><td>&hellip;</td><td>&hellip;</td><td>&hellip;</td><td>&hellip;</td><td>&hellip;</td><td>&hellip;</td><td>&hellip;</td><td>&hellip;</td><td>&hellip;</td><td>&hellip;</td></tr><tr><td>930</td><td>0</td><td>3</td><td>&quot;Sap, Mr. Juliu…</td><td>&quot;male&quot;</td><td>25.0</td><td>0</td><td>0</td><td>&quot;345768&quot;</td><td>9.5</td><td>null</td><td>&quot;S&quot;</td></tr><tr><td>931</td><td>0</td><td>3</td><td>&quot;Hee, Mr. Ling&quot;</td><td>&quot;male&quot;</td><td>null</td><td>0</td><td>0</td><td>&quot;1601&quot;</td><td>56.4958</td><td>null</td><td>&quot;S&quot;</td></tr><tr><td>932</td><td>0</td><td>3</td><td>&quot;Karun, Mr. Fra…</td><td>&quot;male&quot;</td><td>39.0</td><td>0</td><td>1</td><td>&quot;349256&quot;</td><td>13.4167</td><td>null</td><td>&quot;C&quot;</td></tr><tr><td>933</td><td>0</td><td>1</td><td>&quot;Franklin, Mr. …</td><td>&quot;male&quot;</td><td>null</td><td>0</td><td>0</td><td>&quot;113778&quot;</td><td>26.55</td><td>&quot;D34&quot;</td><td>&quot;S&quot;</td></tr><tr><td>934</td><td>0</td><td>3</td><td>&quot;Goldsmith, Mr.…</td><td>&quot;male&quot;</td><td>41.0</td><td>0</td><td>0</td><td>&quot;SOTON/O.Q. 310…</td><td>7.85</td><td>null</td><td>&quot;S&quot;</td></tr><tr><td>935</td><td>1</td><td>2</td><td>&quot;Corbett, Mrs. …</td><td>&quot;female&quot;</td><td>30.0</td><td>0</td><td>0</td><td>&quot;237249&quot;</td><td>13.0</td><td>null</td><td>&quot;S&quot;</td></tr><tr><td>936</td><td>1</td><td>1</td><td>&quot;Kimball, Mrs. …</td><td>&quot;female&quot;</td><td>45.0</td><td>1</td><td>0</td><td>&quot;11753&quot;</td><td>52.5542</td><td>&quot;D19&quot;</td><td>&quot;S&quot;</td></tr><tr><td>937</td><td>0</td><td>3</td><td>&quot;Peltomaki, Mr.…</td><td>&quot;male&quot;</td><td>25.0</td><td>0</td><td>0</td><td>&quot;STON/O 2. 3101…</td><td>7.925</td><td>null</td><td>&quot;S&quot;</td></tr><tr><td>938</td><td>0</td><td>1</td><td>&quot;Chevre, Mr. Pa…</td><td>&quot;male&quot;</td><td>45.0</td><td>0</td><td>0</td><td>&quot;PC 17594&quot;</td><td>29.7</td><td>&quot;A9&quot;</td><td>&quot;C&quot;</td></tr><tr><td>939</td><td>0</td><td>3</td><td>&quot;Shaughnessy, M…</td><td>&quot;male&quot;</td><td>null</td><td>0</td><td>0</td><td>&quot;370374&quot;</td><td>7.75</td><td>null</td><td>&quot;Q&quot;</td></tr><tr><td>940</td><td>1</td><td>1</td><td>&quot;Bucknell, Mrs.…</td><td>&quot;female&quot;</td><td>60.0</td><td>0</td><td>0</td><td>&quot;11813&quot;</td><td>76.2917</td><td>&quot;D15&quot;</td><td>&quot;C&quot;</td></tr><tr><td>941</td><td>1</td><td>3</td><td>&quot;Coutts, Mrs. W…</td><td>&quot;female&quot;</td><td>36.0</td><td>0</td><td>2</td><td>&quot;C.A. 37671&quot;</td><td>15.9</td><td>null</td><td>&quot;S&quot;</td></tr></tbody></table></div>"
      ],
      "text/plain": [
       "shape: (50, 12)\n",
       "┌─────────────┬──────────┬────────┬──────────────────┬───┬────────────┬─────────┬───────┬──────────┐\n",
       "│ PassengerId ┆ Survived ┆ Pclass ┆ Name             ┆ … ┆ Ticket     ┆ Fare    ┆ Cabin ┆ Embarked │\n",
       "│ ---         ┆ ---      ┆ ---    ┆ ---              ┆   ┆ ---        ┆ ---     ┆ ---   ┆ ---      │\n",
       "│ i64         ┆ i64      ┆ i64    ┆ str              ┆   ┆ str        ┆ f64     ┆ str   ┆ str      │\n",
       "╞═════════════╪══════════╪════════╪══════════════════╪═══╪════════════╪═════════╪═══════╪══════════╡\n",
       "│ 892         ┆ 0        ┆ 3      ┆ Kelly, Mr. James ┆ … ┆ 330911     ┆ 7.8292  ┆ null  ┆ Q        │\n",
       "│ 893         ┆ 1        ┆ 3      ┆ Wilkes, Mrs.     ┆ … ┆ 363272     ┆ 7.0     ┆ null  ┆ S        │\n",
       "│             ┆          ┆        ┆ James (Ellen     ┆   ┆            ┆         ┆       ┆          │\n",
       "│             ┆          ┆        ┆ Needs)           ┆   ┆            ┆         ┆       ┆          │\n",
       "│ 894         ┆ 0        ┆ 2      ┆ Myles, Mr.       ┆ … ┆ 240276     ┆ 9.6875  ┆ null  ┆ Q        │\n",
       "│             ┆          ┆        ┆ Thomas Francis   ┆   ┆            ┆         ┆       ┆          │\n",
       "│ 895         ┆ 0        ┆ 3      ┆ Wirz, Mr. Albert ┆ … ┆ 315154     ┆ 8.6625  ┆ null  ┆ S        │\n",
       "│ …           ┆ …        ┆ …      ┆ …                ┆ … ┆ …          ┆ …       ┆ …     ┆ …        │\n",
       "│ 938         ┆ 0        ┆ 1      ┆ Chevre, Mr. Paul ┆ … ┆ PC 17594   ┆ 29.7    ┆ A9    ┆ C        │\n",
       "│             ┆          ┆        ┆ Romaine          ┆   ┆            ┆         ┆       ┆          │\n",
       "│ 939         ┆ 0        ┆ 3      ┆ Shaughnessy, Mr. ┆ … ┆ 370374     ┆ 7.75    ┆ null  ┆ Q        │\n",
       "│             ┆          ┆        ┆ Patrick          ┆   ┆            ┆         ┆       ┆          │\n",
       "│ 940         ┆ 1        ┆ 1      ┆ Bucknell, Mrs.   ┆ … ┆ 11813      ┆ 76.2917 ┆ D15   ┆ C        │\n",
       "│             ┆          ┆        ┆ William Robert   ┆   ┆            ┆         ┆       ┆          │\n",
       "│             ┆          ┆        ┆ (E…              ┆   ┆            ┆         ┆       ┆          │\n",
       "│ 941         ┆ 1        ┆ 3      ┆ Coutts, Mrs.     ┆ … ┆ C.A. 37671 ┆ 15.9    ┆ null  ┆ S        │\n",
       "│             ┆          ┆        ┆ William (Winnie  ┆   ┆            ┆         ┆       ┆          │\n",
       "│             ┆          ┆        ┆ Min…             ┆   ┆            ┆         ┆       ┆          │\n",
       "└─────────────┴──────────┴────────┴──────────────────┴───┴────────────┴─────────┴───────┴──────────┘"
      ]
     },
     "execution_count": 5,
     "metadata": {},
     "output_type": "execute_result"
    }
   ],
   "source": [
    "dffeather = pl.read_ipc(source=r\"files\\titanic_feather.feather\")\n",
    "dffeather.head(50)"
   ]
  },
  {
   "cell_type": "markdown",
   "id": "ed1bf9c1-b9c5-4383-afe7-834e26444898",
   "metadata": {},
   "source": [
    "# Avg/Mean Age"
   ]
  },
  {
   "cell_type": "code",
   "execution_count": 1,
   "id": "f738b1bb-0d08-4358-b32e-705c11586de4",
   "metadata": {},
   "outputs": [
    {
     "ename": "NameError",
     "evalue": "name 'df' is not defined",
     "output_type": "error",
     "traceback": [
      "\u001b[1;31m---------------------------------------------------------------------------\u001b[0m",
      "\u001b[1;31mNameError\u001b[0m                                 Traceback (most recent call last)",
      "Cell \u001b[1;32mIn[1], line 1\u001b[0m\n\u001b[1;32m----> 1\u001b[0m df[\u001b[38;5;124m\"\u001b[39m\u001b[38;5;124mMean_age\u001b[39m\u001b[38;5;124m\"\u001b[39m] \u001b[38;5;241m=\u001b[39m \u001b[43mdf\u001b[49m[\u001b[38;5;124m\"\u001b[39m\u001b[38;5;124mAge\u001b[39m\u001b[38;5;124m\"\u001b[39m]\n\u001b[0;32m      2\u001b[0m df()\n",
      "\u001b[1;31mNameError\u001b[0m: name 'df' is not defined"
     ]
    }
   ],
   "source": [
    "df[\"Mean_age\"] = df[\"Age\"]\n",
    "df()"
   ]
  },
  {
   "cell_type": "markdown",
   "id": "74e20b4c-3978-46db-bc14-f514f494663b",
   "metadata": {},
   "source": [
    "# Mean berekenen"
   ]
  },
  {
   "cell_type": "code",
   "execution_count": null,
   "id": "d417e5db-5e57-4d2c-9748-4fa4d37da603",
   "metadata": {},
   "outputs": [],
   "source": []
  },
  {
   "cell_type": "code",
   "execution_count": null,
   "id": "16246626-67a6-46e9-a8fd-3c755c5a03d7",
   "metadata": {},
   "outputs": [],
   "source": []
  }
 ],
 "metadata": {
  "kernelspec": {
   "display_name": "Python 3 (ipykernel)",
   "language": "python",
   "name": "python3"
  },
  "language_info": {
   "codemirror_mode": {
    "name": "ipython",
    "version": 3
   },
   "file_extension": ".py",
   "mimetype": "text/x-python",
   "name": "python",
   "nbconvert_exporter": "python",
   "pygments_lexer": "ipython3",
   "version": "3.10.9"
  }
 },
 "nbformat": 4,
 "nbformat_minor": 5
}
