{
 "cells": [
  {
   "cell_type": "markdown",
   "id": "685bc82c",
   "metadata": {},
   "source": [
    "#### pip install polars"
   ]
  },
  {
   "cell_type": "markdown",
   "id": "31b12c34",
   "metadata": {},
   "source": [
    "# Titanic"
   ]
  },
  {
   "cell_type": "code",
   "execution_count": 30,
   "id": "f0259d10",
   "metadata": {},
   "outputs": [
    {
     "data": {
      "text/html": [
       "<div><style>\n",
       ".dataframe > thead > tr > th,\n",
       ".dataframe > tbody > tr > td {\n",
       "  text-align: right;\n",
       "}\n",
       "</style>\n",
       "<small>shape: (5, 12)</small><table border=\"1\" class=\"dataframe\"><thead><tr><th>PassengerId</th><th>Survived</th><th>Pclass</th><th>Name</th><th>Sex</th><th>Age</th><th>SibSp</th><th>Parch</th><th>Ticket</th><th>Fare</th><th>Cabin</th><th>Embarked</th></tr><tr><td>i64</td><td>i64</td><td>i64</td><td>str</td><td>str</td><td>f64</td><td>i64</td><td>i64</td><td>str</td><td>f64</td><td>str</td><td>str</td></tr></thead><tbody><tr><td>892</td><td>0</td><td>3</td><td>&quot;Kelly, Mr. Jam…</td><td>&quot;male&quot;</td><td>34.5</td><td>0</td><td>0</td><td>&quot;330911&quot;</td><td>7.8292</td><td>null</td><td>&quot;Q&quot;</td></tr><tr><td>893</td><td>1</td><td>3</td><td>&quot;Wilkes, Mrs. J…</td><td>&quot;female&quot;</td><td>47.0</td><td>1</td><td>0</td><td>&quot;363272&quot;</td><td>7.0</td><td>null</td><td>&quot;S&quot;</td></tr><tr><td>894</td><td>0</td><td>2</td><td>&quot;Myles, Mr. Tho…</td><td>&quot;male&quot;</td><td>62.0</td><td>0</td><td>0</td><td>&quot;240276&quot;</td><td>9.6875</td><td>null</td><td>&quot;Q&quot;</td></tr><tr><td>895</td><td>0</td><td>3</td><td>&quot;Wirz, Mr. Albe…</td><td>&quot;male&quot;</td><td>27.0</td><td>0</td><td>0</td><td>&quot;315154&quot;</td><td>8.6625</td><td>null</td><td>&quot;S&quot;</td></tr><tr><td>896</td><td>1</td><td>3</td><td>&quot;Hirvonen, Mrs.…</td><td>&quot;female&quot;</td><td>22.0</td><td>1</td><td>1</td><td>&quot;3101298&quot;</td><td>12.2875</td><td>null</td><td>&quot;S&quot;</td></tr></tbody></table></div>"
      ],
      "text/plain": [
       "shape: (5, 12)\n",
       "┌─────────────┬──────────┬────────┬─────────────────────┬───┬─────────┬─────────┬───────┬──────────┐\n",
       "│ PassengerId ┆ Survived ┆ Pclass ┆ Name                ┆ … ┆ Ticket  ┆ Fare    ┆ Cabin ┆ Embarked │\n",
       "│ ---         ┆ ---      ┆ ---    ┆ ---                 ┆   ┆ ---     ┆ ---     ┆ ---   ┆ ---      │\n",
       "│ i64         ┆ i64      ┆ i64    ┆ str                 ┆   ┆ str     ┆ f64     ┆ str   ┆ str      │\n",
       "╞═════════════╪══════════╪════════╪═════════════════════╪═══╪═════════╪═════════╪═══════╪══════════╡\n",
       "│ 892         ┆ 0        ┆ 3      ┆ Kelly, Mr. James    ┆ … ┆ 330911  ┆ 7.8292  ┆ null  ┆ Q        │\n",
       "│ 893         ┆ 1        ┆ 3      ┆ Wilkes, Mrs. James  ┆ … ┆ 363272  ┆ 7.0     ┆ null  ┆ S        │\n",
       "│             ┆          ┆        ┆ (Ellen Needs)       ┆   ┆         ┆         ┆       ┆          │\n",
       "│ 894         ┆ 0        ┆ 2      ┆ Myles, Mr. Thomas   ┆ … ┆ 240276  ┆ 9.6875  ┆ null  ┆ Q        │\n",
       "│             ┆          ┆        ┆ Francis             ┆   ┆         ┆         ┆       ┆          │\n",
       "│ 895         ┆ 0        ┆ 3      ┆ Wirz, Mr. Albert    ┆ … ┆ 315154  ┆ 8.6625  ┆ null  ┆ S        │\n",
       "│ 896         ┆ 1        ┆ 3      ┆ Hirvonen, Mrs.      ┆ … ┆ 3101298 ┆ 12.2875 ┆ null  ┆ S        │\n",
       "│             ┆          ┆        ┆ Alexander (Helga …  ┆   ┆         ┆         ┆       ┆          │\n",
       "└─────────────┴──────────┴────────┴─────────────────────┴───┴─────────┴─────────┴───────┴──────────┘"
      ]
     },
     "execution_count": 30,
     "metadata": {},
     "output_type": "execute_result"
    }
   ],
   "source": [
    "import polars as pl\n",
    "df = pl.read_csv(source=r\"files/titanicdata.csv\",\n",
    "                 has_header=True,\n",
    "                separator=\",\")\n",
    "\n",
    "df.head()"
   ]
  },
  {
   "cell_type": "markdown",
   "id": "bad8ce4c",
   "metadata": {},
   "source": [
    "## Parquet file van maken"
   ]
  },
  {
   "cell_type": "code",
   "execution_count": 35,
   "id": "d5398f2d",
   "metadata": {},
   "outputs": [],
   "source": [
    "df.write_parquet(file=r\"files\\titanic_parquet.parquet\",compression=\"zstd\")"
   ]
  },
  {
   "cell_type": "markdown",
   "id": "e65f70de",
   "metadata": {},
   "source": [
    "## Parquet file lezen"
   ]
  },
  {
   "cell_type": "code",
   "execution_count": 32,
   "id": "8688f23c",
   "metadata": {},
   "outputs": [
    {
     "data": {
      "text/html": [
       "<div><style>\n",
       ".dataframe > thead > tr > th,\n",
       ".dataframe > tbody > tr > td {\n",
       "  text-align: right;\n",
       "}\n",
       "</style>\n",
       "<small>shape: (5, 3)</small><table border=\"1\" class=\"dataframe\"><thead><tr><th>PassengerId</th><th>Name</th><th>Fare</th></tr><tr><td>i64</td><td>str</td><td>f64</td></tr></thead><tbody><tr><td>892</td><td>&quot;Kelly, Mr. Jam…</td><td>7.8292</td></tr><tr><td>893</td><td>&quot;Wilkes, Mrs. J…</td><td>7.0</td></tr><tr><td>894</td><td>&quot;Myles, Mr. Tho…</td><td>9.6875</td></tr><tr><td>895</td><td>&quot;Wirz, Mr. Albe…</td><td>8.6625</td></tr><tr><td>896</td><td>&quot;Hirvonen, Mrs.…</td><td>12.2875</td></tr></tbody></table></div>"
      ],
      "text/plain": [
       "shape: (5, 3)\n",
       "┌─────────────┬───────────────────────────────────┬─────────┐\n",
       "│ PassengerId ┆ Name                              ┆ Fare    │\n",
       "│ ---         ┆ ---                               ┆ ---     │\n",
       "│ i64         ┆ str                               ┆ f64     │\n",
       "╞═════════════╪═══════════════════════════════════╪═════════╡\n",
       "│ 892         ┆ Kelly, Mr. James                  ┆ 7.8292  │\n",
       "│ 893         ┆ Wilkes, Mrs. James (Ellen Needs)  ┆ 7.0     │\n",
       "│ 894         ┆ Myles, Mr. Thomas Francis         ┆ 9.6875  │\n",
       "│ 895         ┆ Wirz, Mr. Albert                  ┆ 8.6625  │\n",
       "│ 896         ┆ Hirvonen, Mrs. Alexander (Helga … ┆ 12.2875 │\n",
       "└─────────────┴───────────────────────────────────┴─────────┘"
      ]
     },
     "execution_count": 32,
     "metadata": {},
     "output_type": "execute_result"
    }
   ],
   "source": [
    "dfparquet = pl.read_parquet(\n",
    "    source=r\"files\\titanic_parquet.parquet\",\n",
    "    columns=[\"PassengerId\", \"Name\", \"Fare\"]) # We selecteren alleen de kolommen die we willen zien.\n",
    "dfparquet.head()"
   ]
  },
  {
   "cell_type": "markdown",
   "id": "f8a885d1",
   "metadata": {},
   "source": [
    "## Feather file van maken\n",
    "https://pola-rs.github.io/polars/py-polars/html/reference/io.html"
   ]
  },
  {
   "cell_type": "code",
   "execution_count": 33,
   "id": "41509938",
   "metadata": {},
   "outputs": [],
   "source": [
    "df.write_ipc(file=r\"files\\titanic_feather.feather\",\n",
    "             compression=\"zstd\")"
   ]
  },
  {
   "cell_type": "markdown",
   "id": "8dd8ee11",
   "metadata": {},
   "source": [
    "## Read feather file"
   ]
  },
  {
   "cell_type": "code",
   "execution_count": 34,
   "id": "2adc009d",
   "metadata": {},
   "outputs": [
    {
     "data": {
      "text/html": [
       "<div><style>\n",
       ".dataframe > thead > tr > th,\n",
       ".dataframe > tbody > tr > td {\n",
       "  text-align: right;\n",
       "}\n",
       "</style>\n",
       "<small>shape: (5, 12)</small><table border=\"1\" class=\"dataframe\"><thead><tr><th>PassengerId</th><th>Survived</th><th>Pclass</th><th>Name</th><th>Sex</th><th>Age</th><th>SibSp</th><th>Parch</th><th>Ticket</th><th>Fare</th><th>Cabin</th><th>Embarked</th></tr><tr><td>i64</td><td>i64</td><td>i64</td><td>str</td><td>str</td><td>f64</td><td>i64</td><td>i64</td><td>str</td><td>f64</td><td>str</td><td>str</td></tr></thead><tbody><tr><td>892</td><td>0</td><td>3</td><td>&quot;Kelly, Mr. Jam…</td><td>&quot;male&quot;</td><td>34.5</td><td>0</td><td>0</td><td>&quot;330911&quot;</td><td>7.8292</td><td>null</td><td>&quot;Q&quot;</td></tr><tr><td>893</td><td>1</td><td>3</td><td>&quot;Wilkes, Mrs. J…</td><td>&quot;female&quot;</td><td>47.0</td><td>1</td><td>0</td><td>&quot;363272&quot;</td><td>7.0</td><td>null</td><td>&quot;S&quot;</td></tr><tr><td>894</td><td>0</td><td>2</td><td>&quot;Myles, Mr. Tho…</td><td>&quot;male&quot;</td><td>62.0</td><td>0</td><td>0</td><td>&quot;240276&quot;</td><td>9.6875</td><td>null</td><td>&quot;Q&quot;</td></tr><tr><td>895</td><td>0</td><td>3</td><td>&quot;Wirz, Mr. Albe…</td><td>&quot;male&quot;</td><td>27.0</td><td>0</td><td>0</td><td>&quot;315154&quot;</td><td>8.6625</td><td>null</td><td>&quot;S&quot;</td></tr><tr><td>896</td><td>1</td><td>3</td><td>&quot;Hirvonen, Mrs.…</td><td>&quot;female&quot;</td><td>22.0</td><td>1</td><td>1</td><td>&quot;3101298&quot;</td><td>12.2875</td><td>null</td><td>&quot;S&quot;</td></tr></tbody></table></div>"
      ],
      "text/plain": [
       "shape: (5, 12)\n",
       "┌─────────────┬──────────┬────────┬─────────────────────┬───┬─────────┬─────────┬───────┬──────────┐\n",
       "│ PassengerId ┆ Survived ┆ Pclass ┆ Name                ┆ … ┆ Ticket  ┆ Fare    ┆ Cabin ┆ Embarked │\n",
       "│ ---         ┆ ---      ┆ ---    ┆ ---                 ┆   ┆ ---     ┆ ---     ┆ ---   ┆ ---      │\n",
       "│ i64         ┆ i64      ┆ i64    ┆ str                 ┆   ┆ str     ┆ f64     ┆ str   ┆ str      │\n",
       "╞═════════════╪══════════╪════════╪═════════════════════╪═══╪═════════╪═════════╪═══════╪══════════╡\n",
       "│ 892         ┆ 0        ┆ 3      ┆ Kelly, Mr. James    ┆ … ┆ 330911  ┆ 7.8292  ┆ null  ┆ Q        │\n",
       "│ 893         ┆ 1        ┆ 3      ┆ Wilkes, Mrs. James  ┆ … ┆ 363272  ┆ 7.0     ┆ null  ┆ S        │\n",
       "│             ┆          ┆        ┆ (Ellen Needs)       ┆   ┆         ┆         ┆       ┆          │\n",
       "│ 894         ┆ 0        ┆ 2      ┆ Myles, Mr. Thomas   ┆ … ┆ 240276  ┆ 9.6875  ┆ null  ┆ Q        │\n",
       "│             ┆          ┆        ┆ Francis             ┆   ┆         ┆         ┆       ┆          │\n",
       "│ 895         ┆ 0        ┆ 3      ┆ Wirz, Mr. Albert    ┆ … ┆ 315154  ┆ 8.6625  ┆ null  ┆ S        │\n",
       "│ 896         ┆ 1        ┆ 3      ┆ Hirvonen, Mrs.      ┆ … ┆ 3101298 ┆ 12.2875 ┆ null  ┆ S        │\n",
       "│             ┆          ┆        ┆ Alexander (Helga …  ┆   ┆         ┆         ┆       ┆          │\n",
       "└─────────────┴──────────┴────────┴─────────────────────┴───┴─────────┴─────────┴───────┴──────────┘"
      ]
     },
     "execution_count": 34,
     "metadata": {},
     "output_type": "execute_result"
    }
   ],
   "source": [
    "dffeather = pl.read_ipc(source=r\"files\\titanic_feather.feather\")\n",
    "dffeather.head()"
   ]
  }
 ],
 "metadata": {
  "kernelspec": {
   "display_name": "Python 3 (ipykernel)",
   "language": "python",
   "name": "python3"
  },
  "language_info": {
   "codemirror_mode": {
    "name": "ipython",
    "version": 3
   },
   "file_extension": ".py",
   "mimetype": "text/x-python",
   "name": "python",
   "nbconvert_exporter": "python",
   "pygments_lexer": "ipython3",
   "version": "3.10.9"
  }
 },
 "nbformat": 4,
 "nbformat_minor": 5
}
