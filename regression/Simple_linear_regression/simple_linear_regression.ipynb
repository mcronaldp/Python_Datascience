{
 "cells": [
  {
   "cell_type": "markdown",
   "id": "e7f005c7-b2df-4267-abdc-0731d43cc5d1",
   "metadata": {},
   "source": [
    "# Simple Linear regression\n",
    "A simple linear regression model involves a single independent variable and a single dependent variable, and it fits a straight line to the data.\r\n",
    "\r\n",
    "Example of simple linear regression: Suppose we have data on the number of hours studied by students and their scores on an exam. We want to use this data to build a model that can predict the exam score of a student given the number of hours studied. The data used in this example can be downloaded from this link."
   ]
  },
  {
   "cell_type": "code",
   "execution_count": 7,
   "id": "99146471-48d6-46a6-a038-ce266d9a07c8",
   "metadata": {},
   "outputs": [],
   "source": [
    "# pip install scikit-learn"
   ]
  },
  {
   "cell_type": "code",
   "execution_count": 8,
   "id": "fea64234-b4ae-4599-bcca-3196bed97559",
   "metadata": {},
   "outputs": [],
   "source": [
    "import pandas as pd\n",
    "from sklearn.linear_model import LinearRegression\n",
    "import matplotlib.pyplot as plt"
   ]
  },
  {
   "cell_type": "code",
   "execution_count": 12,
   "id": "37f9f89e-e9b1-40d9-842c-86a1175b859f",
   "metadata": {},
   "outputs": [
    {
     "data": {
      "text/html": [
       "<div>\n",
       "<style scoped>\n",
       "    .dataframe tbody tr th:only-of-type {\n",
       "        vertical-align: middle;\n",
       "    }\n",
       "\n",
       "    .dataframe tbody tr th {\n",
       "        vertical-align: top;\n",
       "    }\n",
       "\n",
       "    .dataframe thead th {\n",
       "        text-align: right;\n",
       "    }\n",
       "</style>\n",
       "<table border=\"1\" class=\"dataframe\">\n",
       "  <thead>\n",
       "    <tr style=\"text-align: right;\">\n",
       "      <th></th>\n",
       "      <th>Hours</th>\n",
       "      <th>Scores</th>\n",
       "    </tr>\n",
       "  </thead>\n",
       "  <tbody>\n",
       "    <tr>\n",
       "      <th>0</th>\n",
       "      <td>2.5</td>\n",
       "      <td>21</td>\n",
       "    </tr>\n",
       "    <tr>\n",
       "      <th>1</th>\n",
       "      <td>5.0</td>\n",
       "      <td>47</td>\n",
       "    </tr>\n",
       "    <tr>\n",
       "      <th>2</th>\n",
       "      <td>3.2</td>\n",
       "      <td>33</td>\n",
       "    </tr>\n",
       "    <tr>\n",
       "      <th>3</th>\n",
       "      <td>8.5</td>\n",
       "      <td>96</td>\n",
       "    </tr>\n",
       "    <tr>\n",
       "      <th>4</th>\n",
       "      <td>2.5</td>\n",
       "      <td>30</td>\n",
       "    </tr>\n",
       "  </tbody>\n",
       "</table>\n",
       "</div>"
      ],
      "text/plain": [
       "   Hours  Scores\n",
       "0    2.5      21\n",
       "1    5.0      47\n",
       "2    3.2      33\n",
       "3    8.5      96\n",
       "4    2.5      30"
      ]
     },
     "execution_count": 12,
     "metadata": {},
     "output_type": "execute_result"
    }
   ],
   "source": [
    "# load the data into a pandas DataFrame\n",
    "df = pd.read_csv(\"student_study_hours_scores.csv\")\n",
    "df.head()"
   ]
  },
  {
   "cell_type": "markdown",
   "id": "25f9d1c5-99aa-4d7c-96a0-f653ba329e26",
   "metadata": {},
   "source": [
    "## Split data into 2 features:"
   ]
  },
  {
   "cell_type": "code",
   "execution_count": 18,
   "id": "f6620683-df25-4e5a-9329-6315848864e5",
   "metadata": {},
   "outputs": [],
   "source": [
    "# split the data into features (hours studied) and target (exam scores)\n",
    "X = df[['Hours']]\n",
    "y = df['Scores']"
   ]
  },
  {
   "cell_type": "markdown",
   "id": "5abb0649-2180-4737-8600-f0017699b90b",
   "metadata": {},
   "source": [
    "## To fit the model, we use the LinearRegression() method from the scikit-learn library."
   ]
  },
  {
   "cell_type": "code",
   "execution_count": 19,
   "id": "7ddb5589-6f18-4a18-b99d-fc4ad4652854",
   "metadata": {},
   "outputs": [],
   "source": [
    "# fit the simple linear regression model\n",
    "reg = LinearRegression().fit(X, y)"
   ]
  },
  {
   "cell_type": "markdown",
   "id": "f5d7db0a-b62c-4eed-b997-6c680f0290d5",
   "metadata": {},
   "source": [
    "## predict the exam scores for students who studied for 9.25 hours"
   ]
  },
  {
   "cell_type": "code",
   "execution_count": 20,
   "id": "3984b4b7-5e2c-4955-a6d7-50f878d8d6cc",
   "metadata": {},
   "outputs": [
    {
     "name": "stderr",
     "output_type": "stream",
     "text": [
      "C:\\Users\\Ronald\\OneDrive\\Studie\\Python\\Projecten\\Python_Datascience\\venv\\Lib\\site-packages\\sklearn\\base.py:439: UserWarning: X does not have valid feature names, but LinearRegression was fitted with feature names\n",
      "  warnings.warn(\n"
     ]
    }
   ],
   "source": [
    "# predict the exam scores for students who studied for 9.25 hours\n",
    "hours = 9.25\n",
    "prediction = reg.predict([[hours]]) "
   ]
  },
  {
   "cell_type": "code",
   "execution_count": 21,
   "id": "6776cd35-2070-4a75-a369-ec30eaf9a9b0",
   "metadata": {},
   "outputs": [
    {
     "data": {
      "image/png": "[encoded data removed]",
      "text/plain": [
       "<Figure size 640x480 with 1 Axes>"
      ]
     },
     "metadata": {},
     "output_type": "display_data"
    }
   ],
   "source": [
    "# plot the data and the regression line\n",
    "plt.scatter(X, y, color='blue')\n",
    "plt.plot(X, reg.predict(X), color='red')\n",
    "plt.xlabel(\"Hours studied\")\n",
    "plt.ylabel(\"Exam score\")\n",
    "plt.show()"
   ]
  },
  {
   "cell_type": "markdown",
   "id": "0e188ead-d576-45ef-9d39-b7eb84ec4450",
   "metadata": {},
   "source": [
    "## Print prediction:"
   ]
  },
  {
   "cell_type": "code",
   "execution_count": 22,
   "id": "5f3ee16c-3775-47c2-ada8-36fd2634b54c",
   "metadata": {},
   "outputs": [
    {
     "name": "stdout",
     "output_type": "stream",
     "text": [
      "A student who studies for 9.25 hours will get an exam score of 106.55\n"
     ]
    }
   ],
   "source": [
    "# print the prediction\n",
    "print(\"A student who studies for {:.2f} hours will get an exam score of {:.2f}\".format(hours, prediction[0]))"
   ]
  },
  {
   "cell_type": "markdown",
   "id": "2e967e71-1514-4d10-bccf-96f79d6f0a93",
   "metadata": {},
   "source": [
    "## Uitleg:"
   ]
  },
  {
   "cell_type": "markdown",
   "id": "167bf39e-51d6-4c9e-8c87-38c7e513e685",
   "metadata": {},
   "source": [
    "Explanation of the entire program: The output of the program is a simple linear regression model that has been fit to the data in the “student_study_hours_scores.csv” file. The model is used to predict the exam score of a student given the number of hours studied.\n",
    "\n",
    "The first part of the code loads the data into a pandas DataFrame, and then splits the data into two arrays: X, which contains the number of hours studied, and y, which contains the corresponding exam scores.\n",
    "\n",
    "The LinearRegression().fit(X, y) line fits the simple linear regression model to the data. The fit function takes the features (hours studied) and target (exam scores) as input and returns a regression model that has been trained on the data.\n",
    "\n",
    "The next part of the code uses the reg.predict([[hours]]) function to make a prediction for a student who studied for 9.25 hours. The argument to the predict function is a 2D array, with one row and one column, representing the number of hours studied. The result is an array with one element, which is the predicted exam score.\n",
    "\n",
    "Finally, the code uses matplotlib to plot the data and the regression line. The plt.scatter function plots the data as a scatter plot, and the plt.plot function plots the regression line. The plt.xlabel and plt.ylabel functions are used to label the x-axis and y-axis, respectively. The plt.show function displays the plot.\n",
    "\n",
    "Finally, the predicted exam score is printed on the console. The format string \"A student who studies for {:.2f} hours will get an exam score of {:.2f}\" is used to display the prediction in a readable format. The {:.2f} format specifier is used to round the number to two decimal places."
   ]
  },
  {
   "cell_type": "code",
   "execution_count": null,
   "id": "bb0cd4ef-03aa-4542-848b-b96bf4a5bfc0",
   "metadata": {},
   "outputs": [],
   "source": []
  }
 ],
 "metadata": {
  "kernelspec": {
   "display_name": "Python 3 (ipykernel)",
   "language": "python",
   "name": "python3"
  },
  "language_info": {
   "codemirror_mode": {
    "name": "ipython",
    "version": 3
   },
   "file_extension": ".py",
   "mimetype": "text/x-python",
   "name": "python",
   "nbconvert_exporter": "python",
   "pygments_lexer": "ipython3",
   "version": "3.11.0"
  }
 },
 "nbformat": 4,
 "nbformat_minor": 5
}
